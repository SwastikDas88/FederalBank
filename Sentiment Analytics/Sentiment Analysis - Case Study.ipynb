{
 "cells": [
  {
   "cell_type": "markdown",
   "metadata": {},
   "source": [
    "### Importing Important Library"
   ]
  },
  {
   "cell_type": "code",
   "execution_count": 42,
   "metadata": {},
   "outputs": [],
   "source": [
    "# pip install GoogleNews"
   ]
  },
  {
   "cell_type": "code",
   "execution_count": 3,
   "metadata": {},
   "outputs": [],
   "source": [
    "import pandas as pd\n",
    "from GoogleNews import GoogleNews\n",
    "import pandas as pd\n",
    "import seaborn as sns\n",
    "import numpy as np\n",
    "import matplotlib.pyplot as plt\n",
    "%matplotlib inline\n",
    "import string\n",
    "import nltk\n",
    "from nltk.stem import WordNetLemmatizer\n",
    "from nltk.corpus import wordnet\n",
    "from sklearn.model_selection import train_test_split\n",
    "from sklearn.feature_extraction.text import CountVectorizer,TfidfTransformer,TfidfVectorizer\n",
    "from textblob import TextBlob\n",
    "from wordcloud import WordCloud, STOPWORDS\n",
    "from sklearn.decomposition import LatentDirichletAllocation\n",
    "from vaderSentiment.vaderSentiment import SentimentIntensityAnalyzer\n",
    "from sklearn.naive_bayes import MultinomialNB\n",
    "from sklearn import metrics\n",
    "from sklearn.model_selection import GridSearchCV"
   ]
  },
  {
   "cell_type": "markdown",
   "metadata": {},
   "source": [
    "### Getting news about  Federal Bank using GoogleNews "
   ]
  },
  {
   "cell_type": "code",
   "execution_count": 4,
   "metadata": {},
   "outputs": [],
   "source": [
    "# Creating google news object\n",
    "googlenews = GoogleNews()"
   ]
  },
  {
   "cell_type": "code",
   "execution_count": 5,
   "metadata": {},
   "outputs": [],
   "source": [
    "#choose language\n",
    "googlenews = GoogleNews(lang='en')"
   ]
  },
  {
   "cell_type": "code",
   "execution_count": 6,
   "metadata": {},
   "outputs": [
    {
     "name": "stdout",
     "output_type": "stream",
     "text": [
      "HTTP Error 429: Too Many Requests\n",
      "HTTP Error 429: Too Many Requests\n",
      "HTTP Error 429: Too Many Requests\n",
      "HTTP Error 429: Too Many Requests\n",
      "HTTP Error 429: Too Many Requests\n",
      "HTTP Error 429: Too Many Requests\n"
     ]
    }
   ],
   "source": [
    "#Searching the news about federal bank.\n",
    "googlenews=GoogleNews(start='05/01/2021',end='05/31/2020') #googlenews object\n",
    "googlenews.search('Federal Bank India') #searchword\n",
    "for i in range(1,20): #looping over and getting the news till 20 pages.\n",
    "    googlenews.getpage(i)\n",
    "    result=googlenews.result()\n",
    "    df1=pd.DataFrame(result)"
   ]
  },
  {
   "cell_type": "code",
   "execution_count": 7,
   "metadata": {},
   "outputs": [
    {
     "data": {
      "text/html": [
       "<div>\n",
       "<style scoped>\n",
       "    .dataframe tbody tr th:only-of-type {\n",
       "        vertical-align: middle;\n",
       "    }\n",
       "\n",
       "    .dataframe tbody tr th {\n",
       "        vertical-align: top;\n",
       "    }\n",
       "\n",
       "    .dataframe thead th {\n",
       "        text-align: right;\n",
       "    }\n",
       "</style>\n",
       "<table border=\"1\" class=\"dataframe\">\n",
       "  <thead>\n",
       "    <tr style=\"text-align: right;\">\n",
       "      <th></th>\n",
       "      <th>title</th>\n",
       "      <th>media</th>\n",
       "      <th>date</th>\n",
       "      <th>datetime</th>\n",
       "      <th>desc</th>\n",
       "      <th>link</th>\n",
       "      <th>img</th>\n",
       "    </tr>\n",
       "  </thead>\n",
       "  <tbody>\n",
       "    <tr>\n",
       "      <th>0</th>\n",
       "      <td>​Tata Communications, Federal Bank: Top Stocks...</td>\n",
       "      <td>News18</td>\n",
       "      <td>20-Jan-2021</td>\n",
       "      <td>None</td>\n",
       "      <td>The Indian stock market is expected to open wi...</td>\n",
       "      <td>https://www.news18.com/news/business/tata-comm...</td>\n",
       "      <td>data:image/gif;base64,R0lGODlhAQABAIAAAP//////...</td>\n",
       "    </tr>\n",
       "    <tr>\n",
       "      <th>1</th>\n",
       "      <td>Stock market update: Nifty Bank index jumps ov...</td>\n",
       "      <td>The Economic Times</td>\n",
       "      <td>16-Oct-2020</td>\n",
       "      <td>None</td>\n",
       "      <td>, Tata Motors, Ashok Leyland and Federal Bank ...</td>\n",
       "      <td>https://economictimes.indiatimes.com/markets/s...</td>\n",
       "      <td>data:image/gif;base64,R0lGODlhAQABAIAAAP//////...</td>\n",
       "    </tr>\n",
       "    <tr>\n",
       "      <th>2</th>\n",
       "      <td>Banks, financials lift Sensex by 254 points; N...</td>\n",
       "      <td>Mint</td>\n",
       "      <td>th · 16-Oct-2020</td>\n",
       "      <td>None</td>\n",
       "      <td>The Competition Commission of India is investi...</td>\n",
       "      <td>https://www.livemint.com/market/stock-market-n...</td>\n",
       "      <td>data:image/gif;base64,R0lGODlhAQABAIAAAP//////...</td>\n",
       "    </tr>\n",
       "    <tr>\n",
       "      <th>3</th>\n",
       "      <td>Stock Market Highlights: Sensex, Nifty ends hi...</td>\n",
       "      <td>CNBCTV18</td>\n",
       "      <td>16-Oct-2020</td>\n",
       "      <td>None</td>\n",
       "      <td>Stock Market Highlights: Indian equity benchma...</td>\n",
       "      <td>https://www.cnbctv18.com/market/stock-market-l...</td>\n",
       "      <td>data:image/gif;base64,R0lGODlhAQABAIAAAP//////...</td>\n",
       "    </tr>\n",
       "    <tr>\n",
       "      <th>4</th>\n",
       "      <td>M&amp;M Fin, Federal Bank: Top financial picks pos...</td>\n",
       "      <td>Business Standard</td>\n",
       "      <td>14-Sep-2020</td>\n",
       "      <td>None</td>\n",
       "      <td>Mid- and small-cap banking stocks such as City...</td>\n",
       "      <td>https://www.business-standard.com/article/mark...</td>\n",
       "      <td>data:image/gif;base64,R0lGODlhAQABAIAAAP//////...</td>\n",
       "    </tr>\n",
       "  </tbody>\n",
       "</table>\n",
       "</div>"
      ],
      "text/plain": [
       "                                               title               media  \\\n",
       "0  ​Tata Communications, Federal Bank: Top Stocks...              News18   \n",
       "1  Stock market update: Nifty Bank index jumps ov...  The Economic Times   \n",
       "2  Banks, financials lift Sensex by 254 points; N...                Mint   \n",
       "3  Stock Market Highlights: Sensex, Nifty ends hi...            CNBCTV18   \n",
       "4  M&M Fin, Federal Bank: Top financial picks pos...   Business Standard   \n",
       "\n",
       "               date datetime  \\\n",
       "0       20-Jan-2021     None   \n",
       "1       16-Oct-2020     None   \n",
       "2  th · 16-Oct-2020     None   \n",
       "3       16-Oct-2020     None   \n",
       "4       14-Sep-2020     None   \n",
       "\n",
       "                                                desc  \\\n",
       "0  The Indian stock market is expected to open wi...   \n",
       "1  , Tata Motors, Ashok Leyland and Federal Bank ...   \n",
       "2  The Competition Commission of India is investi...   \n",
       "3  Stock Market Highlights: Indian equity benchma...   \n",
       "4  Mid- and small-cap banking stocks such as City...   \n",
       "\n",
       "                                                link  \\\n",
       "0  https://www.news18.com/news/business/tata-comm...   \n",
       "1  https://economictimes.indiatimes.com/markets/s...   \n",
       "2  https://www.livemint.com/market/stock-market-n...   \n",
       "3  https://www.cnbctv18.com/market/stock-market-l...   \n",
       "4  https://www.business-standard.com/article/mark...   \n",
       "\n",
       "                                                 img  \n",
       "0  data:image/gif;base64,R0lGODlhAQABAIAAAP//////...  \n",
       "1  data:image/gif;base64,R0lGODlhAQABAIAAAP//////...  \n",
       "2  data:image/gif;base64,R0lGODlhAQABAIAAAP//////...  \n",
       "3  data:image/gif;base64,R0lGODlhAQABAIAAAP//////...  \n",
       "4  data:image/gif;base64,R0lGODlhAQABAIAAAP//////...  "
      ]
     },
     "execution_count": 7,
     "metadata": {},
     "output_type": "execute_result"
    }
   ],
   "source": [
    "df1.head()"
   ]
  },
  {
   "cell_type": "code",
   "execution_count": 8,
   "metadata": {},
   "outputs": [
    {
     "data": {
      "text/plain": [
       "'Stock market update: Nifty Bank index jumps over 2%; Federal Bank climbs 3%'"
      ]
     },
     "execution_count": 8,
     "metadata": {},
     "output_type": "execute_result"
    }
   ],
   "source": [
    "df1['title'][1]"
   ]
  },
  {
   "cell_type": "code",
   "execution_count": 9,
   "metadata": {},
   "outputs": [
    {
     "data": {
      "text/plain": [
       "', Tata Motors, Ashok Leyland and Federal Bank were among the most traded shares on the NSE. Shares of Poly Medicure, Amber Enterprises India Ltd., JSW ...'"
      ]
     },
     "execution_count": 9,
     "metadata": {},
     "output_type": "execute_result"
    }
   ],
   "source": [
    "df1['desc'][1]"
   ]
  },
  {
   "cell_type": "code",
   "execution_count": 10,
   "metadata": {},
   "outputs": [],
   "source": [
    "# Text data of Review\n",
    "X = df1['desc']"
   ]
  },
  {
   "cell_type": "markdown",
   "metadata": {},
   "source": [
    "### Creating the target variable  using Textblob."
   ]
  },
  {
   "cell_type": "code",
   "execution_count": 11,
   "metadata": {},
   "outputs": [],
   "source": [
    "# UDF to find sentiment polarity of the reviews\n",
    "def sentiment_review(text):\n",
    "    analysis = TextBlob(text)\n",
    "    polarity_text = analysis.sentiment.polarity\n",
    "    if polarity_text > 0:\n",
    "        return 'Positive'\n",
    "    elif polarity_text == 0:\n",
    "        return 'Neutral'\n",
    "    else:\n",
    "        return 'Negative'  "
   ]
  },
  {
   "cell_type": "code",
   "execution_count": 12,
   "metadata": {},
   "outputs": [
    {
     "name": "stdout",
     "output_type": "stream",
     "text": [
      "[{'News': 'The Indian stock market is expected to open with higher points as the SGX Nifty indicated a positive opening for the domestic market as it was trading 11 points ...', 'Sentiment': 'Positive'}, {'News': ', Tata Motors, Ashok Leyland and Federal Bank were among the most traded shares on the NSE. Shares of Poly Medicure, Amber Enterprises India Ltd., JSW ...', 'Sentiment': 'Positive'}, {'News': \"The Competition Commission of India is investigating JK Tyre & Industries Ltd after ... Federal Bank's September quarter net profit fell to 3.08 billion rupees from ...\", 'Sentiment': 'Neutral'}, {'News': 'Stock Market Highlights: Indian equity benchmark indices ended the day ... Federal Bank closes with minor gains despite reporting a stable set of earnings. 12.', 'Sentiment': 'Negative'}, {'News': 'Mid- and small-cap banking stocks such as City Union Bank, Federal Bank, and ... the Securities and Exchange Board of India had said in its circular on Friday.', 'Sentiment': 'Neutral'}]\n"
     ]
    }
   ],
   "source": [
    "# creating dictionary which will contain both the review and the sentiment of the review\n",
    "final_dictionary = []\n",
    "for text in X:\n",
    "    dictionary_sentiment = {}\n",
    "    dictionary_sentiment['News'] = text\n",
    "    dictionary_sentiment['Sentiment'] = sentiment_review(text)\n",
    "    final_dictionary.append(dictionary_sentiment)\n",
    "print(final_dictionary[:5])"
   ]
  },
  {
   "cell_type": "code",
   "execution_count": 13,
   "metadata": {},
   "outputs": [],
   "source": [
    "df=pd.DataFrame(final_dictionary)"
   ]
  },
  {
   "cell_type": "code",
   "execution_count": 14,
   "metadata": {},
   "outputs": [
    {
     "data": {
      "text/html": [
       "<div>\n",
       "<style scoped>\n",
       "    .dataframe tbody tr th:only-of-type {\n",
       "        vertical-align: middle;\n",
       "    }\n",
       "\n",
       "    .dataframe tbody tr th {\n",
       "        vertical-align: top;\n",
       "    }\n",
       "\n",
       "    .dataframe thead th {\n",
       "        text-align: right;\n",
       "    }\n",
       "</style>\n",
       "<table border=\"1\" class=\"dataframe\">\n",
       "  <thead>\n",
       "    <tr style=\"text-align: right;\">\n",
       "      <th></th>\n",
       "      <th>News</th>\n",
       "      <th>Sentiment</th>\n",
       "    </tr>\n",
       "  </thead>\n",
       "  <tbody>\n",
       "    <tr>\n",
       "      <th>0</th>\n",
       "      <td>The Indian stock market is expected to open wi...</td>\n",
       "      <td>Positive</td>\n",
       "    </tr>\n",
       "    <tr>\n",
       "      <th>1</th>\n",
       "      <td>, Tata Motors, Ashok Leyland and Federal Bank ...</td>\n",
       "      <td>Positive</td>\n",
       "    </tr>\n",
       "    <tr>\n",
       "      <th>2</th>\n",
       "      <td>The Competition Commission of India is investi...</td>\n",
       "      <td>Neutral</td>\n",
       "    </tr>\n",
       "    <tr>\n",
       "      <th>3</th>\n",
       "      <td>Stock Market Highlights: Indian equity benchma...</td>\n",
       "      <td>Negative</td>\n",
       "    </tr>\n",
       "    <tr>\n",
       "      <th>4</th>\n",
       "      <td>Mid- and small-cap banking stocks such as City...</td>\n",
       "      <td>Neutral</td>\n",
       "    </tr>\n",
       "  </tbody>\n",
       "</table>\n",
       "</div>"
      ],
      "text/plain": [
       "                                                News Sentiment\n",
       "0  The Indian stock market is expected to open wi...  Positive\n",
       "1  , Tata Motors, Ashok Leyland and Federal Bank ...  Positive\n",
       "2  The Competition Commission of India is investi...   Neutral\n",
       "3  Stock Market Highlights: Indian equity benchma...  Negative\n",
       "4  Mid- and small-cap banking stocks such as City...   Neutral"
      ]
     },
     "execution_count": 14,
     "metadata": {},
     "output_type": "execute_result"
    }
   ],
   "source": [
    "df.head()"
   ]
  },
  {
   "cell_type": "code",
   "execution_count": 15,
   "metadata": {},
   "outputs": [
    {
     "data": {
      "text/plain": [
       "Positive    64\n",
       "Neutral     55\n",
       "Negative    21\n",
       "Name: Sentiment, dtype: int64"
      ]
     },
     "execution_count": 15,
     "metadata": {},
     "output_type": "execute_result"
    }
   ],
   "source": [
    "df['Sentiment'].value_counts()"
   ]
  },
  {
   "cell_type": "code",
   "execution_count": 16,
   "metadata": {},
   "outputs": [],
   "source": [
    "# Target Variable\n",
    "Y=df['Sentiment']"
   ]
  },
  {
   "cell_type": "markdown",
   "metadata": {},
   "source": [
    "### Data Cleaning"
   ]
  },
  {
   "cell_type": "code",
   "execution_count": 17,
   "metadata": {},
   "outputs": [
    {
     "data": {
      "text/plain": [
       "0    The Indian stock market is expected to open wi...\n",
       "1    , Tata Motors, Ashok Leyland and Federal Bank ...\n",
       "2    The Competition Commission of India is investi...\n",
       "3    Stock Market Highlights: Indian equity benchma...\n",
       "4    Mid- and small-cap banking stocks such as City...\n",
       "Name: desc, dtype: object"
      ]
     },
     "execution_count": 17,
     "metadata": {},
     "output_type": "execute_result"
    }
   ],
   "source": [
    "# UDF to clean the news desc\n",
    "def clean_text(text):\n",
    "    text = text.lower()\n",
    "    text = text.strip()\n",
    "    text = \"\".join([char for char in text if char not in string.punctuation])\n",
    "    return text\n",
    "\n",
    "X.head()"
   ]
  },
  {
   "cell_type": "code",
   "execution_count": 18,
   "metadata": {},
   "outputs": [],
   "source": [
    "def clean_text(text):\n",
    "    text = text.lower()\n",
    "    text = text.strip()\n",
    "    text = \"\".join([char for char in text if char not in string.punctuation])\n",
    "    return text"
   ]
  },
  {
   "cell_type": "code",
   "execution_count": 19,
   "metadata": {},
   "outputs": [
    {
     "data": {
      "text/plain": [
       "0    the indian stock market is expected to open wi...\n",
       "1     tata motors ashok leyland and federal bank we...\n",
       "2    the competition commission of india is investi...\n",
       "3    stock market highlights indian equity benchmar...\n",
       "4    mid and smallcap banking stocks such as city u...\n",
       "Name: desc, dtype: object"
      ]
     },
     "execution_count": 19,
     "metadata": {},
     "output_type": "execute_result"
    }
   ],
   "source": [
    "# applying clean_text function defined above to remove punctuation, strip extra spaces and convert each word to lowercase\n",
    "X = X.apply(lambda y: clean_text(y))\n",
    "\n",
    "X.head()"
   ]
  },
  {
   "cell_type": "code",
   "execution_count": 20,
   "metadata": {},
   "outputs": [],
   "source": [
    "from nltk.tokenize import word_tokenize, sent_tokenize\n",
    "def get_noun_tags(tokens):\n",
    "    tokens = word_tokenize(tokens)\n",
    "    return [word for (word, pos) in nltk.pos_tag(tokens) if(pos !='NN')  and pos != 'NNP' and pos != 'NNPS' and pos != 'NNS']"
   ]
  },
  {
   "cell_type": "code",
   "execution_count": 21,
   "metadata": {},
   "outputs": [
    {
     "data": {
      "text/plain": [
       "0      the indian stock market is expected to open wi...\n",
       "1      tata motors ashok leyland and federal bank wer...\n",
       "2      the competition commission of india is investi...\n",
       "3      stock market highlights indian equity benchmar...\n",
       "4      mid and smallcap banking stocks such as city u...\n",
       "                             ...                        \n",
       "135    london a consortium of indian banks led by the...\n",
       "136    a key question for fed chair and his colleague...\n",
       "137    analysts at morgan stanley have recently turne...\n",
       "138    the reserve bank of india rbi on friday restri...\n",
       "139    shetty has accused bank of baroda and federal ...\n",
       "Name: desc, Length: 140, dtype: object"
      ]
     },
     "execution_count": 21,
     "metadata": {},
     "output_type": "execute_result"
    }
   ],
   "source": [
    "X.apply(lambda x:clean_text(x))"
   ]
  },
  {
   "cell_type": "markdown",
   "metadata": {},
   "source": [
    "### Creating Model Input Vectors"
   ]
  },
  {
   "cell_type": "code",
   "execution_count": 22,
   "metadata": {},
   "outputs": [
    {
     "name": "stdout",
     "output_type": "stream",
     "text": [
      "  (0, 463)\t1\n",
      "  (0, 906)\t1\n",
      "  (0, 581)\t2\n",
      "  (0, 361)\t1\n",
      "  (0, 654)\t1\n",
      "  (0, 432)\t1\n",
      "  (0, 699)\t2\n",
      "  (0, 856)\t1\n",
      "  (0, 637)\t1\n",
      "  (0, 467)\t1\n",
      "  (0, 706)\t1\n",
      "  (0, 655)\t1\n",
      "  (0, 322)\t1\n",
      "  (0, 953)\t1\n",
      "  (0, 6)\t1\n",
      "  (1, 924)\t1\n",
      "  (1, 616)\t1\n",
      "  (1, 158)\t1\n",
      "  (1, 544)\t1\n",
      "  (1, 375)\t1\n",
      "  (1, 174)\t1\n",
      "  (1, 952)\t1\n",
      "  (1, 863)\t2\n",
      "  (1, 641)\t1\n",
      "  (1, 703)\t1\n",
      "  :\t:\n",
      "  (138, 174)\t2\n",
      "  (138, 460)\t1\n",
      "  (138, 232)\t1\n",
      "  (138, 399)\t1\n",
      "  (138, 794)\t1\n",
      "  (138, 145)\t1\n",
      "  (138, 760)\t1\n",
      "  (138, 363)\t1\n",
      "  (138, 797)\t1\n",
      "  (138, 167)\t1\n",
      "  (138, 785)\t2\n",
      "  (138, 827)\t1\n",
      "  (138, 252)\t1\n",
      "  (139, 375)\t1\n",
      "  (139, 174)\t2\n",
      "  (139, 177)\t1\n",
      "  (139, 418)\t1\n",
      "  (139, 246)\t1\n",
      "  (139, 865)\t2\n",
      "  (139, 354)\t1\n",
      "  (139, 401)\t1\n",
      "  (139, 121)\t1\n",
      "  (139, 241)\t1\n",
      "  (139, 139)\t1\n",
      "  (139, 336)\t1\n"
     ]
    }
   ],
   "source": [
    "### Coverting reviews to tokens\n",
    "tokens_vect = CountVectorizer(stop_words='english')\n",
    "\n",
    "token_dtm = tokens_vect.fit_transform(X)\n",
    "\n",
    "tokens_vect.get_feature_names()\n",
    "\n",
    "token_dtm.toarray()\n",
    "\n",
    "token_dtm.toarray().shape\n",
    "\n",
    "len(tokens_vect.get_feature_names())\n",
    "\n",
    "pd.DataFrame(token_dtm.toarray(),columns = tokens_vect.get_feature_names())\n",
    "\n",
    "print(token_dtm)"
   ]
  },
  {
   "cell_type": "code",
   "execution_count": 23,
   "metadata": {},
   "outputs": [
    {
     "data": {
      "text/html": [
       "<div>\n",
       "<style scoped>\n",
       "    .dataframe tbody tr th:only-of-type {\n",
       "        vertical-align: middle;\n",
       "    }\n",
       "\n",
       "    .dataframe tbody tr th {\n",
       "        vertical-align: top;\n",
       "    }\n",
       "\n",
       "    .dataframe thead th {\n",
       "        text-align: right;\n",
       "    }\n",
       "</style>\n",
       "<table border=\"1\" class=\"dataframe\">\n",
       "  <thead>\n",
       "    <tr style=\"text-align: right;\">\n",
       "      <th></th>\n",
       "      <th>Word</th>\n",
       "      <th>Count</th>\n",
       "    </tr>\n",
       "  </thead>\n",
       "  <tbody>\n",
       "    <tr>\n",
       "      <th>50</th>\n",
       "      <td>224</td>\n",
       "      <td>1</td>\n",
       "    </tr>\n",
       "    <tr>\n",
       "      <th>51</th>\n",
       "      <td>23</td>\n",
       "      <td>4</td>\n",
       "    </tr>\n",
       "    <tr>\n",
       "      <th>52</th>\n",
       "      <td>230</td>\n",
       "      <td>1</td>\n",
       "    </tr>\n",
       "    <tr>\n",
       "      <th>53</th>\n",
       "      <td>2312</td>\n",
       "      <td>1</td>\n",
       "    </tr>\n",
       "    <tr>\n",
       "      <th>54</th>\n",
       "      <td>232</td>\n",
       "      <td>1</td>\n",
       "    </tr>\n",
       "  </tbody>\n",
       "</table>\n",
       "</div>"
      ],
      "text/plain": [
       "    Word  Count\n",
       "50   224      1\n",
       "51    23      4\n",
       "52   230      1\n",
       "53  2312      1\n",
       "54   232      1"
      ]
     },
     "execution_count": 23,
     "metadata": {},
     "output_type": "execute_result"
    }
   ],
   "source": [
    "# creating a dataframe which shows the count of how many times a word is coming in the corpus\n",
    "count_dtm_dataframe = pd.DataFrame(np.sum(token_dtm.toarray(),axis=0),tokens_vect.get_feature_names()).reset_index()\n",
    "count_dtm_dataframe.columns =['Word','Count']\n",
    "\n",
    "count_dtm_dataframe[50:150].head()"
   ]
  },
  {
   "cell_type": "code",
   "execution_count": 24,
   "metadata": {},
   "outputs": [
    {
     "data": {
      "text/html": [
       "<div>\n",
       "<style scoped>\n",
       "    .dataframe tbody tr th:only-of-type {\n",
       "        vertical-align: middle;\n",
       "    }\n",
       "\n",
       "    .dataframe tbody tr th {\n",
       "        vertical-align: top;\n",
       "    }\n",
       "\n",
       "    .dataframe thead th {\n",
       "        text-align: right;\n",
       "    }\n",
       "</style>\n",
       "<table border=\"1\" class=\"dataframe\">\n",
       "  <thead>\n",
       "    <tr style=\"text-align: right;\">\n",
       "      <th></th>\n",
       "      <th>Word</th>\n",
       "      <th>Count</th>\n",
       "      <th>Sentiment</th>\n",
       "    </tr>\n",
       "  </thead>\n",
       "  <tbody>\n",
       "    <tr>\n",
       "      <th>635</th>\n",
       "      <td>new</td>\n",
       "      <td>7</td>\n",
       "      <td>Positive</td>\n",
       "    </tr>\n",
       "    <tr>\n",
       "      <th>813</th>\n",
       "      <td>rose</td>\n",
       "      <td>7</td>\n",
       "      <td>Positive</td>\n",
       "    </tr>\n",
       "    <tr>\n",
       "      <th>983</th>\n",
       "      <td>wants</td>\n",
       "      <td>3</td>\n",
       "      <td>Positive</td>\n",
       "    </tr>\n",
       "    <tr>\n",
       "      <th>806</th>\n",
       "      <td>right</td>\n",
       "      <td>3</td>\n",
       "      <td>Positive</td>\n",
       "    </tr>\n",
       "    <tr>\n",
       "      <th>432</th>\n",
       "      <td>higher</td>\n",
       "      <td>2</td>\n",
       "      <td>Positive</td>\n",
       "    </tr>\n",
       "    <tr>\n",
       "      <th>704</th>\n",
       "      <td>popular</td>\n",
       "      <td>2</td>\n",
       "      <td>Positive</td>\n",
       "    </tr>\n",
       "    <tr>\n",
       "      <th>713</th>\n",
       "      <td>precious</td>\n",
       "      <td>2</td>\n",
       "      <td>Positive</td>\n",
       "    </tr>\n",
       "    <tr>\n",
       "      <th>531</th>\n",
       "      <td>large</td>\n",
       "      <td>2</td>\n",
       "      <td>Positive</td>\n",
       "    </tr>\n",
       "    <tr>\n",
       "      <th>440</th>\n",
       "      <td>hot</td>\n",
       "      <td>2</td>\n",
       "      <td>Positive</td>\n",
       "    </tr>\n",
       "    <tr>\n",
       "      <th>840</th>\n",
       "      <td>secure</td>\n",
       "      <td>2</td>\n",
       "      <td>Positive</td>\n",
       "    </tr>\n",
       "    <tr>\n",
       "      <th>413</th>\n",
       "      <td>good</td>\n",
       "      <td>2</td>\n",
       "      <td>Positive</td>\n",
       "    </tr>\n",
       "    <tr>\n",
       "      <th>873</th>\n",
       "      <td>significant</td>\n",
       "      <td>2</td>\n",
       "      <td>Positive</td>\n",
       "    </tr>\n",
       "    <tr>\n",
       "      <th>332</th>\n",
       "      <td>early</td>\n",
       "      <td>2</td>\n",
       "      <td>Positive</td>\n",
       "    </tr>\n",
       "    <tr>\n",
       "      <th>913</th>\n",
       "      <td>strong</td>\n",
       "      <td>2</td>\n",
       "      <td>Positive</td>\n",
       "    </tr>\n",
       "    <tr>\n",
       "      <th>653</th>\n",
       "      <td>old</td>\n",
       "      <td>1</td>\n",
       "      <td>Positive</td>\n",
       "    </tr>\n",
       "    <tr>\n",
       "      <th>825</th>\n",
       "      <td>safe</td>\n",
       "      <td>1</td>\n",
       "      <td>Positive</td>\n",
       "    </tr>\n",
       "    <tr>\n",
       "      <th>911</th>\n",
       "      <td>straight</td>\n",
       "      <td>1</td>\n",
       "      <td>Positive</td>\n",
       "    </tr>\n",
       "    <tr>\n",
       "      <th>779</th>\n",
       "      <td>relevant</td>\n",
       "      <td>1</td>\n",
       "      <td>Positive</td>\n",
       "    </tr>\n",
       "    <tr>\n",
       "      <th>706</th>\n",
       "      <td>positive</td>\n",
       "      <td>1</td>\n",
       "      <td>Positive</td>\n",
       "    </tr>\n",
       "    <tr>\n",
       "      <th>671</th>\n",
       "      <td>particularly</td>\n",
       "      <td>1</td>\n",
       "      <td>Positive</td>\n",
       "    </tr>\n",
       "  </tbody>\n",
       "</table>\n",
       "</div>"
      ],
      "text/plain": [
       "             Word  Count Sentiment\n",
       "635           new      7  Positive\n",
       "813          rose      7  Positive\n",
       "983         wants      3  Positive\n",
       "806         right      3  Positive\n",
       "432        higher      2  Positive\n",
       "704       popular      2  Positive\n",
       "713      precious      2  Positive\n",
       "531         large      2  Positive\n",
       "440           hot      2  Positive\n",
       "840        secure      2  Positive\n",
       "413          good      2  Positive\n",
       "873   significant      2  Positive\n",
       "332         early      2  Positive\n",
       "913        strong      2  Positive\n",
       "653           old      1  Positive\n",
       "825          safe      1  Positive\n",
       "911      straight      1  Positive\n",
       "779      relevant      1  Positive\n",
       "706      positive      1  Positive\n",
       "671  particularly      1  Positive"
      ]
     },
     "execution_count": 24,
     "metadata": {},
     "output_type": "execute_result"
    }
   ],
   "source": [
    "#adding sentiment column which shows sentiment polarity of each word\n",
    "sentiment_word = []\n",
    "for word in count_dtm_dataframe['Word']:\n",
    "    sentiment_word.append(sentiment_review(word))\n",
    "count_dtm_dataframe['Sentiment'] = sentiment_word\n",
    "\n",
    "count_dtm_dataframe[100:150].head(10)\n",
    "\n",
    "# separating positive words\n",
    "positive_words_df= count_dtm_dataframe.loc[count_dtm_dataframe['Sentiment']=='Positive',:].sort_values('Count',ascending=False)\n",
    "\n",
    "positive_words_df.head(20)"
   ]
  },
  {
   "cell_type": "code",
   "execution_count": 25,
   "metadata": {},
   "outputs": [
    {
     "data": {
      "image/png": "[encoded data removed]",
      "text/plain": [
       "<Figure size 576x576 with 1 Axes>"
      ]
     },
     "metadata": {
      "needs_background": "light"
     },
     "output_type": "display_data"
    }
   ],
   "source": [
    "\n",
    "# plotting word cloud of 10 most frequently used positive words\n",
    "wordcloud = WordCloud(width = 1000, height = 500,background_color='white').generate(' '.join(positive_words_df.iloc[0:11,0]))\n",
    "# plot the WordCloud image                        \n",
    "plt.figure(figsize = (8, 8), facecolor = None) \n",
    "plt.imshow(wordcloud) \n",
    "plt.axis(\"off\") \n",
    "plt.tight_layout(pad = 0) \n",
    "  \n",
    "plt.show()"
   ]
  },
  {
   "cell_type": "code",
   "execution_count": 26,
   "metadata": {},
   "outputs": [
    {
     "data": {
      "image/png": "[encoded data removed]",
      "text/plain": [
       "<Figure size 576x576 with 1 Axes>"
      ]
     },
     "metadata": {
      "needs_background": "light"
     },
     "output_type": "display_data"
    }
   ],
   "source": [
    "# separating negative words\n",
    "negative_words_df= count_dtm_dataframe.loc[count_dtm_dataframe['Sentiment']=='Negative',:].sort_values('Count',ascending=False)\n",
    "\n",
    "negative_words_df.head(10)\n",
    "\n",
    "# plotting word cloud of 10 most frequently used positive words\n",
    "wordcloud = WordCloud(width = 1000, height = 500,background_color='red').generate(' '.join(negative_words_df.iloc[0:11,0]))\n",
    "# plot the WordCloud image                        \n",
    "plt.figure(figsize = (8, 8), facecolor = None) \n",
    "plt.imshow(wordcloud) \n",
    "plt.axis(\"off\") \n",
    "plt.tight_layout(pad = 0) \n",
    "  \n",
    "plt.show()\n"
   ]
  },
  {
   "cell_type": "code",
   "execution_count": 27,
   "metadata": {},
   "outputs": [
    {
     "name": "stdout",
     "output_type": "stream",
     "text": [
      "No.of observations in train_X:  112 | No.of observations in test_X:  28\n",
      "No.of observations in train_Y:  112 | No.of observations in test_Y:  28\n"
     ]
    }
   ],
   "source": [
    "### Splitting the data into train and test\n",
    "\n",
    "train_X,test_X,train_Y,test_Y = train_test_split(X,Y,random_state = 123, test_size = 0.2)  \n",
    "\n",
    "print('No.of observations in train_X: ',len(train_X), '| No.of observations in test_X: ',len(test_X))\n",
    "print('No.of observations in train_Y: ',len(train_Y), '| No.of observations in test_Y: ',len(test_Y))"
   ]
  },
  {
   "cell_type": "code",
   "execution_count": 28,
   "metadata": {},
   "outputs": [
    {
     "name": "stdout",
     "output_type": "stream",
     "text": [
      "  (0, 12)\t1\n",
      "  (0, 54)\t1\n",
      "  (0, 61)\t1\n",
      "  (0, 90)\t1\n",
      "  (0, 99)\t1\n",
      "  (0, 150)\t1\n",
      "  (0, 215)\t1\n",
      "  (0, 257)\t1\n",
      "  (0, 326)\t1\n",
      "  (0, 446)\t1\n",
      "  (0, 456)\t1\n",
      "  (0, 567)\t1\n",
      "  (0, 662)\t1\n",
      "  (0, 724)\t1\n",
      "  (0, 807)\t1\n",
      "  (0, 892)\t1\n",
      "  (1, 34)\t1\n",
      "  (1, 56)\t1\n",
      "  (1, 102)\t1\n",
      "  (1, 150)\t1\n",
      "  (1, 234)\t1\n",
      "  (1, 273)\t1\n",
      "  (1, 307)\t1\n",
      "  (1, 326)\t1\n",
      "  (1, 403)\t1\n",
      "  :\t:\n",
      "  (110, 546)\t1\n",
      "  (110, 673)\t1\n",
      "  (110, 704)\t1\n",
      "  (110, 729)\t1\n",
      "  (111, 142)\t1\n",
      "  (111, 150)\t3\n",
      "  (111, 152)\t2\n",
      "  (111, 153)\t1\n",
      "  (111, 154)\t1\n",
      "  (111, 159)\t1\n",
      "  (111, 233)\t1\n",
      "  (111, 261)\t1\n",
      "  (111, 326)\t1\n",
      "  (111, 397)\t1\n",
      "  (111, 403)\t1\n",
      "  (111, 406)\t1\n",
      "  (111, 465)\t1\n",
      "  (111, 506)\t1\n",
      "  (111, 566)\t1\n",
      "  (111, 589)\t1\n",
      "  (111, 682)\t1\n",
      "  (111, 700)\t1\n",
      "  (111, 735)\t1\n",
      "  (111, 739)\t1\n",
      "  (111, 843)\t1\n",
      "  (0, 150)\t2\n",
      "  (0, 326)\t1\n",
      "  (0, 329)\t1\n",
      "  (0, 331)\t1\n",
      "  (0, 403)\t1\n",
      "  (0, 673)\t1\n",
      "  (0, 704)\t1\n",
      "  (0, 735)\t1\n",
      "  (1, 152)\t1\n",
      "  (1, 245)\t1\n",
      "  (1, 326)\t1\n",
      "  (1, 560)\t1\n",
      "  (1, 645)\t1\n",
      "  (1, 660)\t1\n",
      "  (1, 757)\t1\n",
      "  (1, 777)\t1\n",
      "  (1, 892)\t2\n",
      "  (1, 897)\t1\n",
      "  (2, 150)\t2\n",
      "  (2, 152)\t1\n",
      "  (2, 326)\t1\n",
      "  (2, 344)\t1\n",
      "  (2, 406)\t1\n",
      "  (2, 414)\t1\n",
      "  (2, 536)\t1\n",
      "  :\t:\n",
      "  (26, 389)\t1\n",
      "  (26, 398)\t1\n",
      "  (26, 403)\t1\n",
      "  (26, 406)\t1\n",
      "  (26, 477)\t1\n",
      "  (26, 553)\t1\n",
      "  (26, 653)\t1\n",
      "  (26, 739)\t1\n",
      "  (26, 802)\t1\n",
      "  (27, 77)\t1\n",
      "  (27, 150)\t1\n",
      "  (27, 152)\t1\n",
      "  (27, 245)\t1\n",
      "  (27, 326)\t1\n",
      "  (27, 367)\t1\n",
      "  (27, 399)\t1\n",
      "  (27, 458)\t1\n",
      "  (27, 560)\t2\n",
      "  (27, 645)\t1\n",
      "  (27, 660)\t1\n",
      "  (27, 722)\t1\n",
      "  (27, 724)\t1\n",
      "  (27, 735)\t1\n",
      "  (27, 892)\t2\n",
      "  (27, 897)\t1\n",
      "No.of features for are 899\n"
     ]
    }
   ],
   "source": [
    "### Feature generation using DTM\n",
    "\n",
    "vect = CountVectorizer(strip_accents='unicode', stop_words='english', ngram_range=(1,1),min_df=0.001,max_df=0.95)\n",
    "\n",
    "train_X_fit = vect.fit(train_X)\n",
    "train_X_dtm = vect.transform(train_X)\n",
    "test_X_dtm = vect.transform(test_X)\n",
    "\n",
    "print(train_X_dtm)\n",
    "\n",
    "print(test_X_dtm)\n",
    "\n",
    "vect.get_feature_names()\n",
    "\n",
    "print('No.of features for are',len(vect.get_feature_names()))"
   ]
  },
  {
   "cell_type": "code",
   "execution_count": 29,
   "metadata": {},
   "outputs": [
    {
     "data": {
      "text/html": [
       "<div>\n",
       "<style scoped>\n",
       "    .dataframe tbody tr th:only-of-type {\n",
       "        vertical-align: middle;\n",
       "    }\n",
       "\n",
       "    .dataframe tbody tr th {\n",
       "        vertical-align: top;\n",
       "    }\n",
       "\n",
       "    .dataframe thead th {\n",
       "        text-align: right;\n",
       "    }\n",
       "</style>\n",
       "<table border=\"1\" class=\"dataframe\">\n",
       "  <thead>\n",
       "    <tr style=\"text-align: right;\">\n",
       "      <th></th>\n",
       "      <th>006</th>\n",
       "      <th>0210</th>\n",
       "      <th>10</th>\n",
       "      <th>1000</th>\n",
       "      <th>10000</th>\n",
       "      <th>11</th>\n",
       "      <th>1143</th>\n",
       "      <th>12</th>\n",
       "      <th>1200</th>\n",
       "      <th>1212</th>\n",
       "      <th>...</th>\n",
       "      <th>workers</th>\n",
       "      <th>worst</th>\n",
       "      <th>worth</th>\n",
       "      <th>year</th>\n",
       "      <th>yearonyear</th>\n",
       "      <th>years</th>\n",
       "      <th>yes</th>\n",
       "      <th>york</th>\n",
       "      <th>yoy</th>\n",
       "      <th>zero</th>\n",
       "    </tr>\n",
       "  </thead>\n",
       "  <tbody>\n",
       "    <tr>\n",
       "      <th>0</th>\n",
       "      <td>0</td>\n",
       "      <td>0</td>\n",
       "      <td>0</td>\n",
       "      <td>0</td>\n",
       "      <td>0</td>\n",
       "      <td>0</td>\n",
       "      <td>0</td>\n",
       "      <td>0</td>\n",
       "      <td>0</td>\n",
       "      <td>0</td>\n",
       "      <td>...</td>\n",
       "      <td>0</td>\n",
       "      <td>0</td>\n",
       "      <td>0</td>\n",
       "      <td>1</td>\n",
       "      <td>0</td>\n",
       "      <td>0</td>\n",
       "      <td>0</td>\n",
       "      <td>0</td>\n",
       "      <td>0</td>\n",
       "      <td>0</td>\n",
       "    </tr>\n",
       "    <tr>\n",
       "      <th>1</th>\n",
       "      <td>0</td>\n",
       "      <td>0</td>\n",
       "      <td>0</td>\n",
       "      <td>0</td>\n",
       "      <td>0</td>\n",
       "      <td>0</td>\n",
       "      <td>0</td>\n",
       "      <td>0</td>\n",
       "      <td>0</td>\n",
       "      <td>0</td>\n",
       "      <td>...</td>\n",
       "      <td>0</td>\n",
       "      <td>0</td>\n",
       "      <td>0</td>\n",
       "      <td>0</td>\n",
       "      <td>0</td>\n",
       "      <td>0</td>\n",
       "      <td>0</td>\n",
       "      <td>0</td>\n",
       "      <td>0</td>\n",
       "      <td>0</td>\n",
       "    </tr>\n",
       "    <tr>\n",
       "      <th>2</th>\n",
       "      <td>0</td>\n",
       "      <td>0</td>\n",
       "      <td>0</td>\n",
       "      <td>0</td>\n",
       "      <td>0</td>\n",
       "      <td>0</td>\n",
       "      <td>0</td>\n",
       "      <td>0</td>\n",
       "      <td>0</td>\n",
       "      <td>0</td>\n",
       "      <td>...</td>\n",
       "      <td>0</td>\n",
       "      <td>0</td>\n",
       "      <td>0</td>\n",
       "      <td>0</td>\n",
       "      <td>0</td>\n",
       "      <td>0</td>\n",
       "      <td>0</td>\n",
       "      <td>0</td>\n",
       "      <td>0</td>\n",
       "      <td>0</td>\n",
       "    </tr>\n",
       "    <tr>\n",
       "      <th>3</th>\n",
       "      <td>0</td>\n",
       "      <td>0</td>\n",
       "      <td>0</td>\n",
       "      <td>0</td>\n",
       "      <td>0</td>\n",
       "      <td>0</td>\n",
       "      <td>0</td>\n",
       "      <td>0</td>\n",
       "      <td>0</td>\n",
       "      <td>0</td>\n",
       "      <td>...</td>\n",
       "      <td>0</td>\n",
       "      <td>0</td>\n",
       "      <td>0</td>\n",
       "      <td>0</td>\n",
       "      <td>0</td>\n",
       "      <td>0</td>\n",
       "      <td>0</td>\n",
       "      <td>0</td>\n",
       "      <td>0</td>\n",
       "      <td>0</td>\n",
       "    </tr>\n",
       "    <tr>\n",
       "      <th>4</th>\n",
       "      <td>0</td>\n",
       "      <td>0</td>\n",
       "      <td>0</td>\n",
       "      <td>0</td>\n",
       "      <td>0</td>\n",
       "      <td>0</td>\n",
       "      <td>0</td>\n",
       "      <td>0</td>\n",
       "      <td>0</td>\n",
       "      <td>0</td>\n",
       "      <td>...</td>\n",
       "      <td>0</td>\n",
       "      <td>0</td>\n",
       "      <td>0</td>\n",
       "      <td>0</td>\n",
       "      <td>0</td>\n",
       "      <td>0</td>\n",
       "      <td>0</td>\n",
       "      <td>0</td>\n",
       "      <td>0</td>\n",
       "      <td>0</td>\n",
       "    </tr>\n",
       "  </tbody>\n",
       "</table>\n",
       "<p>5 rows × 899 columns</p>\n",
       "</div>"
      ],
      "text/plain": [
       "   006  0210  10  1000  10000  11  1143  12  1200  1212  ...  workers  worst  \\\n",
       "0    0     0   0     0      0   0     0   0     0     0  ...        0      0   \n",
       "1    0     0   0     0      0   0     0   0     0     0  ...        0      0   \n",
       "2    0     0   0     0      0   0     0   0     0     0  ...        0      0   \n",
       "3    0     0   0     0      0   0     0   0     0     0  ...        0      0   \n",
       "4    0     0   0     0      0   0     0   0     0     0  ...        0      0   \n",
       "\n",
       "   worth  year  yearonyear  years  yes  york  yoy  zero  \n",
       "0      0     1           0      0    0     0    0     0  \n",
       "1      0     0           0      0    0     0    0     0  \n",
       "2      0     0           0      0    0     0    0     0  \n",
       "3      0     0           0      0    0     0    0     0  \n",
       "4      0     0           0      0    0     0    0     0  \n",
       "\n",
       "[5 rows x 899 columns]"
      ]
     },
     "execution_count": 29,
     "metadata": {},
     "output_type": "execute_result"
    }
   ],
   "source": [
    "train_X_dtm_df = pd.DataFrame(train_X_dtm.toarray(),columns=vect.get_feature_names())\n",
    "\n",
    "train_X_dtm_df.head()"
   ]
  },
  {
   "cell_type": "code",
   "execution_count": 30,
   "metadata": {},
   "outputs": [
    {
     "data": {
      "text/plain": [
       "006      1\n",
       "0210     1\n",
       "10       3\n",
       "1000     1\n",
       "10000    1\n",
       "11       3\n",
       "1143     1\n",
       "12       4\n",
       "1200     1\n",
       "1212     1\n",
       "124      1\n",
       "1244     1\n",
       "1249     3\n",
       "126      1\n",
       "13       2\n",
       "1307     1\n",
       "1409     1\n",
       "1433     1\n",
       "14509    1\n",
       "14825    1\n",
       "dtype: int64"
      ]
     },
     "execution_count": 30,
     "metadata": {},
     "output_type": "execute_result"
    }
   ],
   "source": [
    "# Finding how many times a term is used in corpus\n",
    "train_dtm_freq = np.sum(train_X_dtm_df,axis=0)\n",
    "\n",
    "train_dtm_freq.head(20)"
   ]
  },
  {
   "cell_type": "code",
   "execution_count": 31,
   "metadata": {},
   "outputs": [
    {
     "name": "stdout",
     "output_type": "stream",
     "text": [
      "  (0, 456)\t0.2909465205347848\n",
      "  (0, 54)\t0.31643245339902193\n",
      "  (0, 215)\t0.24737803053274635\n",
      "  (0, 892)\t0.22929547339494502\n",
      "  (0, 90)\t0.31643245339902193\n",
      "  (0, 807)\t0.22189209766850926\n",
      "  (0, 567)\t0.24737803053274635\n",
      "  (0, 446)\t0.22929547339494502\n",
      "  (0, 12)\t0.2728639633969835\n",
      "  (0, 257)\t0.22929547339494502\n",
      "  (0, 61)\t0.31643245339902193\n",
      "  (0, 99)\t0.31643245339902193\n",
      "  (0, 724)\t0.18978361954723255\n",
      "  (0, 662)\t0.24737803053274635\n",
      "  (0, 150)\t0.08075345848078902\n",
      "  (0, 326)\t0.08535473489906377\n",
      "  (1, 34)\t0.26622173222757595\n",
      "  (1, 450)\t0.28064776074135456\n",
      "  (1, 56)\t0.32545909825082564\n",
      "  (1, 716)\t0.28064776074135456\n",
      "  (1, 403)\t0.10345493529790306\n",
      "  (1, 234)\t0.32545909825082564\n",
      "  (1, 696)\t0.29924614620062573\n",
      "  (1, 581)\t0.29924614620062573\n",
      "  (1, 307)\t0.25443480869115465\n",
      "  :\t:\n",
      "  (110, 673)\t0.2226767576414108\n",
      "  (110, 403)\t0.10989709036051837\n",
      "  (110, 150)\t0.2646870934894688\n",
      "  (110, 326)\t0.09325626056157066\n",
      "  (111, 700)\t0.24964899185975312\n",
      "  (111, 154)\t0.24964899185975312\n",
      "  (111, 159)\t0.24964899185975312\n",
      "  (111, 843)\t0.24964899185975312\n",
      "  (111, 465)\t0.24964899185975312\n",
      "  (111, 566)\t0.24964899185975312\n",
      "  (111, 506)\t0.24964899185975312\n",
      "  (111, 589)\t0.24964899185975312\n",
      "  (111, 261)\t0.24964899185975312\n",
      "  (111, 682)\t0.24964899185975312\n",
      "  (111, 142)\t0.24964899185975312\n",
      "  (111, 233)\t0.20420995270671582\n",
      "  (111, 397)\t0.2152756856801087\n",
      "  (111, 153)\t0.19516859053920996\n",
      "  (111, 739)\t0.18090237950046434\n",
      "  (111, 152)\t0.237555230778582\n",
      "  (111, 735)\t0.18090237950046434\n",
      "  (111, 406)\t0.1380069849908657\n",
      "  (111, 403)\t0.07935688520876052\n",
      "  (111, 150)\t0.1911310228994962\n",
      "  (111, 326)\t0.06734051229295819\n",
      "  (0, 150)\t2\n",
      "  (0, 326)\t1\n",
      "  (0, 329)\t1\n",
      "  (0, 331)\t1\n",
      "  (0, 403)\t1\n",
      "  (0, 673)\t1\n",
      "  (0, 704)\t1\n",
      "  (0, 735)\t1\n",
      "  (1, 152)\t1\n",
      "  (1, 245)\t1\n",
      "  (1, 326)\t1\n",
      "  (1, 560)\t1\n",
      "  (1, 645)\t1\n",
      "  (1, 660)\t1\n",
      "  (1, 757)\t1\n",
      "  (1, 777)\t1\n",
      "  (1, 892)\t2\n",
      "  (1, 897)\t1\n",
      "  (2, 150)\t2\n",
      "  (2, 152)\t1\n",
      "  (2, 326)\t1\n",
      "  (2, 344)\t1\n",
      "  (2, 406)\t1\n",
      "  (2, 414)\t1\n",
      "  (2, 536)\t1\n",
      "  :\t:\n",
      "  (26, 389)\t1\n",
      "  (26, 398)\t1\n",
      "  (26, 403)\t1\n",
      "  (26, 406)\t1\n",
      "  (26, 477)\t1\n",
      "  (26, 553)\t1\n",
      "  (26, 653)\t1\n",
      "  (26, 739)\t1\n",
      "  (26, 802)\t1\n",
      "  (27, 77)\t1\n",
      "  (27, 150)\t1\n",
      "  (27, 152)\t1\n",
      "  (27, 245)\t1\n",
      "  (27, 326)\t1\n",
      "  (27, 367)\t1\n",
      "  (27, 399)\t1\n",
      "  (27, 458)\t1\n",
      "  (27, 560)\t2\n",
      "  (27, 645)\t1\n",
      "  (27, 660)\t1\n",
      "  (27, 722)\t1\n",
      "  (27, 724)\t1\n",
      "  (27, 735)\t1\n",
      "  (27, 892)\t2\n",
      "  (27, 897)\t1\n",
      "No.of features for are 899\n"
     ]
    }
   ],
   "source": [
    "vect_tdm = TfidfVectorizer(strip_accents='unicode', stop_words='english', ngram_range=(1,1),min_df=0.001,max_df=0.95)\n",
    "\n",
    "train_X_tdm = vect_tdm.fit_transform(train_X)\n",
    "test_X_tdm = vect.transform(test_X)\n",
    "\n",
    "print(train_X_tdm)\n",
    "\n",
    "print(test_X_tdm)\n",
    "\n",
    "vect_tdm.get_feature_names()\n",
    "\n",
    "print('No.of features for are',len(vect_tdm.get_feature_names()))"
   ]
  },
  {
   "cell_type": "code",
   "execution_count": 32,
   "metadata": {},
   "outputs": [
    {
     "data": {
      "text/plain": [
       "006      0\n",
       "0210     0\n",
       "10       1\n",
       "1000     0\n",
       "10000    0\n",
       "11       1\n",
       "1143     0\n",
       "12       0\n",
       "1200     0\n",
       "1212     0\n",
       "124      0\n",
       "1244     0\n",
       "1249     0\n",
       "126      0\n",
       "13       0\n",
       "1307     0\n",
       "1409     0\n",
       "1433     0\n",
       "14509    0\n",
       "14825    0\n",
       "dtype: int64"
      ]
     },
     "execution_count": 32,
     "metadata": {},
     "output_type": "execute_result"
    }
   ],
   "source": [
    "# creating dataframe to to see which features are present in the documents\n",
    "train_X_tdm_df = pd.DataFrame(train_X_tdm.toarray(),columns=vect_tdm.get_feature_names())\n",
    "\n",
    "train_X_tdm_df.head()\n",
    "\n",
    "test_X_tdm_df = pd.DataFrame(test_X_tdm.toarray(),columns=vect_tdm.get_feature_names())\n",
    "\n",
    "test_X_tdm_df.head()\n",
    "\n",
    "# Finding how many times a term is used in test corpus\n",
    "test_tdm_freq = np.sum(test_X_tdm_df,axis=0)\n",
    "\n",
    "test_tdm_freq.head(20)\n"
   ]
  },
  {
   "cell_type": "code",
   "execution_count": 33,
   "metadata": {},
   "outputs": [
    {
     "name": "stdout",
     "output_type": "stream",
     "text": [
      "Accuracy on train:  1.0\n",
      "Accuracy on test:  0.5357142857142857\n",
      "F1 Score on train:  1.0\n",
      "F1 Score on test:  0.49567099567099565\n"
     ]
    },
    {
     "data": {
      "image/png": "[encoded data removed]",
      "text/plain": [
       "<Figure size 432x288 with 2 Axes>"
      ]
     },
     "metadata": {
      "needs_background": "light"
     },
     "output_type": "display_data"
    }
   ],
   "source": [
    "# building naive bayes model on DTM\n",
    "naive_model_dtm = MultinomialNB()\n",
    "naive_model_dtm.fit(train_X_dtm,train_Y)\n",
    "\n",
    "predict_train = naive_model_dtm.predict(train_X_dtm)\n",
    "predict_test = naive_model_dtm.predict(test_X_dtm)\n",
    "\n",
    "len(predict_test)\n",
    "\n",
    "print('Accuracy on train: ',metrics.accuracy_score(train_Y,predict_train))\n",
    "print('Accuracy on test: ',metrics.accuracy_score(test_Y,predict_test))\n",
    "\n",
    "print('F1 Score on train: ',metrics.f1_score(train_Y,predict_train,average='weighted'))\n",
    "print('F1 Score on test: ',metrics.f1_score(test_Y,predict_test,average='weighted'))\n",
    "\n",
    "# predict probabilities on train and test\n",
    "predict_prob_train = naive_model_dtm.predict_proba(train_X_dtm)[:,1]\n",
    "predict_prob_test = naive_model_dtm.predict_proba(test_X_dtm)[:,1]\n",
    "\n",
    "# print('ROC_AUC score on train: ',metrics.roc_auc_score(train_Y,predict_prob_train))\n",
    "# print('ROC_AUC score on test: ',metrics.roc_auc_score(test_Y,predict_prob_test))\n",
    "\n",
    "# confusion matrix on test \n",
    "cm_test = metrics.confusion_matrix(test_Y,predict_test)\n",
    "\n",
    "cm_test\n",
    "\n",
    "import seaborn as sns\n",
    "sns.heatmap(cm_test,annot=True)\n",
    "plt.xlabel('Predicted')\n",
    "plt.ylabel('Actual')\n",
    "plt.show()"
   ]
  },
  {
   "cell_type": "markdown",
   "metadata": {},
   "source": [
    "### Hyperparameter Tuning of the Model.\n",
    "\n",
    "##### Parameters used\n",
    "\n",
    "**alpha (float, default=1.0)**\n",
    "- Additive (Laplace/Lidstone) smoothing parameter (0 for no smoothing).\n",
    "\n",
    "**fit_prior (bool, default=True)**\n",
    "- Whether to learn class prior probabilities or not. If false, a uniform prior will be used"
   ]
  },
  {
   "cell_type": "code",
   "execution_count": 34,
   "metadata": {},
   "outputs": [
    {
     "data": {
      "text/plain": [
       "{'alpha': 46.41588833612773, 'fit_prior': True}"
      ]
     },
     "execution_count": 34,
     "metadata": {},
     "output_type": "execute_result"
    }
   ],
   "source": [
    "parameter={'alpha':np.logspace(-3,3,10),'fit_prior':[True,False]}\n",
    "\n",
    "clf = GridSearchCV(naive_model_dtm, parameter,cv=10)\n",
    "clf.fit(train_X_dtm,train_Y)\n",
    "clf.best_params_"
   ]
  },
  {
   "cell_type": "code",
   "execution_count": 35,
   "metadata": {},
   "outputs": [
    {
     "name": "stdout",
     "output_type": "stream",
     "text": [
      "Accuracy on train:  0.9553571428571429\n",
      "Accuracy on test:  0.5357142857142857\n",
      "F1 Score on train:  0.9539628566741447\n",
      "F1 Score on test:  0.47760859829825336\n"
     ]
    },
    {
     "data": {
      "image/png": "[encoded data removed]",
      "text/plain": [
       "<Figure size 432x288 with 2 Axes>"
      ]
     },
     "metadata": {
      "needs_background": "light"
     },
     "output_type": "display_data"
    }
   ],
   "source": [
    "# building naive bayes model on DTM\n",
    "naive_model_dtm = MultinomialNB(alpha=2.154434690031882,fit_prior=True)\n",
    "naive_model_dtm.fit(train_X_dtm,train_Y)\n",
    "\n",
    "predict_train = naive_model_dtm.predict(train_X_dtm)\n",
    "predict_test = naive_model_dtm.predict(test_X_dtm)\n",
    "\n",
    "len(predict_test)\n",
    "\n",
    "print('Accuracy on train: ',metrics.accuracy_score(train_Y,predict_train))\n",
    "print('Accuracy on test: ',metrics.accuracy_score(test_Y,predict_test))\n",
    "\n",
    "print('F1 Score on train: ',metrics.f1_score(train_Y,predict_train,average='weighted'))\n",
    "print('F1 Score on test: ',metrics.f1_score(test_Y,predict_test,average='weighted'))\n",
    "\n",
    "# predict probabilities on train and test\n",
    "predict_prob_train = naive_model_dtm.predict_proba(train_X_dtm)[:,1]\n",
    "predict_prob_test = naive_model_dtm.predict_proba(test_X_dtm)[:,1]\n",
    "\n",
    "# print('ROC_AUC score on train: ',metrics.roc_auc_score(train_Y,predict_prob_train))\n",
    "# print('ROC_AUC score on test: ',metrics.roc_auc_score(test_Y,predict_prob_test))\n",
    "\n",
    "# confusion matrix on test \n",
    "cm_test = metrics.confusion_matrix(test_Y,predict_test)\n",
    "\n",
    "cm_test\n",
    "\n",
    "import seaborn as sns\n",
    "sns.heatmap(cm_test,annot=True)\n",
    "plt.xlabel('Predicted')\n",
    "plt.ylabel('Actual')\n",
    "plt.show()"
   ]
  },
  {
   "cell_type": "code",
   "execution_count": 36,
   "metadata": {},
   "outputs": [
    {
     "name": "stdout",
     "output_type": "stream",
     "text": [
      "Accuracy on train:  0.8660714285714286\n",
      "Accuracy on test:  0.5357142857142857\n",
      "F1 Score on train:  0.812174241767935\n",
      "F1 Score on test:  0.4761535048802129\n"
     ]
    },
    {
     "data": {
      "image/png": "[encoded data removed]",
      "text/plain": [
       "<Figure size 432x288 with 2 Axes>"
      ]
     },
     "metadata": {
      "needs_background": "light"
     },
     "output_type": "display_data"
    }
   ],
   "source": [
    "### Building Model on TDM\n",
    "\n",
    "# building naive bayes model on DTM\n",
    "naive_model = MultinomialNB()\n",
    "naive_model.fit(train_X_tdm,train_Y)\n",
    "\n",
    "predict_train = naive_model.predict(train_X_tdm)\n",
    "predict_test = naive_model.predict(test_X_tdm)\n",
    "\n",
    "len(predict_test)\n",
    "\n",
    "print('Accuracy on train: ',metrics.accuracy_score(train_Y,predict_train))\n",
    "print('Accuracy on test: ',metrics.accuracy_score(test_Y,predict_test))\n",
    "\n",
    "print('F1 Score on train: ',metrics.f1_score(train_Y,predict_train,average='weighted'))\n",
    "print('F1 Score on test: ',metrics.f1_score(test_Y,predict_test,average='weighted'))\n",
    "\n",
    "# predict probabilities on train and test\n",
    "predict_prob_train = naive_model.predict_proba(train_X_tdm)[:,1]\n",
    "predict_prob_test = naive_model.predict_proba(test_X_tdm)[:,1]\n",
    "\n",
    "\n",
    "# confusion matrix on test \n",
    "cm_test = metrics.confusion_matrix(test_Y,predict_test)\n",
    "\n",
    "cm_test\n",
    "\n",
    "import seaborn as sns\n",
    "sns.heatmap(cm_test,annot=True)\n",
    "plt.xlabel('Predicted')\n",
    "plt.ylabel('Actual')\n",
    "plt.show()"
   ]
  },
  {
   "cell_type": "code",
   "execution_count": 37,
   "metadata": {},
   "outputs": [],
   "source": [
    "predict_prob_test = naive_model.predict_proba(test_X_tdm)"
   ]
  },
  {
   "cell_type": "markdown",
   "metadata": {},
   "source": [
    "### Hyperparameter Tuning of the Model."
   ]
  },
  {
   "cell_type": "code",
   "execution_count": 38,
   "metadata": {},
   "outputs": [],
   "source": [
    "parameter={'alpha':np.logspace(-3,3,10),'fit_prior':[True,False]}"
   ]
  },
  {
   "cell_type": "code",
   "execution_count": 39,
   "metadata": {},
   "outputs": [
    {
     "data": {
      "text/plain": [
       "GridSearchCV(cv=10, estimator=MultinomialNB(),\n",
       "             param_grid={'alpha': array([1.00000000e-03, 4.64158883e-03, 2.15443469e-02, 1.00000000e-01,\n",
       "       4.64158883e-01, 2.15443469e+00, 1.00000000e+01, 4.64158883e+01,\n",
       "       2.15443469e+02, 1.00000000e+03]),\n",
       "                         'fit_prior': [True, False]})"
      ]
     },
     "execution_count": 39,
     "metadata": {},
     "output_type": "execute_result"
    }
   ],
   "source": [
    "clf = GridSearchCV(naive_model, parameter,cv=10)\n",
    "clf.fit(train_X_tdm,train_Y)"
   ]
  },
  {
   "cell_type": "code",
   "execution_count": 40,
   "metadata": {},
   "outputs": [
    {
     "data": {
      "text/plain": [
       "{'alpha': 0.46415888336127775, 'fit_prior': True}"
      ]
     },
     "execution_count": 40,
     "metadata": {},
     "output_type": "execute_result"
    }
   ],
   "source": [
    "clf.best_params_"
   ]
  },
  {
   "cell_type": "code",
   "execution_count": 41,
   "metadata": {},
   "outputs": [
    {
     "name": "stdout",
     "output_type": "stream",
     "text": [
      "Accuracy on train:  0.9821428571428571\n",
      "Accuracy on test:  0.5357142857142857\n",
      "F1 Score on train:  0.9817460317460317\n",
      "F1 Score on test:  0.4761535048802129\n"
     ]
    },
    {
     "data": {
      "image/png": "[encoded data removed]",
      "text/plain": [
       "<Figure size 432x288 with 2 Axes>"
      ]
     },
     "metadata": {
      "needs_background": "light"
     },
     "output_type": "display_data"
    }
   ],
   "source": [
    "### Building Model on TDM\n",
    "\n",
    "# building naive bayes model on DTM\n",
    "naive_model = MultinomialNB(alpha=0.4641,fit_prior=True)\n",
    "naive_model.fit(train_X_tdm,train_Y)\n",
    "\n",
    "predict_train = naive_model.predict(train_X_tdm)\n",
    "predict_test = naive_model.predict(test_X_tdm)\n",
    "\n",
    "len(predict_test)\n",
    "\n",
    "print('Accuracy on train: ',metrics.accuracy_score(train_Y,predict_train))\n",
    "print('Accuracy on test: ',metrics.accuracy_score(test_Y,predict_test))\n",
    "\n",
    "print('F1 Score on train: ',metrics.f1_score(train_Y,predict_train,average='weighted'))\n",
    "print('F1 Score on test: ',metrics.f1_score(test_Y,predict_test,average='weighted'))\n",
    "\n",
    "\n",
    "# predict probabilities on train and test\n",
    "predict_prob_train = naive_model.predict_proba(train_X_tdm)[:,1]\n",
    "predict_prob_test = naive_model.predict_proba(test_X_tdm)[:,1]\n",
    "\n",
    "\n",
    "# confusion matrix on test \n",
    "cm_test = metrics.confusion_matrix(test_Y,predict_test)\n",
    "\n",
    "cm_test\n",
    "\n",
    "import seaborn as sns\n",
    "sns.heatmap(cm_test,annot=True)\n",
    "plt.xlabel('Predicted')\n",
    "plt.ylabel('Actual')\n",
    "plt.show()"
   ]
  },
  {
   "cell_type": "markdown",
   "metadata": {},
   "source": [
    "#### We can see after tuning the hyperparameter model accuray has improved."
   ]
  }
 ],
 "metadata": {
  "kernelspec": {
   "display_name": "Python 3",
   "language": "python",
   "name": "python3"
  },
  "language_info": {
   "codemirror_mode": {
    "name": "ipython",
    "version": 3
   },
   "file_extension": ".py",
   "mimetype": "text/x-python",
   "name": "python",
   "nbconvert_exporter": "python",
   "pygments_lexer": "ipython3",
   "version": "3.9.2"
  }
 },
 "nbformat": 4,
 "nbformat_minor": 4
}
