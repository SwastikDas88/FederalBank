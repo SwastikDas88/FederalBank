{
 "cells": [
  {
   "cell_type": "code",
   "execution_count": 1,
   "metadata": {},
   "outputs": [],
   "source": [
    "## Notebook contains:\n",
    "\n",
    "## same dataset used for the Default Models - except for a couple of features present that were removed earlier\n",
    "## these features are used to calculate the DVs of LGD and EAD models\n",
    "## LGD stage 1 - Classification \n",
    "## LGD stage 2 - Regression\n",
    "## Combined LGD predictions = product of stage 1 and stage 2 predictions\n",
    "## EAD - Regression\n",
    "## PD - Classification (using the previously saved model)\n",
    "## Select the best performing model in each case and apply hyperparameter tuning on the same\n",
    "## Save the models\n",
    "## Use the trained models on complete data to calculate EL\n",
    "\n",
    "## fit - test - evaluate - save"
   ]
  },
  {
   "cell_type": "markdown",
   "metadata": {},
   "source": [
    "### Importing Libraries"
   ]
  },
  {
   "cell_type": "code",
   "execution_count": 1,
   "metadata": {},
   "outputs": [],
   "source": [
    "import pandas as pd\n",
    "import numpy as np\n",
    "import warnings\n",
    "warnings.filterwarnings(\"ignore\")\n",
    "\n",
    "from sklearn.model_selection import train_test_split, GridSearchCV\n",
    "from sklearn.linear_model import LogisticRegression, LinearRegression\n",
    "from sklearn.ensemble import RandomForestClassifier, RandomForestRegressor, AdaBoostClassifier, AdaBoostRegressor, GradientBoostingClassifier, GradientBoostingRegressor \n",
    "from sklearn.metrics import accuracy_score, precision_score, recall_score, f1_score, mean_squared_error, r2_score\n",
    "\n",
    "import pickle"
   ]
  },
  {
   "cell_type": "markdown",
   "metadata": {},
   "source": [
    "### Reading Pre-processed Data"
   ]
  },
  {
   "cell_type": "code",
   "execution_count": 2,
   "metadata": {},
   "outputs": [],
   "source": [
    "data = pd.read_csv('fullacc_preprocessed_data_LGD_EAD.csv', low_memory=False)"
   ]
  },
  {
   "cell_type": "code",
   "execution_count": 3,
   "metadata": {},
   "outputs": [
    {
     "data": {
      "text/plain": [
       "(2260668, 44)"
      ]
     },
     "execution_count": 3,
     "metadata": {},
     "output_type": "execute_result"
    }
   ],
   "source": [
    "data.shape"
   ]
  },
  {
   "cell_type": "code",
   "execution_count": 4,
   "metadata": {},
   "outputs": [
    {
     "data": {
      "text/html": [
       "<div>\n",
       "<style scoped>\n",
       "    .dataframe tbody tr th:only-of-type {\n",
       "        vertical-align: middle;\n",
       "    }\n",
       "\n",
       "    .dataframe tbody tr th {\n",
       "        vertical-align: top;\n",
       "    }\n",
       "\n",
       "    .dataframe thead th {\n",
       "        text-align: right;\n",
       "    }\n",
       "</style>\n",
       "<table border=\"1\" class=\"dataframe\">\n",
       "  <thead>\n",
       "    <tr style=\"text-align: right;\">\n",
       "      <th></th>\n",
       "      <th>0</th>\n",
       "      <th>1</th>\n",
       "      <th>2</th>\n",
       "      <th>3</th>\n",
       "      <th>4</th>\n",
       "    </tr>\n",
       "  </thead>\n",
       "  <tbody>\n",
       "    <tr>\n",
       "      <th>loan_amnt</th>\n",
       "      <td>3600.000000</td>\n",
       "      <td>24700.000000</td>\n",
       "      <td>20000.000000</td>\n",
       "      <td>35000.000000</td>\n",
       "      <td>10400.0000</td>\n",
       "    </tr>\n",
       "    <tr>\n",
       "      <th>funded_amnt</th>\n",
       "      <td>3600.000000</td>\n",
       "      <td>24700.000000</td>\n",
       "      <td>20000.000000</td>\n",
       "      <td>35000.000000</td>\n",
       "      <td>10400.0000</td>\n",
       "    </tr>\n",
       "    <tr>\n",
       "      <th>term</th>\n",
       "      <td>36.000000</td>\n",
       "      <td>36.000000</td>\n",
       "      <td>60.000000</td>\n",
       "      <td>60.000000</td>\n",
       "      <td>60.0000</td>\n",
       "    </tr>\n",
       "    <tr>\n",
       "      <th>installment</th>\n",
       "      <td>123.030000</td>\n",
       "      <td>820.280000</td>\n",
       "      <td>432.660000</td>\n",
       "      <td>829.900000</td>\n",
       "      <td>289.9100</td>\n",
       "    </tr>\n",
       "    <tr>\n",
       "      <th>annual_inc</th>\n",
       "      <td>55000.000000</td>\n",
       "      <td>65000.000000</td>\n",
       "      <td>63000.000000</td>\n",
       "      <td>110000.000000</td>\n",
       "      <td>104433.0000</td>\n",
       "    </tr>\n",
       "    <tr>\n",
       "      <th>dti</th>\n",
       "      <td>0.059100</td>\n",
       "      <td>0.160600</td>\n",
       "      <td>0.107800</td>\n",
       "      <td>0.170600</td>\n",
       "      <td>0.2537</td>\n",
       "    </tr>\n",
       "    <tr>\n",
       "      <th>open_acc</th>\n",
       "      <td>7.000000</td>\n",
       "      <td>22.000000</td>\n",
       "      <td>6.000000</td>\n",
       "      <td>13.000000</td>\n",
       "      <td>12.0000</td>\n",
       "    </tr>\n",
       "    <tr>\n",
       "      <th>pub_rec</th>\n",
       "      <td>0.000000</td>\n",
       "      <td>0.000000</td>\n",
       "      <td>0.000000</td>\n",
       "      <td>0.000000</td>\n",
       "      <td>0.0000</td>\n",
       "    </tr>\n",
       "    <tr>\n",
       "      <th>revol_bal</th>\n",
       "      <td>2765.000000</td>\n",
       "      <td>21470.000000</td>\n",
       "      <td>7869.000000</td>\n",
       "      <td>7802.000000</td>\n",
       "      <td>21929.0000</td>\n",
       "    </tr>\n",
       "    <tr>\n",
       "      <th>revol_util</th>\n",
       "      <td>29.700000</td>\n",
       "      <td>19.200000</td>\n",
       "      <td>56.200000</td>\n",
       "      <td>11.600000</td>\n",
       "      <td>64.5000</td>\n",
       "    </tr>\n",
       "    <tr>\n",
       "      <th>total_acc</th>\n",
       "      <td>13.000000</td>\n",
       "      <td>38.000000</td>\n",
       "      <td>18.000000</td>\n",
       "      <td>17.000000</td>\n",
       "      <td>35.0000</td>\n",
       "    </tr>\n",
       "    <tr>\n",
       "      <th>total_rec_prncp</th>\n",
       "      <td>3600.000000</td>\n",
       "      <td>24700.000000</td>\n",
       "      <td>20000.000000</td>\n",
       "      <td>19102.350000</td>\n",
       "      <td>10400.0000</td>\n",
       "    </tr>\n",
       "    <tr>\n",
       "      <th>recoveries</th>\n",
       "      <td>0.000000</td>\n",
       "      <td>0.000000</td>\n",
       "      <td>0.000000</td>\n",
       "      <td>0.000000</td>\n",
       "      <td>0.0000</td>\n",
       "    </tr>\n",
       "    <tr>\n",
       "      <th>tot_coll_amt</th>\n",
       "      <td>722.000000</td>\n",
       "      <td>0.000000</td>\n",
       "      <td>0.000000</td>\n",
       "      <td>0.000000</td>\n",
       "      <td>0.0000</td>\n",
       "    </tr>\n",
       "    <tr>\n",
       "      <th>tot_cur_bal</th>\n",
       "      <td>144904.000000</td>\n",
       "      <td>204396.000000</td>\n",
       "      <td>189699.000000</td>\n",
       "      <td>301500.000000</td>\n",
       "      <td>331730.0000</td>\n",
       "    </tr>\n",
       "    <tr>\n",
       "      <th>mort_acc</th>\n",
       "      <td>1.000000</td>\n",
       "      <td>4.000000</td>\n",
       "      <td>5.000000</td>\n",
       "      <td>1.000000</td>\n",
       "      <td>6.0000</td>\n",
       "    </tr>\n",
       "    <tr>\n",
       "      <th>pub_rec_bankruptcies</th>\n",
       "      <td>0.000000</td>\n",
       "      <td>0.000000</td>\n",
       "      <td>0.000000</td>\n",
       "      <td>0.000000</td>\n",
       "      <td>0.0000</td>\n",
       "    </tr>\n",
       "    <tr>\n",
       "      <th>earliest_cr_line_difference</th>\n",
       "      <td>15.419576</td>\n",
       "      <td>19.085558</td>\n",
       "      <td>18.417522</td>\n",
       "      <td>10.332649</td>\n",
       "      <td>20.5859</td>\n",
       "    </tr>\n",
       "    <tr>\n",
       "      <th>fico_avg</th>\n",
       "      <td>677.000000</td>\n",
       "      <td>717.000000</td>\n",
       "      <td>697.000000</td>\n",
       "      <td>787.000000</td>\n",
       "      <td>697.0000</td>\n",
       "    </tr>\n",
       "    <tr>\n",
       "      <th>loan_status_encoded</th>\n",
       "      <td>0.000000</td>\n",
       "      <td>0.000000</td>\n",
       "      <td>0.000000</td>\n",
       "      <td>0.000000</td>\n",
       "      <td>0.0000</td>\n",
       "    </tr>\n",
       "    <tr>\n",
       "      <th>emp_length_10+ years</th>\n",
       "      <td>1.000000</td>\n",
       "      <td>1.000000</td>\n",
       "      <td>1.000000</td>\n",
       "      <td>1.000000</td>\n",
       "      <td>0.0000</td>\n",
       "    </tr>\n",
       "    <tr>\n",
       "      <th>emp_length_2 years</th>\n",
       "      <td>0.000000</td>\n",
       "      <td>0.000000</td>\n",
       "      <td>0.000000</td>\n",
       "      <td>0.000000</td>\n",
       "      <td>0.0000</td>\n",
       "    </tr>\n",
       "    <tr>\n",
       "      <th>emp_length_3 years</th>\n",
       "      <td>0.000000</td>\n",
       "      <td>0.000000</td>\n",
       "      <td>0.000000</td>\n",
       "      <td>0.000000</td>\n",
       "      <td>1.0000</td>\n",
       "    </tr>\n",
       "    <tr>\n",
       "      <th>emp_length_4 years</th>\n",
       "      <td>0.000000</td>\n",
       "      <td>0.000000</td>\n",
       "      <td>0.000000</td>\n",
       "      <td>0.000000</td>\n",
       "      <td>0.0000</td>\n",
       "    </tr>\n",
       "    <tr>\n",
       "      <th>emp_length_5 years</th>\n",
       "      <td>0.000000</td>\n",
       "      <td>0.000000</td>\n",
       "      <td>0.000000</td>\n",
       "      <td>0.000000</td>\n",
       "      <td>0.0000</td>\n",
       "    </tr>\n",
       "    <tr>\n",
       "      <th>emp_length_6 years</th>\n",
       "      <td>0.000000</td>\n",
       "      <td>0.000000</td>\n",
       "      <td>0.000000</td>\n",
       "      <td>0.000000</td>\n",
       "      <td>0.0000</td>\n",
       "    </tr>\n",
       "    <tr>\n",
       "      <th>emp_length_7 years</th>\n",
       "      <td>0.000000</td>\n",
       "      <td>0.000000</td>\n",
       "      <td>0.000000</td>\n",
       "      <td>0.000000</td>\n",
       "      <td>0.0000</td>\n",
       "    </tr>\n",
       "    <tr>\n",
       "      <th>emp_length_8 years</th>\n",
       "      <td>0.000000</td>\n",
       "      <td>0.000000</td>\n",
       "      <td>0.000000</td>\n",
       "      <td>0.000000</td>\n",
       "      <td>0.0000</td>\n",
       "    </tr>\n",
       "    <tr>\n",
       "      <th>emp_length_9 years</th>\n",
       "      <td>0.000000</td>\n",
       "      <td>0.000000</td>\n",
       "      <td>0.000000</td>\n",
       "      <td>0.000000</td>\n",
       "      <td>0.0000</td>\n",
       "    </tr>\n",
       "    <tr>\n",
       "      <th>emp_length_&lt; 1 year</th>\n",
       "      <td>0.000000</td>\n",
       "      <td>0.000000</td>\n",
       "      <td>0.000000</td>\n",
       "      <td>0.000000</td>\n",
       "      <td>0.0000</td>\n",
       "    </tr>\n",
       "    <tr>\n",
       "      <th>home_ownership_OTHER</th>\n",
       "      <td>0.000000</td>\n",
       "      <td>0.000000</td>\n",
       "      <td>0.000000</td>\n",
       "      <td>0.000000</td>\n",
       "      <td>0.0000</td>\n",
       "    </tr>\n",
       "    <tr>\n",
       "      <th>home_ownership_OWN</th>\n",
       "      <td>0.000000</td>\n",
       "      <td>0.000000</td>\n",
       "      <td>0.000000</td>\n",
       "      <td>0.000000</td>\n",
       "      <td>0.0000</td>\n",
       "    </tr>\n",
       "    <tr>\n",
       "      <th>home_ownership_RENT</th>\n",
       "      <td>0.000000</td>\n",
       "      <td>0.000000</td>\n",
       "      <td>0.000000</td>\n",
       "      <td>0.000000</td>\n",
       "      <td>0.0000</td>\n",
       "    </tr>\n",
       "    <tr>\n",
       "      <th>verification_status_Source Verified</th>\n",
       "      <td>0.000000</td>\n",
       "      <td>0.000000</td>\n",
       "      <td>0.000000</td>\n",
       "      <td>1.000000</td>\n",
       "      <td>1.0000</td>\n",
       "    </tr>\n",
       "    <tr>\n",
       "      <th>verification_status_Verified</th>\n",
       "      <td>0.000000</td>\n",
       "      <td>0.000000</td>\n",
       "      <td>0.000000</td>\n",
       "      <td>0.000000</td>\n",
       "      <td>0.0000</td>\n",
       "    </tr>\n",
       "    <tr>\n",
       "      <th>purpose_life_events</th>\n",
       "      <td>0.000000</td>\n",
       "      <td>1.000000</td>\n",
       "      <td>0.000000</td>\n",
       "      <td>0.000000</td>\n",
       "      <td>0.0000</td>\n",
       "    </tr>\n",
       "    <tr>\n",
       "      <th>purpose_major_purchases</th>\n",
       "      <td>0.000000</td>\n",
       "      <td>0.000000</td>\n",
       "      <td>1.000000</td>\n",
       "      <td>0.000000</td>\n",
       "      <td>1.0000</td>\n",
       "    </tr>\n",
       "    <tr>\n",
       "      <th>purpose_other</th>\n",
       "      <td>0.000000</td>\n",
       "      <td>0.000000</td>\n",
       "      <td>0.000000</td>\n",
       "      <td>0.000000</td>\n",
       "      <td>0.0000</td>\n",
       "    </tr>\n",
       "    <tr>\n",
       "      <th>initial_list_status_w</th>\n",
       "      <td>1.000000</td>\n",
       "      <td>1.000000</td>\n",
       "      <td>1.000000</td>\n",
       "      <td>1.000000</td>\n",
       "      <td>1.0000</td>\n",
       "    </tr>\n",
       "    <tr>\n",
       "      <th>disbursement_method_DirectPay</th>\n",
       "      <td>0.000000</td>\n",
       "      <td>0.000000</td>\n",
       "      <td>0.000000</td>\n",
       "      <td>0.000000</td>\n",
       "      <td>0.0000</td>\n",
       "    </tr>\n",
       "    <tr>\n",
       "      <th>region_NorthEast</th>\n",
       "      <td>1.000000</td>\n",
       "      <td>0.000000</td>\n",
       "      <td>0.000000</td>\n",
       "      <td>1.000000</td>\n",
       "      <td>1.0000</td>\n",
       "    </tr>\n",
       "    <tr>\n",
       "      <th>region_SouthEast</th>\n",
       "      <td>0.000000</td>\n",
       "      <td>0.000000</td>\n",
       "      <td>0.000000</td>\n",
       "      <td>0.000000</td>\n",
       "      <td>0.0000</td>\n",
       "    </tr>\n",
       "    <tr>\n",
       "      <th>region_SouthWest</th>\n",
       "      <td>0.000000</td>\n",
       "      <td>0.000000</td>\n",
       "      <td>0.000000</td>\n",
       "      <td>0.000000</td>\n",
       "      <td>0.0000</td>\n",
       "    </tr>\n",
       "    <tr>\n",
       "      <th>region_West</th>\n",
       "      <td>0.000000</td>\n",
       "      <td>0.000000</td>\n",
       "      <td>0.000000</td>\n",
       "      <td>0.000000</td>\n",
       "      <td>0.0000</td>\n",
       "    </tr>\n",
       "  </tbody>\n",
       "</table>\n",
       "</div>"
      ],
      "text/plain": [
       "                                                 0              1  \\\n",
       "loan_amnt                              3600.000000   24700.000000   \n",
       "funded_amnt                            3600.000000   24700.000000   \n",
       "term                                     36.000000      36.000000   \n",
       "installment                             123.030000     820.280000   \n",
       "annual_inc                            55000.000000   65000.000000   \n",
       "dti                                       0.059100       0.160600   \n",
       "open_acc                                  7.000000      22.000000   \n",
       "pub_rec                                   0.000000       0.000000   \n",
       "revol_bal                              2765.000000   21470.000000   \n",
       "revol_util                               29.700000      19.200000   \n",
       "total_acc                                13.000000      38.000000   \n",
       "total_rec_prncp                        3600.000000   24700.000000   \n",
       "recoveries                                0.000000       0.000000   \n",
       "tot_coll_amt                            722.000000       0.000000   \n",
       "tot_cur_bal                          144904.000000  204396.000000   \n",
       "mort_acc                                  1.000000       4.000000   \n",
       "pub_rec_bankruptcies                      0.000000       0.000000   \n",
       "earliest_cr_line_difference              15.419576      19.085558   \n",
       "fico_avg                                677.000000     717.000000   \n",
       "loan_status_encoded                       0.000000       0.000000   \n",
       "emp_length_10+ years                      1.000000       1.000000   \n",
       "emp_length_2 years                        0.000000       0.000000   \n",
       "emp_length_3 years                        0.000000       0.000000   \n",
       "emp_length_4 years                        0.000000       0.000000   \n",
       "emp_length_5 years                        0.000000       0.000000   \n",
       "emp_length_6 years                        0.000000       0.000000   \n",
       "emp_length_7 years                        0.000000       0.000000   \n",
       "emp_length_8 years                        0.000000       0.000000   \n",
       "emp_length_9 years                        0.000000       0.000000   \n",
       "emp_length_< 1 year                       0.000000       0.000000   \n",
       "home_ownership_OTHER                      0.000000       0.000000   \n",
       "home_ownership_OWN                        0.000000       0.000000   \n",
       "home_ownership_RENT                       0.000000       0.000000   \n",
       "verification_status_Source Verified       0.000000       0.000000   \n",
       "verification_status_Verified              0.000000       0.000000   \n",
       "purpose_life_events                       0.000000       1.000000   \n",
       "purpose_major_purchases                   0.000000       0.000000   \n",
       "purpose_other                             0.000000       0.000000   \n",
       "initial_list_status_w                     1.000000       1.000000   \n",
       "disbursement_method_DirectPay             0.000000       0.000000   \n",
       "region_NorthEast                          1.000000       0.000000   \n",
       "region_SouthEast                          0.000000       0.000000   \n",
       "region_SouthWest                          0.000000       0.000000   \n",
       "region_West                               0.000000       0.000000   \n",
       "\n",
       "                                                 2              3            4  \n",
       "loan_amnt                             20000.000000   35000.000000   10400.0000  \n",
       "funded_amnt                           20000.000000   35000.000000   10400.0000  \n",
       "term                                     60.000000      60.000000      60.0000  \n",
       "installment                             432.660000     829.900000     289.9100  \n",
       "annual_inc                            63000.000000  110000.000000  104433.0000  \n",
       "dti                                       0.107800       0.170600       0.2537  \n",
       "open_acc                                  6.000000      13.000000      12.0000  \n",
       "pub_rec                                   0.000000       0.000000       0.0000  \n",
       "revol_bal                              7869.000000    7802.000000   21929.0000  \n",
       "revol_util                               56.200000      11.600000      64.5000  \n",
       "total_acc                                18.000000      17.000000      35.0000  \n",
       "total_rec_prncp                       20000.000000   19102.350000   10400.0000  \n",
       "recoveries                                0.000000       0.000000       0.0000  \n",
       "tot_coll_amt                              0.000000       0.000000       0.0000  \n",
       "tot_cur_bal                          189699.000000  301500.000000  331730.0000  \n",
       "mort_acc                                  5.000000       1.000000       6.0000  \n",
       "pub_rec_bankruptcies                      0.000000       0.000000       0.0000  \n",
       "earliest_cr_line_difference              18.417522      10.332649      20.5859  \n",
       "fico_avg                                697.000000     787.000000     697.0000  \n",
       "loan_status_encoded                       0.000000       0.000000       0.0000  \n",
       "emp_length_10+ years                      1.000000       1.000000       0.0000  \n",
       "emp_length_2 years                        0.000000       0.000000       0.0000  \n",
       "emp_length_3 years                        0.000000       0.000000       1.0000  \n",
       "emp_length_4 years                        0.000000       0.000000       0.0000  \n",
       "emp_length_5 years                        0.000000       0.000000       0.0000  \n",
       "emp_length_6 years                        0.000000       0.000000       0.0000  \n",
       "emp_length_7 years                        0.000000       0.000000       0.0000  \n",
       "emp_length_8 years                        0.000000       0.000000       0.0000  \n",
       "emp_length_9 years                        0.000000       0.000000       0.0000  \n",
       "emp_length_< 1 year                       0.000000       0.000000       0.0000  \n",
       "home_ownership_OTHER                      0.000000       0.000000       0.0000  \n",
       "home_ownership_OWN                        0.000000       0.000000       0.0000  \n",
       "home_ownership_RENT                       0.000000       0.000000       0.0000  \n",
       "verification_status_Source Verified       0.000000       1.000000       1.0000  \n",
       "verification_status_Verified              0.000000       0.000000       0.0000  \n",
       "purpose_life_events                       0.000000       0.000000       0.0000  \n",
       "purpose_major_purchases                   1.000000       0.000000       1.0000  \n",
       "purpose_other                             0.000000       0.000000       0.0000  \n",
       "initial_list_status_w                     1.000000       1.000000       1.0000  \n",
       "disbursement_method_DirectPay             0.000000       0.000000       0.0000  \n",
       "region_NorthEast                          0.000000       1.000000       1.0000  \n",
       "region_SouthEast                          0.000000       0.000000       0.0000  \n",
       "region_SouthWest                          0.000000       0.000000       0.0000  \n",
       "region_West                               0.000000       0.000000       0.0000  "
      ]
     },
     "execution_count": 4,
     "metadata": {},
     "output_type": "execute_result"
    }
   ],
   "source": [
    "data.head().T"
   ]
  },
  {
   "cell_type": "code",
   "execution_count": 5,
   "metadata": {},
   "outputs": [],
   "source": [
    "## we take only the accounts where borrower has defaulted\n",
    "## Default = 1\n",
    "df = data.loc[data['loan_status_encoded']==1]"
   ]
  },
  {
   "cell_type": "code",
   "execution_count": 6,
   "metadata": {},
   "outputs": [
    {
     "data": {
      "text/plain": [
       "(290066, 44)"
      ]
     },
     "execution_count": 6,
     "metadata": {},
     "output_type": "execute_result"
    }
   ],
   "source": [
    "df.shape"
   ]
  },
  {
   "cell_type": "code",
   "execution_count": 8,
   "metadata": {},
   "outputs": [],
   "source": [
    "# We calculate the dependent variable for the LGD model: recovery rate.\n",
    "# It is the ratio of recoveries and funded amount.\n",
    "df['recovery_rate'] = df['recoveries'] / df['funded_amnt']"
   ]
  },
  {
   "cell_type": "markdown",
   "metadata": {},
   "source": [
    "Note: 'recoveries' is gross recovery post charge off and 'funded_amnt' is the outstanding principal amount on loans"
   ]
  },
  {
   "cell_type": "code",
   "execution_count": 9,
   "metadata": {},
   "outputs": [
    {
     "data": {
      "text/plain": [
       "count    290066.000000\n",
       "mean          0.069782\n",
       "std           0.093487\n",
       "min           0.000000\n",
       "25%           0.000000\n",
       "50%           0.051670\n",
       "75%           0.107936\n",
       "max           2.170300\n",
       "Name: recovery_rate, dtype: float64"
      ]
     },
     "execution_count": 9,
     "metadata": {},
     "output_type": "execute_result"
    }
   ],
   "source": [
    "df['recovery_rate'].describe()"
   ]
  },
  {
   "cell_type": "code",
   "execution_count": 10,
   "metadata": {},
   "outputs": [],
   "source": [
    "# We set recovery rates that are greater than 1 to 1 and recovery rates that are less than 0 to 0.\n",
    "df['recovery_rate'] = np.where(df['recovery_rate'] > 1, 1, df['recovery_rate'])\n",
    "df['recovery_rate'] = np.where(df['recovery_rate'] < 0, 0, df['recovery_rate'])"
   ]
  },
  {
   "cell_type": "code",
   "execution_count": 11,
   "metadata": {},
   "outputs": [
    {
     "data": {
      "text/plain": [
       "count    290066.000000\n",
       "mean          0.069756\n",
       "std           0.093196\n",
       "min           0.000000\n",
       "25%           0.000000\n",
       "50%           0.051670\n",
       "75%           0.107936\n",
       "max           1.000000\n",
       "Name: recovery_rate, dtype: float64"
      ]
     },
     "execution_count": 11,
     "metadata": {},
     "output_type": "execute_result"
    }
   ],
   "source": [
    "df['recovery_rate'].describe()"
   ]
  },
  {
   "cell_type": "code",
   "execution_count": 12,
   "metadata": {},
   "outputs": [
    {
     "name": "stdout",
     "output_type": "stream",
     "text": [
      "13    0.089939\n",
      "25    0.087188\n",
      "30    0.000000\n",
      "31    0.000000\n",
      "33    0.000000\n",
      "Name: recovery_rate, dtype: float64\n"
     ]
    }
   ],
   "source": [
    "print(df['recovery_rate'].head())"
   ]
  },
  {
   "cell_type": "code",
   "execution_count": 13,
   "metadata": {},
   "outputs": [],
   "source": [
    "# We calculate the dependent variable for the EAD model: credit conversion factor.\n",
    "# It is the ratio of the the principal amount yet to be received by the bank to the total funded amount.\n",
    "df['CCF'] = (df['funded_amnt'] - df['total_rec_prncp']) / df['funded_amnt']"
   ]
  },
  {
   "cell_type": "markdown",
   "metadata": {},
   "source": [
    "'total_rec_prncp' represents principal received to date. "
   ]
  },
  {
   "cell_type": "code",
   "execution_count": 14,
   "metadata": {},
   "outputs": [
    {
     "data": {
      "text/plain": [
       "count    290066.000000\n",
       "mean          0.693610\n",
       "std           0.221036\n",
       "min           0.000000\n",
       "25%           0.560321\n",
       "50%           0.744292\n",
       "75%           0.870417\n",
       "max           1.000000\n",
       "Name: CCF, dtype: float64"
      ]
     },
     "execution_count": 14,
     "metadata": {},
     "output_type": "execute_result"
    }
   ],
   "source": [
    "df['CCF'].describe()"
   ]
  },
  {
   "cell_type": "code",
   "execution_count": 15,
   "metadata": {},
   "outputs": [],
   "source": [
    "###########################"
   ]
  },
  {
   "cell_type": "code",
   "execution_count": 16,
   "metadata": {},
   "outputs": [],
   "source": [
    "# We create a new variable which is 0 if recovery rate is 0 and 1 otherwise.\n",
    "df['recovery_rate_encoded'] = np.where(df['recovery_rate'] == 0, 0, 1)"
   ]
  },
  {
   "cell_type": "code",
   "execution_count": 17,
   "metadata": {},
   "outputs": [
    {
     "name": "stdout",
     "output_type": "stream",
     "text": [
      "[1 0]\n"
     ]
    }
   ],
   "source": [
    "print(df['recovery_rate_encoded'].unique())"
   ]
  },
  {
   "cell_type": "code",
   "execution_count": 18,
   "metadata": {},
   "outputs": [
    {
     "data": {
      "text/plain": [
       "Index(['loan_amnt', 'funded_amnt', 'term', 'installment', 'annual_inc', 'dti',\n",
       "       'open_acc', 'pub_rec', 'revol_bal', 'revol_util', 'total_acc',\n",
       "       'total_rec_prncp', 'recoveries', 'tot_coll_amt', 'tot_cur_bal',\n",
       "       'mort_acc', 'pub_rec_bankruptcies', 'earliest_cr_line_difference',\n",
       "       'fico_avg', 'loan_status_encoded', 'emp_length_10+ years',\n",
       "       'emp_length_2 years', 'emp_length_3 years', 'emp_length_4 years',\n",
       "       'emp_length_5 years', 'emp_length_6 years', 'emp_length_7 years',\n",
       "       'emp_length_8 years', 'emp_length_9 years', 'emp_length_< 1 year',\n",
       "       'home_ownership_OTHER', 'home_ownership_OWN', 'home_ownership_RENT',\n",
       "       'verification_status_Source Verified', 'verification_status_Verified',\n",
       "       'purpose_life_events', 'purpose_major_purchases', 'purpose_other',\n",
       "       'initial_list_status_w', 'disbursement_method_DirectPay',\n",
       "       'region_NorthEast', 'region_SouthEast', 'region_SouthWest',\n",
       "       'region_West', 'recovery_rate', 'CCF', 'recovery_rate_encoded'],\n",
       "      dtype='object')"
      ]
     },
     "execution_count": 18,
     "metadata": {},
     "output_type": "execute_result"
    }
   ],
   "source": [
    "df.columns"
   ]
  },
  {
   "cell_type": "code",
   "execution_count": 19,
   "metadata": {},
   "outputs": [],
   "source": [
    "df = df.drop(['total_rec_prncp','recoveries'], axis=1)"
   ]
  },
  {
   "cell_type": "markdown",
   "metadata": {},
   "source": [
    "### LGD MODEL STAGE-1: Classification\n",
    "\n",
    "- Logistic regression\n",
    "- Random forest classifier\n",
    "- Adaboost classifier\n",
    "- Gradientboost classifier"
   ]
  },
  {
   "cell_type": "code",
   "execution_count": 20,
   "metadata": {},
   "outputs": [],
   "source": [
    "# Function for evaluation metrics\n",
    "def evaluation_metrics_class(model,y_test,y_scores):\n",
    "    acc_score = accuracy_score(y_test,y_scores)\n",
    "    precision = precision_score(y_test, y_scores)\n",
    "    recall = recall_score(y_test, y_scores)\n",
    "    F1_score = f1_score(y_test, y_scores)\n",
    "    \n",
    "    print('Accuracy score: ', acc_score)\n",
    "    print('Precision: ',precision)\n",
    "    print('Recall: ',recall)\n",
    "    print('F1 score: ',F1_score)\n",
    "    \n",
    "    return ({'Model':model,'Accuracy':acc_score,'Precision':precision,'Recall':recall,'F1 score':F1_score})"
   ]
  },
  {
   "cell_type": "code",
   "execution_count": 21,
   "metadata": {},
   "outputs": [],
   "source": [
    "# Creating an empty metrics dictionary to append the values\n",
    "metrics_class = {'Models':[],\n",
    "          'Accuracy':[],\n",
    "          'Precision':[],\n",
    "          'Recall':[],\n",
    "          'F1 score':[]\n",
    "          }\n",
    "\n",
    "#Function to update metrics dictionary for each model being fitted\n",
    "def update_metrics_class(metrics_class,Model_met):\n",
    "    \n",
    "    metrics_class['Models'].append(Model_met['Model'])\n",
    "    metrics_class['Accuracy'].append(Model_met['Accuracy'])\n",
    "    metrics_class['Precision'].append(Model_met['Precision'])\n",
    "    metrics_class['Recall'].append(Model_met['Recall'])\n",
    "    metrics_class['F1 score'].append(Model_met['F1 score'])\n",
    "    \n",
    "    return metrics_class"
   ]
  },
  {
   "cell_type": "code",
   "execution_count": 22,
   "metadata": {},
   "outputs": [],
   "source": [
    "# function for hyper parameter tuning of different model\n",
    "def grid_search(model,x_train,y_train,parameters,Hypermodel):\n",
    "\n",
    "    rfc = model\n",
    "    param_grid = parameters\n",
    "    grid_search_model = Hypermodel(rfc, param_grid=param_grid)\n",
    "    grid_search_model.fit(x_train, y_train)\n",
    "    print('Best Parameters are:')\n",
    "    return grid_search_model.best_params_"
   ]
  },
  {
   "cell_type": "code",
   "execution_count": 23,
   "metadata": {},
   "outputs": [],
   "source": [
    "# splitting df variables into train and test for LGD-1\n",
    "x_train_lgd1, x_test_lgd1, y_train_lgd1, y_test_lgd1 = train_test_split(\n",
    "                                 df.drop(['loan_status_encoded', 'recovery_rate','recovery_rate_encoded', 'CCF'], axis = 1), \n",
    "                                 df['recovery_rate_encoded'], test_size = 0.2, random_state = 123)"
   ]
  },
  {
   "cell_type": "markdown",
   "metadata": {},
   "source": [
    "#### Logistic Regression"
   ]
  },
  {
   "cell_type": "code",
   "execution_count": 24,
   "metadata": {},
   "outputs": [
    {
     "data": {
      "text/plain": [
       "LogisticRegression()"
      ]
     },
     "execution_count": 24,
     "metadata": {},
     "output_type": "execute_result"
    }
   ],
   "source": [
    "# Instantiating model and fitting the train variables\n",
    "lrclassifier = LogisticRegression()\n",
    "lrclassifier.fit(x_train_lgd1,y_train_lgd1)"
   ]
  },
  {
   "cell_type": "code",
   "execution_count": 25,
   "metadata": {},
   "outputs": [],
   "source": [
    "# Predicting target values for x_test\n",
    "lrpredict = lrclassifier.predict(x_test_lgd1)"
   ]
  },
  {
   "cell_type": "code",
   "execution_count": 26,
   "metadata": {},
   "outputs": [
    {
     "name": "stdout",
     "output_type": "stream",
     "text": [
      "Accuracy score:  0.6365877202054676\n",
      "Precision:  0.6365877202054676\n",
      "Recall:  1.0\n",
      "F1 score:  0.7779451261256516\n"
     ]
    }
   ],
   "source": [
    "# Performance evaluation\n",
    "lr_met = evaluation_metrics_class('Logistic_Reg',y_test_lgd1,lrpredict)\n",
    "metrics_cl = update_metrics_class(metrics_class,lr_met)"
   ]
  },
  {
   "cell_type": "markdown",
   "metadata": {},
   "source": [
    "#### Random Forest Classifier"
   ]
  },
  {
   "cell_type": "code",
   "execution_count": 27,
   "metadata": {},
   "outputs": [
    {
     "data": {
      "text/plain": [
       "RandomForestClassifier()"
      ]
     },
     "execution_count": 27,
     "metadata": {},
     "output_type": "execute_result"
    }
   ],
   "source": [
    "# Instantiating and fitting the model\n",
    "rfclassifier = RandomForestClassifier()\n",
    "rfclassifier.fit(x_train_lgd1,y_train_lgd1)"
   ]
  },
  {
   "cell_type": "code",
   "execution_count": 28,
   "metadata": {},
   "outputs": [],
   "source": [
    "# Predicting target values for x_test\n",
    "rfpredict = rfclassifier.predict(x_test_lgd1)"
   ]
  },
  {
   "cell_type": "code",
   "execution_count": 29,
   "metadata": {},
   "outputs": [
    {
     "name": "stdout",
     "output_type": "stream",
     "text": [
      "Accuracy score:  0.6462060881856103\n",
      "Precision:  0.662577295068971\n",
      "Recall:  0.9052286696812976\n",
      "F1 score:  0.7651252474624374\n"
     ]
    }
   ],
   "source": [
    "# Performance evaluation\n",
    "rf_met = evaluation_metrics_class('Random_Forest',y_test_lgd1,rfpredict)\n",
    "metrics_cl = update_metrics_class(metrics_class,rf_met)"
   ]
  },
  {
   "cell_type": "markdown",
   "metadata": {},
   "source": [
    "#### Adaboost Classifier"
   ]
  },
  {
   "cell_type": "code",
   "execution_count": 30,
   "metadata": {},
   "outputs": [
    {
     "data": {
      "text/plain": [
       "AdaBoostClassifier()"
      ]
     },
     "execution_count": 30,
     "metadata": {},
     "output_type": "execute_result"
    }
   ],
   "source": [
    "# Instantiating and fitting the model\n",
    "adaclassifier = AdaBoostClassifier()\n",
    "adaclassifier.fit(x_train_lgd1,y_train_lgd1)"
   ]
  },
  {
   "cell_type": "code",
   "execution_count": 31,
   "metadata": {},
   "outputs": [],
   "source": [
    "# Predicting target values for x_test\n",
    "adapredict = adaclassifier.predict(x_test_lgd1)"
   ]
  },
  {
   "cell_type": "code",
   "execution_count": 32,
   "metadata": {},
   "outputs": [
    {
     "name": "stdout",
     "output_type": "stream",
     "text": [
      "Accuracy score:  0.6469817630227187\n",
      "Precision:  0.6518656647526909\n",
      "Recall:  0.9560261027321221\n",
      "F1 score:  0.7751772893933738\n"
     ]
    }
   ],
   "source": [
    "# Performance evaluation\n",
    "ada_met = evaluation_metrics_class('Adaboost',y_test_lgd1,adapredict)\n",
    "metrics_cl = update_metrics_class(metrics_class,ada_met)"
   ]
  },
  {
   "cell_type": "markdown",
   "metadata": {},
   "source": [
    "#### Gradient Boosting Classifier"
   ]
  },
  {
   "cell_type": "code",
   "execution_count": 33,
   "metadata": {},
   "outputs": [
    {
     "data": {
      "text/plain": [
       "GradientBoostingClassifier()"
      ]
     },
     "execution_count": 33,
     "metadata": {},
     "output_type": "execute_result"
    }
   ],
   "source": [
    "# Instantiating and fitting the model\n",
    "gdbclassifier = GradientBoostingClassifier()\n",
    "gdbclassifier.fit(x_train_lgd1,y_train_lgd1)"
   ]
  },
  {
   "cell_type": "code",
   "execution_count": 34,
   "metadata": {},
   "outputs": [],
   "source": [
    "# Predicting target values for x_test\n",
    "gdbpredict = gdbclassifier.predict(x_test_lgd1)"
   ]
  },
  {
   "cell_type": "code",
   "execution_count": 35,
   "metadata": {},
   "outputs": [
    {
     "name": "stdout",
     "output_type": "stream",
     "text": [
      "Accuracy score:  0.6498086668735132\n",
      "Precision:  0.6521269387829844\n",
      "Recall:  0.9642847472313233\n",
      "F1 score:  0.778064234214551\n"
     ]
    }
   ],
   "source": [
    "# Performance evaluation\n",
    "gdb_met = evaluation_metrics_class('Gradientboost',y_test_lgd1,gdbpredict)\n",
    "metrics_cl = update_metrics_class(metrics_class,gdb_met)"
   ]
  },
  {
   "cell_type": "code",
   "execution_count": 36,
   "metadata": {},
   "outputs": [
    {
     "data": {
      "text/html": [
       "<div>\n",
       "<style scoped>\n",
       "    .dataframe tbody tr th:only-of-type {\n",
       "        vertical-align: middle;\n",
       "    }\n",
       "\n",
       "    .dataframe tbody tr th {\n",
       "        vertical-align: top;\n",
       "    }\n",
       "\n",
       "    .dataframe thead th {\n",
       "        text-align: right;\n",
       "    }\n",
       "</style>\n",
       "<table border=\"1\" class=\"dataframe\">\n",
       "  <thead>\n",
       "    <tr style=\"text-align: right;\">\n",
       "      <th></th>\n",
       "      <th>Models</th>\n",
       "      <th>Accuracy</th>\n",
       "      <th>Precision</th>\n",
       "      <th>Recall</th>\n",
       "      <th>F1 score</th>\n",
       "    </tr>\n",
       "  </thead>\n",
       "  <tbody>\n",
       "    <tr>\n",
       "      <th>0</th>\n",
       "      <td>Logistic_Reg</td>\n",
       "      <td>0.636588</td>\n",
       "      <td>0.636588</td>\n",
       "      <td>1.000000</td>\n",
       "      <td>0.777945</td>\n",
       "    </tr>\n",
       "    <tr>\n",
       "      <th>1</th>\n",
       "      <td>Random_Forest</td>\n",
       "      <td>0.646206</td>\n",
       "      <td>0.662577</td>\n",
       "      <td>0.905229</td>\n",
       "      <td>0.765125</td>\n",
       "    </tr>\n",
       "    <tr>\n",
       "      <th>2</th>\n",
       "      <td>Adaboost</td>\n",
       "      <td>0.646982</td>\n",
       "      <td>0.651866</td>\n",
       "      <td>0.956026</td>\n",
       "      <td>0.775177</td>\n",
       "    </tr>\n",
       "    <tr>\n",
       "      <th>3</th>\n",
       "      <td>Gradientboost</td>\n",
       "      <td>0.649809</td>\n",
       "      <td>0.652127</td>\n",
       "      <td>0.964285</td>\n",
       "      <td>0.778064</td>\n",
       "    </tr>\n",
       "  </tbody>\n",
       "</table>\n",
       "</div>"
      ],
      "text/plain": [
       "          Models  Accuracy  Precision    Recall  F1 score\n",
       "0   Logistic_Reg  0.636588   0.636588  1.000000  0.777945\n",
       "1  Random_Forest  0.646206   0.662577  0.905229  0.765125\n",
       "2       Adaboost  0.646982   0.651866  0.956026  0.775177\n",
       "3  Gradientboost  0.649809   0.652127  0.964285  0.778064"
      ]
     },
     "execution_count": 36,
     "metadata": {},
     "output_type": "execute_result"
    }
   ],
   "source": [
    "# Metrics comparison\n",
    "metrics_df1 = pd.DataFrame(metrics_cl, columns=metrics_cl.keys())\n",
    "metrics_df1"
   ]
  },
  {
   "cell_type": "markdown",
   "metadata": {},
   "source": [
    "Gradient boost appears to be our best performing model here with high scores across all metrics"
   ]
  },
  {
   "cell_type": "code",
   "execution_count": 37,
   "metadata": {},
   "outputs": [
    {
     "name": "stdout",
     "output_type": "stream",
     "text": [
      "Best Parameters are:\n"
     ]
    },
    {
     "data": {
      "text/plain": [
       "{'learning_rate': 0.5, 'n_estimators': 8}"
      ]
     },
     "execution_count": 37,
     "metadata": {},
     "output_type": "execute_result"
    }
   ],
   "source": [
    "# Tuning gradient boost model\n",
    "# Searching for best parameter set\n",
    "param_grid = {\"n_estimators\" : [2, 4, 8],\n",
    "              \"learning_rate\" : [0.5, 0.25, 0.1]\n",
    "              }\n",
    "grid_search(GradientBoostingClassifier(),x_train_lgd1,y_train_lgd1,param_grid,GridSearchCV)"
   ]
  },
  {
   "cell_type": "code",
   "execution_count": 38,
   "metadata": {},
   "outputs": [
    {
     "data": {
      "text/plain": [
       "GradientBoostingClassifier(learning_rate=0.5, n_estimators=8)"
      ]
     },
     "execution_count": 38,
     "metadata": {},
     "output_type": "execute_result"
    }
   ],
   "source": [
    "# Instantiating and fitting the model using the best parameters\n",
    "gdbclassifier_tuned = GradientBoostingClassifier(learning_rate=0.5,n_estimators=8)\n",
    "gdbclassifier_tuned.fit(x_train_lgd1,y_train_lgd1)"
   ]
  },
  {
   "cell_type": "code",
   "execution_count": 39,
   "metadata": {},
   "outputs": [],
   "source": [
    "# Predicting target values for x_test\n",
    "gdbpredict_tuned = gdbclassifier_tuned.predict(x_test_lgd1)"
   ]
  },
  {
   "cell_type": "code",
   "execution_count": 40,
   "metadata": {},
   "outputs": [
    {
     "name": "stdout",
     "output_type": "stream",
     "text": [
      "Accuracy score:  0.6462233254042128\n",
      "Precision:  0.647792170356892\n",
      "Recall:  0.9736264926484525\n",
      "F1 score:  0.7779700988770851\n"
     ]
    }
   ],
   "source": [
    "# Performance evaluation\n",
    "tuned_gdb_met = evaluation_metrics_class('Tuned_Gradientboost',y_test_lgd1,gdbpredict_tuned)"
   ]
  },
  {
   "cell_type": "code",
   "execution_count": 41,
   "metadata": {},
   "outputs": [],
   "source": [
    "# Save the default gradient boost model\n",
    "pickle.dump(gdbclassifier, open('lgd_stage_1.pkl', 'wb'))"
   ]
  },
  {
   "cell_type": "markdown",
   "metadata": {},
   "source": [
    "### LGD MODEL STAGE-2: Regression\n",
    "\n",
    "- Linear regression\n",
    "- Random forest regressor\n",
    "- Adaboost regressor\n",
    "- Gradientboost regressor"
   ]
  },
  {
   "cell_type": "code",
   "execution_count": 49,
   "metadata": {},
   "outputs": [],
   "source": [
    "# Function for evaluation metrics\n",
    "def evaluation_metrics_reg(model,y_test,y_pred):\n",
    "    mse = mean_squared_error(y_test,y_pred)\n",
    "    r2 = r2_score(y_test,y_pred)\n",
    "   \n",
    "    print('MSE: ', mse)\n",
    "    print('R-square value: ', r2)\n",
    "    \n",
    "    return ({'Model':model,'mse':mse,'r2':r2})"
   ]
  },
  {
   "cell_type": "code",
   "execution_count": 50,
   "metadata": {},
   "outputs": [],
   "source": [
    "# Creating an empty metrics dictionary to append the values\n",
    "metrics_reg = {'Models':[],\n",
    "               'MSE':[],\n",
    "               'R-Squared':[]}\n",
    "\n",
    "# Function to update metrics dictionary for each model being fitted\n",
    "def update_metrics_reg(metrics_reg,model_met):\n",
    "    \n",
    "    metrics_reg['Models'].append(model_met['Model'])\n",
    "    metrics_reg['MSE'].append(model_met['mse'])\n",
    "    metrics_reg['R-Squared'].append(model_met['r2'])\n",
    "    \n",
    "    return metrics_reg"
   ]
  },
  {
   "cell_type": "code",
   "execution_count": 44,
   "metadata": {},
   "outputs": [],
   "source": [
    "# Here we take only rows where the original recovery rate variable is greater than one,\n",
    "# i.e. where the indicator variable we created is equal to 1.\n",
    "df2 = df[df['recovery_rate_encoded'] == 1]"
   ]
  },
  {
   "cell_type": "code",
   "execution_count": 45,
   "metadata": {},
   "outputs": [
    {
     "data": {
      "text/plain": [
       "(184684, 45)"
      ]
     },
     "execution_count": 45,
     "metadata": {},
     "output_type": "execute_result"
    }
   ],
   "source": [
    "df2.shape"
   ]
  },
  {
   "cell_type": "code",
   "execution_count": 46,
   "metadata": {},
   "outputs": [],
   "source": [
    "# Splitting df2 variables into train and test sets for LGD-2\n",
    "x_train_lgd2, x_test_lgd2, y_train_lgd2, y_test_lgd2 = train_test_split(\n",
    "                                 df2.drop(['loan_status_encoded', 'recovery_rate','recovery_rate_encoded', 'CCF'], axis = 1), \n",
    "                                 df2['recovery_rate'], test_size = 0.2, random_state = 456)"
   ]
  },
  {
   "cell_type": "markdown",
   "metadata": {},
   "source": [
    "#### Linear Regression"
   ]
  },
  {
   "cell_type": "code",
   "execution_count": 47,
   "metadata": {},
   "outputs": [
    {
     "data": {
      "text/plain": [
       "LinearRegression()"
      ]
     },
     "execution_count": 47,
     "metadata": {},
     "output_type": "execute_result"
    }
   ],
   "source": [
    "# Instantiating model and fitting the train variables\n",
    "linear_reg = LinearRegression()\n",
    "linear_reg.fit(x_train_lgd2,y_train_lgd2)"
   ]
  },
  {
   "cell_type": "code",
   "execution_count": 48,
   "metadata": {},
   "outputs": [],
   "source": [
    "# Predicting target values for x_test\n",
    "lg_pred = linear_reg.predict(x_test_lgd2)"
   ]
  },
  {
   "cell_type": "code",
   "execution_count": 51,
   "metadata": {},
   "outputs": [
    {
     "name": "stdout",
     "output_type": "stream",
     "text": [
      "MSE:  0.009077507307760108\n",
      "R-square value:  0.021169982795806952\n"
     ]
    }
   ],
   "source": [
    "# Performance evaluation\n",
    "lg_met = evaluation_metrics_reg('Linear Regression',y_test_lgd2,lg_pred)\n",
    "metrics_reg = update_metrics_reg(metrics_reg,lg_met)"
   ]
  },
  {
   "cell_type": "markdown",
   "metadata": {},
   "source": [
    "#### Random Forest Regressor"
   ]
  },
  {
   "cell_type": "code",
   "execution_count": 52,
   "metadata": {},
   "outputs": [
    {
     "data": {
      "text/plain": [
       "RandomForestRegressor()"
      ]
     },
     "execution_count": 52,
     "metadata": {},
     "output_type": "execute_result"
    }
   ],
   "source": [
    "# Instantiating model and fitting the train variables\n",
    "rf_reg = RandomForestRegressor()\n",
    "rf_reg.fit(x_train_lgd2,y_train_lgd2)"
   ]
  },
  {
   "cell_type": "code",
   "execution_count": 53,
   "metadata": {},
   "outputs": [],
   "source": [
    "# Predicting target values for x_test\n",
    "rf_pred = rf_reg.predict(x_test_lgd2)"
   ]
  },
  {
   "cell_type": "code",
   "execution_count": 54,
   "metadata": {},
   "outputs": [
    {
     "name": "stdout",
     "output_type": "stream",
     "text": [
      "MSE:  0.009264878622810207\n",
      "R-square value:  0.0009656842680300093\n"
     ]
    }
   ],
   "source": [
    "# Performance evaluation\n",
    "rf_met = evaluation_metrics_reg('Random Forest Reg',y_test_lgd2,rf_pred)\n",
    "metrics_reg = update_metrics_reg(metrics_reg,rf_met)"
   ]
  },
  {
   "cell_type": "markdown",
   "metadata": {},
   "source": [
    "#### Adaboost Regressor"
   ]
  },
  {
   "cell_type": "code",
   "execution_count": 55,
   "metadata": {},
   "outputs": [
    {
     "data": {
      "text/plain": [
       "AdaBoostRegressor()"
      ]
     },
     "execution_count": 55,
     "metadata": {},
     "output_type": "execute_result"
    }
   ],
   "source": [
    "# Instantiating model and fitting the train variables\n",
    "adb_reg = AdaBoostRegressor()\n",
    "adb_reg.fit(x_train_lgd2,y_train_lgd2)"
   ]
  },
  {
   "cell_type": "code",
   "execution_count": 56,
   "metadata": {},
   "outputs": [],
   "source": [
    "# Predicting target values for x_test\n",
    "adb_pred = adb_reg.predict(x_test_lgd2)"
   ]
  },
  {
   "cell_type": "code",
   "execution_count": 57,
   "metadata": {},
   "outputs": [
    {
     "name": "stdout",
     "output_type": "stream",
     "text": [
      "MSE:  0.010369712259721185\n",
      "R-square value:  -0.11816881941899515\n"
     ]
    }
   ],
   "source": [
    "# Performance evaluation\n",
    "adb_met = evaluation_metrics_reg('Adaboost Reg',y_test_lgd2,adb_pred)\n",
    "metrics_reg = update_metrics_reg(metrics_reg,adb_met)"
   ]
  },
  {
   "cell_type": "markdown",
   "metadata": {},
   "source": [
    "#### Gradientboost Regressor"
   ]
  },
  {
   "cell_type": "code",
   "execution_count": 58,
   "metadata": {},
   "outputs": [
    {
     "data": {
      "text/plain": [
       "GradientBoostingRegressor()"
      ]
     },
     "execution_count": 58,
     "metadata": {},
     "output_type": "execute_result"
    }
   ],
   "source": [
    "# Instantiating model and fitting the train variables\n",
    "gdb_reg = GradientBoostingRegressor()\n",
    "gdb_reg.fit(x_train_lgd2,y_train_lgd2)"
   ]
  },
  {
   "cell_type": "code",
   "execution_count": 59,
   "metadata": {},
   "outputs": [],
   "source": [
    "# Predicting target values for x_test\n",
    "gdb_pred = gdb_reg.predict(x_test_lgd2)"
   ]
  },
  {
   "cell_type": "code",
   "execution_count": 60,
   "metadata": {},
   "outputs": [
    {
     "name": "stdout",
     "output_type": "stream",
     "text": [
      "MSE:  0.008961906931732346\n",
      "R-square value:  0.03363520196002989\n"
     ]
    }
   ],
   "source": [
    "# Performance evaluation\n",
    "gdb_met = evaluation_metrics_reg('Gradientboost Reg',y_test_lgd2,gdb_pred)\n",
    "metrics_reg = update_metrics_reg(metrics_reg,gdb_met)"
   ]
  },
  {
   "cell_type": "code",
   "execution_count": 61,
   "metadata": {},
   "outputs": [
    {
     "data": {
      "text/html": [
       "<div>\n",
       "<style scoped>\n",
       "    .dataframe tbody tr th:only-of-type {\n",
       "        vertical-align: middle;\n",
       "    }\n",
       "\n",
       "    .dataframe tbody tr th {\n",
       "        vertical-align: top;\n",
       "    }\n",
       "\n",
       "    .dataframe thead th {\n",
       "        text-align: right;\n",
       "    }\n",
       "</style>\n",
       "<table border=\"1\" class=\"dataframe\">\n",
       "  <thead>\n",
       "    <tr style=\"text-align: right;\">\n",
       "      <th></th>\n",
       "      <th>Models</th>\n",
       "      <th>MSE</th>\n",
       "      <th>R-Squared</th>\n",
       "    </tr>\n",
       "  </thead>\n",
       "  <tbody>\n",
       "    <tr>\n",
       "      <th>0</th>\n",
       "      <td>Linear Regression</td>\n",
       "      <td>0.009078</td>\n",
       "      <td>0.021170</td>\n",
       "    </tr>\n",
       "    <tr>\n",
       "      <th>1</th>\n",
       "      <td>Random Forest Reg</td>\n",
       "      <td>0.009265</td>\n",
       "      <td>0.000966</td>\n",
       "    </tr>\n",
       "    <tr>\n",
       "      <th>2</th>\n",
       "      <td>Adaboost Reg</td>\n",
       "      <td>0.010370</td>\n",
       "      <td>-0.118169</td>\n",
       "    </tr>\n",
       "    <tr>\n",
       "      <th>3</th>\n",
       "      <td>Gradientboost Reg</td>\n",
       "      <td>0.008962</td>\n",
       "      <td>0.033635</td>\n",
       "    </tr>\n",
       "  </tbody>\n",
       "</table>\n",
       "</div>"
      ],
      "text/plain": [
       "              Models       MSE  R-Squared\n",
       "0  Linear Regression  0.009078   0.021170\n",
       "1  Random Forest Reg  0.009265   0.000966\n",
       "2       Adaboost Reg  0.010370  -0.118169\n",
       "3  Gradientboost Reg  0.008962   0.033635"
      ]
     },
     "execution_count": 61,
     "metadata": {},
     "output_type": "execute_result"
    }
   ],
   "source": [
    "# Metrics comparison\n",
    "metrics_df2 = pd.DataFrame(metrics_reg, columns=metrics_reg.keys())\n",
    "metrics_df2"
   ]
  },
  {
   "cell_type": "markdown",
   "metadata": {},
   "source": [
    "Gradient boosting model gives the least error and the highest r-square values, hence chosen as the best of all for this purpose"
   ]
  },
  {
   "cell_type": "code",
   "execution_count": 62,
   "metadata": {},
   "outputs": [
    {
     "name": "stdout",
     "output_type": "stream",
     "text": [
      "Best Parameters are:\n"
     ]
    },
    {
     "data": {
      "text/plain": [
       "{'learning_rate': 0.5, 'n_estimators': 8}"
      ]
     },
     "execution_count": 62,
     "metadata": {},
     "output_type": "execute_result"
    }
   ],
   "source": [
    "# Tuning gradient boost model\n",
    "# Searching for best parameter set\n",
    "param_grid = {\"n_estimators\" : [2, 4, 8],\n",
    "              \"learning_rate\" : [0.5, 0.25, 0.1]\n",
    "              }\n",
    "grid_search(GradientBoostingRegressor(),x_train_lgd2,y_train_lgd2,param_grid,GridSearchCV)"
   ]
  },
  {
   "cell_type": "code",
   "execution_count": 63,
   "metadata": {},
   "outputs": [
    {
     "data": {
      "text/plain": [
       "GradientBoostingRegressor(learning_rate=0.5, n_estimators=8)"
      ]
     },
     "execution_count": 63,
     "metadata": {},
     "output_type": "execute_result"
    }
   ],
   "source": [
    "# Instantiating and fitting the model using the best parameters\n",
    "gdb_reg_tuned = GradientBoostingRegressor(learning_rate=0.5,n_estimators=8)\n",
    "gdb_reg_tuned.fit(x_train_lgd2,y_train_lgd2)"
   ]
  },
  {
   "cell_type": "code",
   "execution_count": 64,
   "metadata": {},
   "outputs": [],
   "source": [
    "# Predicting target values for x_test\n",
    "gdb_pred_tuned = gdb_reg_tuned.predict(x_test_lgd2)"
   ]
  },
  {
   "cell_type": "code",
   "execution_count": 65,
   "metadata": {},
   "outputs": [
    {
     "name": "stdout",
     "output_type": "stream",
     "text": [
      "MSE:  0.008987899615630368\n",
      "R-square value:  0.03083240397105602\n"
     ]
    }
   ],
   "source": [
    "# Performance evaluation\n",
    "gdb_tuned_met = evaluation_metrics_reg('Tuned_Gradientboost_Reg',y_test_lgd2,gdb_pred_tuned)"
   ]
  },
  {
   "cell_type": "code",
   "execution_count": 66,
   "metadata": {},
   "outputs": [],
   "source": [
    "# Save the default gradient boost regressor model\n",
    "pickle.dump(gdb_reg, open('lgd_stage_2.pkl', 'wb'))"
   ]
  },
  {
   "cell_type": "code",
   "execution_count": 67,
   "metadata": {},
   "outputs": [],
   "source": [
    "##########################################################################################################"
   ]
  },
  {
   "cell_type": "markdown",
   "metadata": {},
   "source": [
    "### EAD MODEL: Regression\n",
    "\n",
    "- Linear regression\n",
    "- Random forest regressor\n",
    "- Adaboost regressor\n",
    "- Gradientboost regressor"
   ]
  },
  {
   "cell_type": "code",
   "execution_count": 70,
   "metadata": {},
   "outputs": [],
   "source": [
    "# Splitting df into train and test sets\n",
    "x_train_ead, x_test_ead, y_train_ead, y_test_ead = train_test_split(\n",
    "                                 df.drop(['loan_status_encoded', 'recovery_rate','recovery_rate_encoded', 'CCF'], axis = 1), \n",
    "                                 df['CCF'], test_size = 0.2, random_state = 789)"
   ]
  },
  {
   "cell_type": "code",
   "execution_count": 99,
   "metadata": {},
   "outputs": [],
   "source": [
    "# Creating an empty metrics dictionary to append the values\n",
    "metrics_reg_1 = {'Models':[],\n",
    "               'MSE':[],\n",
    "               'R-Squared':[]}\n",
    "\n",
    "# Function to update metrics dictionary for each model being fitted\n",
    "def update_metrics_reg_1(metrics_reg_1,model_met):\n",
    "    \n",
    "    metrics_reg_1['Models'].append(model_met['Model'])\n",
    "    metrics_reg_1['MSE'].append(model_met['mse'])\n",
    "    metrics_reg_1['R-Squared'].append(model_met['r2'])\n",
    "    \n",
    "    return metrics_reg_1"
   ]
  },
  {
   "cell_type": "markdown",
   "metadata": {},
   "source": [
    "#### Linear Regression"
   ]
  },
  {
   "cell_type": "code",
   "execution_count": 100,
   "metadata": {},
   "outputs": [
    {
     "data": {
      "text/plain": [
       "LinearRegression()"
      ]
     },
     "execution_count": 100,
     "metadata": {},
     "output_type": "execute_result"
    }
   ],
   "source": [
    "# Instantiating model and fitting the train variables\n",
    "lin_reg_ead = LinearRegression()\n",
    "lin_reg_ead.fit(x_train_ead,y_train_ead)"
   ]
  },
  {
   "cell_type": "code",
   "execution_count": 101,
   "metadata": {},
   "outputs": [],
   "source": [
    "# Predicting target values for x_test\n",
    "lg_pred_ead = lin_reg_ead.predict(x_test_ead)"
   ]
  },
  {
   "cell_type": "code",
   "execution_count": 102,
   "metadata": {},
   "outputs": [
    {
     "name": "stdout",
     "output_type": "stream",
     "text": [
      "MSE:  0.04217708306057635\n",
      "R-square value:  0.13565847534859854\n"
     ]
    }
   ],
   "source": [
    "# Performance evaluation\n",
    "lg_met_ead = evaluation_metrics_reg('Linear Regression',y_test_ead,lg_pred_ead)\n",
    "metrics_reg_1 = update_metrics_reg_1(metrics_reg_1,lg_met_ead)"
   ]
  },
  {
   "cell_type": "markdown",
   "metadata": {},
   "source": [
    "#### Random Forest Regressor"
   ]
  },
  {
   "cell_type": "code",
   "execution_count": 103,
   "metadata": {},
   "outputs": [
    {
     "data": {
      "text/plain": [
       "RandomForestRegressor()"
      ]
     },
     "execution_count": 103,
     "metadata": {},
     "output_type": "execute_result"
    }
   ],
   "source": [
    "# Instantiating model and fitting the train variables\n",
    "rf_reg_ead = RandomForestRegressor()\n",
    "rf_reg_ead.fit(x_train_ead,y_train_ead)"
   ]
  },
  {
   "cell_type": "code",
   "execution_count": 104,
   "metadata": {},
   "outputs": [],
   "source": [
    "# Predicting target values for x_test\n",
    "rf_pred_ead = rf_reg_ead.predict(x_test_ead)"
   ]
  },
  {
   "cell_type": "code",
   "execution_count": 105,
   "metadata": {},
   "outputs": [
    {
     "name": "stdout",
     "output_type": "stream",
     "text": [
      "MSE:  0.04161078471727318\n",
      "R-square value:  0.14726371539697292\n"
     ]
    }
   ],
   "source": [
    "# Performance evaluation\n",
    "rf_met_ead = evaluation_metrics_reg('Random Forest Regressor',y_test_ead,rf_pred_ead)\n",
    "metrics_reg_1 = update_metrics_reg_1(metrics_reg_1,rf_met_ead)"
   ]
  },
  {
   "cell_type": "markdown",
   "metadata": {},
   "source": [
    "#### Adaboost Regressor"
   ]
  },
  {
   "cell_type": "code",
   "execution_count": 106,
   "metadata": {},
   "outputs": [
    {
     "data": {
      "text/plain": [
       "AdaBoostRegressor()"
      ]
     },
     "execution_count": 106,
     "metadata": {},
     "output_type": "execute_result"
    }
   ],
   "source": [
    "# Instantiating model and fitting the train variables\n",
    "adb_reg_ead = AdaBoostRegressor()\n",
    "adb_reg_ead.fit(x_train_ead,y_train_ead)"
   ]
  },
  {
   "cell_type": "code",
   "execution_count": 107,
   "metadata": {},
   "outputs": [],
   "source": [
    "# Predicting target values for x_test\n",
    "adb_pred_ead = adb_reg_ead.predict(x_test_ead)"
   ]
  },
  {
   "cell_type": "code",
   "execution_count": 108,
   "metadata": {},
   "outputs": [
    {
     "name": "stdout",
     "output_type": "stream",
     "text": [
      "MSE:  0.04660762377181062\n",
      "R-square value:  0.04486271529382502\n"
     ]
    }
   ],
   "source": [
    "# Performance evaluation\n",
    "adb_met_ead = evaluation_metrics_reg('Adaboost Regressor',y_test_ead,adb_pred_ead)\n",
    "metrics_reg_1 = update_metrics_reg_1(metrics_reg_1,adb_met_ead)"
   ]
  },
  {
   "cell_type": "markdown",
   "metadata": {},
   "source": [
    "#### Gradientboost Regressor"
   ]
  },
  {
   "cell_type": "code",
   "execution_count": 109,
   "metadata": {},
   "outputs": [
    {
     "data": {
      "text/plain": [
       "GradientBoostingRegressor()"
      ]
     },
     "execution_count": 109,
     "metadata": {},
     "output_type": "execute_result"
    }
   ],
   "source": [
    "# Instantiating model and fitting the train variables\n",
    "gdb_reg_ead = GradientBoostingRegressor()\n",
    "gdb_reg_ead.fit(x_train_ead,y_train_ead)"
   ]
  },
  {
   "cell_type": "code",
   "execution_count": 110,
   "metadata": {},
   "outputs": [],
   "source": [
    "# Predicting target values for x_test\n",
    "gdb_pred_ead = gdb_reg_ead.predict(x_test_ead)"
   ]
  },
  {
   "cell_type": "code",
   "execution_count": 111,
   "metadata": {},
   "outputs": [
    {
     "name": "stdout",
     "output_type": "stream",
     "text": [
      "MSE:  0.04177043554406805\n",
      "R-square value:  0.1439919661665784\n"
     ]
    }
   ],
   "source": [
    "# Performance evaluation\n",
    "gdb_met_ead = evaluation_metrics_reg('Gradientboost Regressor',y_test_ead,gdb_pred_ead)\n",
    "metrics_reg_1 = update_metrics_reg_1(metrics_reg_1,gdb_met_ead)"
   ]
  },
  {
   "cell_type": "code",
   "execution_count": 112,
   "metadata": {},
   "outputs": [
    {
     "data": {
      "text/html": [
       "<div>\n",
       "<style scoped>\n",
       "    .dataframe tbody tr th:only-of-type {\n",
       "        vertical-align: middle;\n",
       "    }\n",
       "\n",
       "    .dataframe tbody tr th {\n",
       "        vertical-align: top;\n",
       "    }\n",
       "\n",
       "    .dataframe thead th {\n",
       "        text-align: right;\n",
       "    }\n",
       "</style>\n",
       "<table border=\"1\" class=\"dataframe\">\n",
       "  <thead>\n",
       "    <tr style=\"text-align: right;\">\n",
       "      <th></th>\n",
       "      <th>Models</th>\n",
       "      <th>MSE</th>\n",
       "      <th>R-Squared</th>\n",
       "    </tr>\n",
       "  </thead>\n",
       "  <tbody>\n",
       "    <tr>\n",
       "      <th>0</th>\n",
       "      <td>Linear Regression</td>\n",
       "      <td>0.042177</td>\n",
       "      <td>0.135658</td>\n",
       "    </tr>\n",
       "    <tr>\n",
       "      <th>1</th>\n",
       "      <td>Random Forest Regressor</td>\n",
       "      <td>0.041611</td>\n",
       "      <td>0.147264</td>\n",
       "    </tr>\n",
       "    <tr>\n",
       "      <th>2</th>\n",
       "      <td>Adaboost Regressor</td>\n",
       "      <td>0.046608</td>\n",
       "      <td>0.044863</td>\n",
       "    </tr>\n",
       "    <tr>\n",
       "      <th>3</th>\n",
       "      <td>Gradientboost Regressor</td>\n",
       "      <td>0.041770</td>\n",
       "      <td>0.143992</td>\n",
       "    </tr>\n",
       "  </tbody>\n",
       "</table>\n",
       "</div>"
      ],
      "text/plain": [
       "                    Models       MSE  R-Squared\n",
       "0        Linear Regression  0.042177   0.135658\n",
       "1  Random Forest Regressor  0.041611   0.147264\n",
       "2       Adaboost Regressor  0.046608   0.044863\n",
       "3  Gradientboost Regressor  0.041770   0.143992"
      ]
     },
     "execution_count": 112,
     "metadata": {},
     "output_type": "execute_result"
    }
   ],
   "source": [
    "# Metrics comparison\n",
    "metrics_df3 = pd.DataFrame(metrics_reg_1, columns=metrics_reg_1.keys())\n",
    "metrics_df3"
   ]
  },
  {
   "cell_type": "markdown",
   "metadata": {},
   "source": [
    "Random forest is the best model for EAD prediction"
   ]
  },
  {
   "cell_type": "code",
   "execution_count": 114,
   "metadata": {},
   "outputs": [],
   "source": [
    "# Save model\n",
    "pickle.dump(rf_reg_ead, open('ead_model.pkl', 'wb'))"
   ]
  },
  {
   "cell_type": "code",
   "execution_count": 116,
   "metadata": {},
   "outputs": [],
   "source": [
    "#################################################################"
   ]
  },
  {
   "cell_type": "code",
   "execution_count": 117,
   "metadata": {},
   "outputs": [],
   "source": [
    "## we have trained 3 models so far on default data(only defaulted customers):\n",
    "## lgd_stage_1\n",
    "## lgd_stage_2\n",
    "## ead_model\n",
    "## PD model saved previously will be used later on for probability of default prediction"
   ]
  },
  {
   "cell_type": "code",
   "execution_count": 118,
   "metadata": {},
   "outputs": [],
   "source": [
    "###########################################################################"
   ]
  },
  {
   "cell_type": "code",
   "execution_count": 119,
   "metadata": {},
   "outputs": [],
   "source": [
    "## Now that we have trained 3 models, let's move onto calculating Expected Loss\n",
    "## Expected Loss = PD * LGD * EAD\n",
    "## We use these models to predict on complete data"
   ]
  },
  {
   "cell_type": "markdown",
   "metadata": {},
   "source": [
    "### EXPECTED LOSS"
   ]
  },
  {
   "cell_type": "code",
   "execution_count": 7,
   "metadata": {},
   "outputs": [],
   "source": [
    "data2 = data.drop(['loan_status_encoded'], axis=1)"
   ]
  },
  {
   "cell_type": "code",
   "execution_count": 8,
   "metadata": {},
   "outputs": [],
   "source": [
    "data3 = data2.drop(['total_rec_prncp', 'recoveries'], axis=1)"
   ]
  },
  {
   "cell_type": "code",
   "execution_count": 9,
   "metadata": {},
   "outputs": [],
   "source": [
    "## Now, let's load the LGD-1 model that was saved\n",
    "with open('lgd_stage_1.pkl', 'rb') as f:\n",
    "    lgd1_model = pickle.load(f)"
   ]
  },
  {
   "cell_type": "code",
   "execution_count": 10,
   "metadata": {},
   "outputs": [],
   "source": [
    "# We apply the stage 1 LGD model and calculate predicted values.\n",
    "data['recovery_rate_st_1'] = lgd1_model.predict(data3)"
   ]
  },
  {
   "cell_type": "code",
   "execution_count": 11,
   "metadata": {},
   "outputs": [],
   "source": [
    "## Now, let's load the LGD-2 model that was saved\n",
    "with open('lgd_stage_2.pkl', 'rb') as f:\n",
    "    lgd2_model = pickle.load(f)"
   ]
  },
  {
   "cell_type": "code",
   "execution_count": 12,
   "metadata": {},
   "outputs": [],
   "source": [
    "# applying the stage 2 LGD model and calculate predicted values.\n",
    "data['recovery_rate_st_2'] = lgd2_model.predict(data3)"
   ]
  },
  {
   "cell_type": "code",
   "execution_count": 13,
   "metadata": {},
   "outputs": [],
   "source": [
    "# We combine the predicted values from the stage 1 predicted model and the stage 2 predicted model\n",
    "# to calculate the final estimated recovery rate.\n",
    "data['recovery_rate'] = data['recovery_rate_st_1'] * data['recovery_rate_st_2']"
   ]
  },
  {
   "cell_type": "code",
   "execution_count": 14,
   "metadata": {},
   "outputs": [
    {
     "data": {
      "text/plain": [
       "0    0.104196\n",
       "1    0.111547\n",
       "2    0.120909\n",
       "3    0.000000\n",
       "4    0.131035\n",
       "5    0.092632\n",
       "6    0.106862\n",
       "7    0.111182\n",
       "8    0.100463\n",
       "9    0.115790\n",
       "Name: recovery_rate, dtype: float64"
      ]
     },
     "execution_count": 14,
     "metadata": {},
     "output_type": "execute_result"
    }
   ],
   "source": [
    "data['recovery_rate'].head(10)"
   ]
  },
  {
   "cell_type": "code",
   "execution_count": 15,
   "metadata": {},
   "outputs": [
    {
     "data": {
      "text/plain": [
       "2260658    0.121107\n",
       "2260659    0.129814\n",
       "2260660    0.131309\n",
       "2260661    0.118085\n",
       "2260662    0.113761\n",
       "2260663    0.126123\n",
       "2260664    0.136672\n",
       "2260665    0.117245\n",
       "2260666    0.123877\n",
       "2260667    0.127347\n",
       "Name: recovery_rate, dtype: float64"
      ]
     },
     "execution_count": 15,
     "metadata": {},
     "output_type": "execute_result"
    }
   ],
   "source": [
    "data['recovery_rate'].tail(10)"
   ]
  },
  {
   "cell_type": "code",
   "execution_count": 16,
   "metadata": {},
   "outputs": [],
   "source": [
    "# We set estimated recovery rates that are greater than 1 to 1 and  estimated recovery rates that are less than 0 to 0.\n",
    "data['recovery_rate'] = np.where(data['recovery_rate'] < 0, 0, data['recovery_rate'])\n",
    "data['recovery_rate'] = np.where(data['recovery_rate'] > 1, 1, data['recovery_rate'])"
   ]
  },
  {
   "cell_type": "code",
   "execution_count": 17,
   "metadata": {},
   "outputs": [],
   "source": [
    "# We calculate estimated LGD. Estimated LGD = 1 - estimated recovery rate.\n",
    "data['LGD'] = 1 - data['recovery_rate']"
   ]
  },
  {
   "cell_type": "code",
   "execution_count": 18,
   "metadata": {},
   "outputs": [
    {
     "data": {
      "text/plain": [
       "count    2.260668e+06\n",
       "mean     9.048035e-01\n",
       "std      3.972386e-02\n",
       "min      5.042089e-01\n",
       "25%      8.820944e-01\n",
       "50%      8.933649e-01\n",
       "75%      9.018806e-01\n",
       "max      1.000000e+00\n",
       "Name: LGD, dtype: float64"
      ]
     },
     "execution_count": 18,
     "metadata": {},
     "output_type": "execute_result"
    }
   ],
   "source": [
    "data['LGD'].describe()"
   ]
  },
  {
   "cell_type": "code",
   "execution_count": 19,
   "metadata": {},
   "outputs": [],
   "source": [
    "## Now, let's load the EAD model that was saved\n",
    "with open('ead_model.pkl', 'rb') as f:\n",
    "    ead_model = pickle.load(f)"
   ]
  },
  {
   "cell_type": "code",
   "execution_count": 20,
   "metadata": {},
   "outputs": [],
   "source": [
    "# We apply the EAD model to calculate estimated credit conversion factor.\n",
    "data['CCF'] = ead_model.predict(data3)"
   ]
  },
  {
   "cell_type": "code",
   "execution_count": 21,
   "metadata": {},
   "outputs": [],
   "source": [
    "# We set estimated CCF that are greater than 1 to 1 and  estimated CCF that are less than 0 to 0.\n",
    "data['CCF'] = np.where(data['CCF'] < 0, 0, data['CCF'])\n",
    "data['CCF'] = np.where(data['CCF'] > 1, 1, data['CCF'])"
   ]
  },
  {
   "cell_type": "code",
   "execution_count": 22,
   "metadata": {},
   "outputs": [],
   "source": [
    "# We calculate estimated EAD. Estimated EAD equals estimated CCF multiplied by funded amount.\n",
    "data['EAD'] = data['CCF'] * data['funded_amnt']"
   ]
  },
  {
   "cell_type": "code",
   "execution_count": 23,
   "metadata": {},
   "outputs": [
    {
     "data": {
      "text/plain": [
       "count    2.260668e+06\n",
       "mean     1.035916e+04\n",
       "std      7.060954e+03\n",
       "min      1.690118e+02\n",
       "25%      4.935145e+03\n",
       "50%      8.616574e+03\n",
       "75%      1.410848e+04\n",
       "max      3.949851e+04\n",
       "Name: EAD, dtype: float64"
      ]
     },
     "execution_count": 23,
     "metadata": {},
     "output_type": "execute_result"
    }
   ],
   "source": [
    "data['EAD'].describe()"
   ]
  },
  {
   "cell_type": "code",
   "execution_count": 29,
   "metadata": {},
   "outputs": [],
   "source": [
    "data4=data3.drop('funded_amnt',axis=1)"
   ]
  },
  {
   "cell_type": "code",
   "execution_count": 24,
   "metadata": {},
   "outputs": [],
   "source": [
    "## Now, let's load the model that was saved\n",
    "with open('finalized_default_model.pkl', 'rb') as f:\n",
    "    pd_model = pickle.load(f)"
   ]
  },
  {
   "cell_type": "code",
   "execution_count": 30,
   "metadata": {},
   "outputs": [],
   "source": [
    "# calculate probability of default on loans\n",
    "data['PD'] = pd_model.predict_proba(data4)[: ][:,1]"
   ]
  },
  {
   "cell_type": "code",
   "execution_count": null,
   "metadata": {},
   "outputs": [],
   "source": [
    "# We calculate Expected Loss. EL = PD * LGD * EAD."
   ]
  },
  {
   "cell_type": "code",
   "execution_count": 31,
   "metadata": {},
   "outputs": [],
   "source": [
    "data['EL'] = data['PD'] * data['LGD'] * data['EAD']"
   ]
  },
  {
   "cell_type": "code",
   "execution_count": 32,
   "metadata": {},
   "outputs": [
    {
     "data": {
      "text/html": [
       "<div>\n",
       "<style scoped>\n",
       "    .dataframe tbody tr th:only-of-type {\n",
       "        vertical-align: middle;\n",
       "    }\n",
       "\n",
       "    .dataframe tbody tr th {\n",
       "        vertical-align: top;\n",
       "    }\n",
       "\n",
       "    .dataframe thead th {\n",
       "        text-align: right;\n",
       "    }\n",
       "</style>\n",
       "<table border=\"1\" class=\"dataframe\">\n",
       "  <thead>\n",
       "    <tr style=\"text-align: right;\">\n",
       "      <th></th>\n",
       "      <th>funded_amnt</th>\n",
       "      <th>PD</th>\n",
       "      <th>LGD</th>\n",
       "      <th>EAD</th>\n",
       "      <th>EL</th>\n",
       "    </tr>\n",
       "  </thead>\n",
       "  <tbody>\n",
       "    <tr>\n",
       "      <th>0</th>\n",
       "      <td>3600.0</td>\n",
       "      <td>0.379406</td>\n",
       "      <td>0.895804</td>\n",
       "      <td>2354.984791</td>\n",
       "      <td>800.397580</td>\n",
       "    </tr>\n",
       "    <tr>\n",
       "      <th>1</th>\n",
       "      <td>24700.0</td>\n",
       "      <td>0.348126</td>\n",
       "      <td>0.888453</td>\n",
       "      <td>16940.664023</td>\n",
       "      <td>5239.635230</td>\n",
       "    </tr>\n",
       "    <tr>\n",
       "      <th>2</th>\n",
       "      <td>20000.0</td>\n",
       "      <td>0.384769</td>\n",
       "      <td>0.879091</td>\n",
       "      <td>14875.401345</td>\n",
       "      <td>5031.565379</td>\n",
       "    </tr>\n",
       "    <tr>\n",
       "      <th>3</th>\n",
       "      <td>35000.0</td>\n",
       "      <td>0.348870</td>\n",
       "      <td>1.000000</td>\n",
       "      <td>30930.412491</td>\n",
       "      <td>10790.707901</td>\n",
       "    </tr>\n",
       "    <tr>\n",
       "      <th>4</th>\n",
       "      <td>10400.0</td>\n",
       "      <td>0.394338</td>\n",
       "      <td>0.868965</td>\n",
       "      <td>7883.527064</td>\n",
       "      <td>2701.416556</td>\n",
       "    </tr>\n",
       "  </tbody>\n",
       "</table>\n",
       "</div>"
      ],
      "text/plain": [
       "   funded_amnt        PD       LGD           EAD            EL\n",
       "0       3600.0  0.379406  0.895804   2354.984791    800.397580\n",
       "1      24700.0  0.348126  0.888453  16940.664023   5239.635230\n",
       "2      20000.0  0.384769  0.879091  14875.401345   5031.565379\n",
       "3      35000.0  0.348870  1.000000  30930.412491  10790.707901\n",
       "4      10400.0  0.394338  0.868965   7883.527064   2701.416556"
      ]
     },
     "execution_count": 32,
     "metadata": {},
     "output_type": "execute_result"
    }
   ],
   "source": [
    "data[['funded_amnt','PD','LGD','EAD','EL']].head()"
   ]
  },
  {
   "cell_type": "code",
   "execution_count": 33,
   "metadata": {},
   "outputs": [
    {
     "data": {
      "text/plain": [
       "count    2.260668e+06\n",
       "mean     3.548373e+03\n",
       "std      2.457256e+03\n",
       "min      5.472297e+01\n",
       "25%      1.681425e+03\n",
       "50%      2.943610e+03\n",
       "75%      4.813034e+03\n",
       "max      1.593798e+04\n",
       "Name: EL, dtype: float64"
      ]
     },
     "execution_count": 33,
     "metadata": {},
     "output_type": "execute_result"
    }
   ],
   "source": [
    "data['EL'].describe()"
   ]
  },
  {
   "cell_type": "code",
   "execution_count": 34,
   "metadata": {},
   "outputs": [
    {
     "data": {
      "text/plain": [
       "8021693891.095391"
      ]
     },
     "execution_count": 34,
     "metadata": {},
     "output_type": "execute_result"
    }
   ],
   "source": [
    "# Total Expected Loss for all loans.\n",
    "data['EL'].sum()"
   ]
  },
  {
   "cell_type": "code",
   "execution_count": 35,
   "metadata": {},
   "outputs": [
    {
     "data": {
      "text/plain": [
       "34004208600.0"
      ]
     },
     "execution_count": 35,
     "metadata": {},
     "output_type": "execute_result"
    }
   ],
   "source": [
    "# Total funded amount for all loans.\n",
    "data['funded_amnt'].sum()"
   ]
  },
  {
   "cell_type": "code",
   "execution_count": 36,
   "metadata": {},
   "outputs": [
    {
     "data": {
      "text/plain": [
       "0.235902972642492"
      ]
     },
     "execution_count": 36,
     "metadata": {},
     "output_type": "execute_result"
    }
   ],
   "source": [
    "# Total Expected Loss as a proportion of total funded amount for all loans.\n",
    "data['EL'].sum() / data['funded_amnt'].sum()"
   ]
  },
  {
   "cell_type": "code",
   "execution_count": null,
   "metadata": {},
   "outputs": [],
   "source": [
    "## end of notebook"
   ]
  },
  {
   "cell_type": "code",
   "execution_count": null,
   "metadata": {},
   "outputs": [],
   "source": []
  }
 ],
 "metadata": {
  "kernelspec": {
   "display_name": "Python 3",
   "language": "python",
   "name": "python3"
  },
  "language_info": {
   "codemirror_mode": {
    "name": "ipython",
    "version": 3
   },
   "file_extension": ".py",
   "mimetype": "text/x-python",
   "name": "python",
   "nbconvert_exporter": "python",
   "pygments_lexer": "ipython3",
   "version": "3.8.5"
  }
 },
 "nbformat": 4,
 "nbformat_minor": 2
}
