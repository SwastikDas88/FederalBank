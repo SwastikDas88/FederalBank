{
 "cells": [
  {
   "cell_type": "code",
   "execution_count": 1,
   "metadata": {},
   "outputs": [],
   "source": [
    "## Notebook contains:\n",
    "## same dataset used for the Default Models - except for a couple of features present that were removed earlier\n",
    "## these features are used to calculate the DVs of LGD and EAD models\n",
    "## pre-processing and EDA"
   ]
  },
  {
   "cell_type": "code",
   "execution_count": 2,
   "metadata": {},
   "outputs": [],
   "source": [
    "import pandas as pd\n",
    "import numpy as np\n",
    "import os\n",
    "import glob\n",
    "import sys\n",
    "import datetime\n",
    "from collections import Counter\n",
    "import time\n",
    "import matplotlib.pyplot as plt\n",
    "import seaborn as sns\n",
    "import warnings\n",
    "warnings.filterwarnings(\"ignore\")"
   ]
  },
  {
   "cell_type": "code",
   "execution_count": 3,
   "metadata": {},
   "outputs": [],
   "source": [
    "#################### prep training data for Default model ############################"
   ]
  },
  {
   "cell_type": "code",
   "execution_count": 4,
   "metadata": {},
   "outputs": [],
   "source": [
    "#Reading the raw data\n",
    "fullacc = pd.read_csv('fullacc_2007_2018Q4.csv', low_memory=False)"
   ]
  },
  {
   "cell_type": "markdown",
   "metadata": {},
   "source": [
    "### Data Pre-processing "
   ]
  },
  {
   "cell_type": "markdown",
   "metadata": {},
   "source": [
    "#### Standardising purpose column \n",
    "\n",
    "- 'purpose' contains a category provided by the borrower for the loan request.\n",
    "- Standardizing levels that convey similar information to common attributes in order to reduce the number of similar categories in 'purpose'.\n",
    "- 'credit_card' and 'debt consolidation' have been grouped as 'debt' category since both are essentially debts accumulated by the borrower for which loans have been taken out.\n",
    "- Major purchases or spendings like house, car, etc have been clubbed under one single category, and loans taken out for education or business or medical and so on are brought under 'life_events'."
   ]
  },
  {
   "cell_type": "code",
   "execution_count": 5,
   "metadata": {},
   "outputs": [
    {
     "name": "stdout",
     "output_type": "stream",
     "text": [
      "['debt_consolidation' 'small_business' 'home_improvement' 'major_purchase'\n",
      " 'credit_card' 'other' 'house' 'vacation' 'car' 'medical' 'moving'\n",
      " 'renewable_energy' 'wedding' 'educational']\n"
     ]
    }
   ],
   "source": [
    "print(fullacc['purpose'].unique())"
   ]
  },
  {
   "cell_type": "code",
   "execution_count": 6,
   "metadata": {},
   "outputs": [],
   "source": [
    "def standardize_loan_purpose(fullacc):\n",
    "        \n",
    "    def lp(x):\n",
    "        if ((x=='debt_consolidation' or x=='credit_card')):\n",
    "            return 'debt'\n",
    "        elif ((x=='home_improvement' or x=='major_purchase' or x=='car' or x=='house'  or\n",
    "               x=='renewable_energy')):\n",
    "            return 'major_purchases'\n",
    "        elif ((x=='small_business' or x=='medical' or x=='moving' or x=='wedding' or x=='educational' or x=='vacation')):\n",
    "            return 'life_events'\n",
    "        else:\n",
    "            return 'other'\n",
    "        \n",
    "    fullacc['purpose'] = fullacc['purpose'].apply(lambda x:lp(x))\n",
    "    return fullacc    "
   ]
  },
  {
   "cell_type": "markdown",
   "metadata": {},
   "source": [
    "#### Credit Line Difference\n",
    "\n",
    "The column 'earliest_cr_line' describes the date when the first credit line was established. Usually, longer the credit line held by one, the more desirable he/she will be as a borrower. This feature will therefore be more useful if converted to a measure of how long one has held a credit line. To do this, convert the column from object to datetime and calculate the time duration from the establishment of the first credit line till Jan 1 2019 since the data spans from 2007-2018 Q4."
   ]
  },
  {
   "cell_type": "code",
   "execution_count": 7,
   "metadata": {},
   "outputs": [
    {
     "name": "stdout",
     "output_type": "stream",
     "text": [
      "0    Aug-2003\n",
      "1    Dec-1999\n",
      "2    Aug-2000\n",
      "3    Sep-2008\n",
      "4    Jun-1998\n",
      "Name: earliest_cr_line, dtype: object\n"
     ]
    }
   ],
   "source": [
    "print(fullacc['earliest_cr_line'].head())"
   ]
  },
  {
   "cell_type": "code",
   "execution_count": 8,
   "metadata": {},
   "outputs": [],
   "source": [
    "def credit_line_btwn_now_then (fullacc):\n",
    "    now = datetime.datetime(2019,1,1)\n",
    "    \n",
    "    def credit_age (x):\n",
    "        if x != 'nan': \n",
    "            c1 = datetime.datetime.strptime(x, '%b-%Y')\n",
    "            return (now-c1).days/365.25\n",
    "        else:\n",
    "            return None\n",
    "\n",
    "    fullacc['earliest_cr_line_difference'] = fullacc['earliest_cr_line'].astype(str)\n",
    "    fullacc['earliest_cr_line_difference'] = fullacc['earliest_cr_line_difference'].apply(credit_age)\n",
    "    return fullacc"
   ]
  },
  {
   "cell_type": "markdown",
   "metadata": {},
   "source": [
    "#### Dropping Columns\n",
    "\n",
    "Those columns where more than 30% values are missing are being dropped by using below function"
   ]
  },
  {
   "cell_type": "code",
   "execution_count": 9,
   "metadata": {},
   "outputs": [],
   "source": [
    "def remove_cols_missing_greater_than_thirty(fullacc):\n",
    "        missing_values = pd.isnull(fullacc).sum()/len(fullacc)\n",
    "        miss_greater_30 = list(missing_values[missing_values > 0.3].index)\n",
    "        fullacc = fullacc.drop(miss_greater_30, axis=1)\n",
    "        \n",
    "        return fullacc"
   ]
  },
  {
   "cell_type": "markdown",
   "metadata": {},
   "source": [
    "#### Averaging fico score\n",
    "\n",
    "- fico_range_high: The upper boundary range the borrower’s FICO at loan origination belongs to\n",
    "- fico_range_low: The lower boundary range the borrower’s FICO at loan origination belongs to\n",
    "- last_fico_range_high: The upper boundary range the borrower’s last FICO pulled belongs to\n",
    "- last_fico_range_low: The lower boundary range the borrower’s last FICO pulled belongs to\n",
    "\n",
    "Due to high correlation between the fico range variables, we extract the average. This avoids information loss while taking care of multicollinearity. We're creating two new columns called `fico_avg` and `last_fico_avg` by taking the mean of aforementioned feature values."
   ]
  },
  {
   "cell_type": "code",
   "execution_count": 10,
   "metadata": {},
   "outputs": [
    {
     "data": {
      "text/plain": [
       "0    679.0\n",
       "1    719.0\n",
       "2    699.0\n",
       "3    789.0\n",
       "4    699.0\n",
       "Name: fico_range_high, dtype: float64"
      ]
     },
     "execution_count": 10,
     "metadata": {},
     "output_type": "execute_result"
    }
   ],
   "source": [
    "fullacc['fico_range_high'].head()"
   ]
  },
  {
   "cell_type": "code",
   "execution_count": 11,
   "metadata": {},
   "outputs": [
    {
     "data": {
      "text/plain": [
       "0    675.0\n",
       "1    715.0\n",
       "2    695.0\n",
       "3    785.0\n",
       "4    695.0\n",
       "Name: fico_range_low, dtype: float64"
      ]
     },
     "execution_count": 11,
     "metadata": {},
     "output_type": "execute_result"
    }
   ],
   "source": [
    "fullacc['fico_range_low'].head()"
   ]
  },
  {
   "cell_type": "code",
   "execution_count": 12,
   "metadata": {},
   "outputs": [
    {
     "data": {
      "text/plain": [
       "0    564.0\n",
       "1    699.0\n",
       "2    704.0\n",
       "3    679.0\n",
       "4    704.0\n",
       "Name: last_fico_range_high, dtype: float64"
      ]
     },
     "execution_count": 12,
     "metadata": {},
     "output_type": "execute_result"
    }
   ],
   "source": [
    "fullacc['last_fico_range_high'].head()"
   ]
  },
  {
   "cell_type": "code",
   "execution_count": 13,
   "metadata": {},
   "outputs": [
    {
     "data": {
      "text/plain": [
       "0    560.0\n",
       "1    695.0\n",
       "2    700.0\n",
       "3    675.0\n",
       "4    700.0\n",
       "Name: last_fico_range_low, dtype: float64"
      ]
     },
     "execution_count": 13,
     "metadata": {},
     "output_type": "execute_result"
    }
   ],
   "source": [
    "fullacc['last_fico_range_low'].head()"
   ]
  },
  {
   "cell_type": "code",
   "execution_count": 14,
   "metadata": {},
   "outputs": [],
   "source": [
    "def fico_mean(fullacc):\n",
    "    fullacc['fico_avg'] = (fullacc['fico_range_high'] + fullacc['fico_range_low'])/2\n",
    "    fullacc['last_fico_avg'] = (fullacc['last_fico_range_high'] + fullacc['last_fico_range_low'])/2\n",
    "    return fullacc"
   ]
  },
  {
   "cell_type": "markdown",
   "metadata": {},
   "source": [
    "#### Imputation of Missing Values\n",
    "\n",
    "Imputing missing values with either zeros or the mode of the respective column.\n",
    "\n",
    "- 'acc_now_delinq': The number of accounts on which the borrower is now delinquent\n",
    "- 'tot_coll_amt': Total collection amounts ever owed\n",
    "- 'tot_cur_bal': Total current balance of all accounts\n",
    "- 'mort_acc': Number of mortgage accounts\n",
    "- 'emp_length': Employment length in years. Possible values are between 0 and 10 where 0 means less than one year and 10 means ten or more year"
   ]
  },
  {
   "cell_type": "code",
   "execution_count": 15,
   "metadata": {},
   "outputs": [],
   "source": [
    "def impute_missing_values(fullacc):\n",
    "    # majority class\n",
    "    fullacc['acc_now_delinq'] = fullacc['acc_now_delinq'].fillna(0)\n",
    "    fullacc['tot_coll_amt'] = fullacc['tot_coll_amt'].fillna(0)\n",
    "    fullacc['tot_cur_bal'] = fullacc['tot_cur_bal'].fillna(0)\n",
    "    \n",
    "    # Imputing with zero as most number of people do not have a mortgage account\n",
    "    fullacc['mort_acc'] = fullacc['mort_acc'].fillna(0) \n",
    "    \n",
    "    # mode imputation\n",
    "    fullacc['emp_length'] = fullacc['emp_length'].fillna(fullacc['emp_length'].mode()[0])\n",
    "    \n",
    "    return fullacc"
   ]
  },
  {
   "cell_type": "markdown",
   "metadata": {},
   "source": [
    "#### Cleaning 'term' column\n",
    "\n",
    "- \"term\": The number of payments on the loan. Values are in months and can be either 36 or 60.\n",
    "- Remove the 'months' in column 'term' to convert to numerical by splitting the number from the string using lambda function."
   ]
  },
  {
   "cell_type": "code",
   "execution_count": 16,
   "metadata": {},
   "outputs": [
    {
     "name": "stdout",
     "output_type": "stream",
     "text": [
      "[' 36 months' ' 60 months']\n"
     ]
    }
   ],
   "source": [
    "print(fullacc['term'].unique())"
   ]
  },
  {
   "cell_type": "code",
   "execution_count": 17,
   "metadata": {},
   "outputs": [],
   "source": [
    "def term_clean(fullacc):\n",
    "    fullacc['term'] = fullacc['term'].apply(lambda x: np.int8(x.split()[0])) #split and take the first character (36/60)\n",
    "    return fullacc"
   ]
  },
  {
   "cell_type": "markdown",
   "metadata": {},
   "source": [
    "#### Standardising 'home_ownership' column\n",
    "\n",
    "- The home ownership status provided by the borrower during registration or obtained from the credit report.\n",
    "- Clubbing 'ANY' and 'NONE' with 'OTHER', and leaving the others as is in 'home_ownership'."
   ]
  },
  {
   "cell_type": "code",
   "execution_count": 18,
   "metadata": {},
   "outputs": [
    {
     "name": "stdout",
     "output_type": "stream",
     "text": [
      "['MORTGAGE' 'RENT' 'OWN' 'ANY' 'NONE' 'OTHER']\n"
     ]
    }
   ],
   "source": [
    "print(fullacc['home_ownership'].unique())"
   ]
  },
  {
   "cell_type": "code",
   "execution_count": 19,
   "metadata": {},
   "outputs": [],
   "source": [
    "def standardize_home_ownership(fullacc):\n",
    "    \n",
    "    def ho(x):\n",
    "        if((x=='OTHER' or x=='ANY' or x=='NONE')):\n",
    "            return 'OTHER'\n",
    "        else:\n",
    "            return x\n",
    "        \n",
    "    fullacc['home_ownership'] = fullacc['home_ownership'].apply(lambda x:ho(x))\n",
    "    return fullacc"
   ]
  },
  {
   "cell_type": "markdown",
   "metadata": {},
   "source": [
    "#### Consolidating regions\n",
    "\n",
    "Grouping address states (the state provided by the borrower in the loan application) into regions."
   ]
  },
  {
   "cell_type": "code",
   "execution_count": 20,
   "metadata": {},
   "outputs": [
    {
     "name": "stdout",
     "output_type": "stream",
     "text": [
      "['PA' 'SD' 'IL' 'NJ' 'GA' 'MN' 'SC' 'RI' 'TX' 'NC' 'CA' 'VA' 'AZ' 'NY'\n",
      " 'IN' 'MD' 'KS' 'NM' 'AL' 'WA' 'MO' 'OH' 'LA' 'FL' 'CO' 'MI' 'TN' 'DC'\n",
      " 'MA' 'WI' 'HI' 'VT' 'DE' 'NH' 'NE' 'CT' 'OR' 'AR' 'MT' 'NV' 'WV' 'WY'\n",
      " 'OK' 'KY' 'MS' 'ME' 'UT' 'ND' 'AK' 'ID' 'IA']\n"
     ]
    }
   ],
   "source": [
    "print(fullacc['addr_state'].unique())"
   ]
  },
  {
   "cell_type": "code",
   "execution_count": 21,
   "metadata": {},
   "outputs": [],
   "source": [
    "def create_region_for_addr_states(fullacc):\n",
    "    # Make a list with each of the regions by state.\n",
    "    west = ['CA', 'OR', 'UT','WA', 'CO', 'NV', 'AK', 'MT', 'HI', 'WY', 'ID'] \n",
    "    south_west = ['AZ', 'TX', 'NM', 'OK'] \n",
    "    south_east = ['GA', 'NC', 'VA', 'FL', 'KY', 'SC', 'LA', 'AL', 'WV', 'DC', 'AR', 'DE', 'MS', 'TN' ] \n",
    "    mid_west = ['IL', 'MO', 'MN', 'OH', 'WI', 'KS', 'MI', 'SD', 'IA', 'NE', 'IN', 'ND'] \n",
    "    north_east = ['CT', 'NY', 'PA', 'NJ', 'RI','MA', 'MD', 'VT', 'NH', 'ME'] \n",
    "    \n",
    "    fullacc['region'] = np.nan \n",
    "    #creating fuction to recode states into region\n",
    "    def finding_regions(state): \n",
    "        if state in west:\n",
    "            return 'West'\n",
    "        elif state in south_west:\n",
    "            return 'SouthWest'\n",
    "        elif state in south_east:\n",
    "            return 'SouthEast'\n",
    "        elif state in mid_west:\n",
    "            return 'MidWest'\n",
    "        elif state in north_east:\n",
    "            return 'NorthEast'\n",
    "        \n",
    "    fullacc['region'] = fullacc['addr_state'].apply(lambda x: finding_regions(x))\n",
    "    return fullacc    "
   ]
  },
  {
   "cell_type": "markdown",
   "metadata": {},
   "source": [
    "#### Imputation of Remaining Columns\n",
    "\n",
    "Impute the remaining missing values - Median imputation for numerical features and Mode imputation for categorical features."
   ]
  },
  {
   "cell_type": "code",
   "execution_count": 22,
   "metadata": {},
   "outputs": [],
   "source": [
    "def impute_remaining_missing_values(fullacc):\n",
    "    \n",
    "    for i in fullacc.columns:\n",
    "        if (fullacc[i].dtype=='object'):\n",
    "            fullacc[i] = fullacc[i].fillna(fullacc[i].mode()[0])\n",
    "        else:\n",
    "            fullacc[i] = fullacc[i].fillna(fullacc[i].median())\n",
    "            \n",
    "    return fullacc"
   ]
  },
  {
   "cell_type": "markdown",
   "metadata": {},
   "source": [
    "#### Encoding \"loan_status\"\n",
    "\n",
    "- \"loan_status\" denotes the current status of the loan.This column contains text values that need to be converted to numerical values for the model to be trained. \n",
    "\n",
    "- Those values of 'loan_status' where the customer has defaulted in payments are encoded with 1 and those without any defaults are encoded with 0, and mapped into a new column 'loan_status_encoded'."
   ]
  },
  {
   "cell_type": "code",
   "execution_count": 23,
   "metadata": {},
   "outputs": [
    {
     "name": "stdout",
     "output_type": "stream",
     "text": [
      "['Fully Paid' 'Current' 'Charged Off' 'In Grace Period'\n",
      " 'Late (31-120 days)' 'Late (16-30 days)' 'Default'\n",
      " 'Does not meet the credit policy. Status:Fully Paid'\n",
      " 'Does not meet the credit policy. Status:Charged Off']\n"
     ]
    }
   ],
   "source": [
    "print(fullacc['loan_status'].unique())"
   ]
  },
  {
   "cell_type": "code",
   "execution_count": 24,
   "metadata": {},
   "outputs": [],
   "source": [
    "def loan_status_encoding(fullacc):\n",
    "    \n",
    "    def c_off(x):\n",
    "        if((x=='Charged Off' or x=='Default' or x=='Late (31-120 days)' or \n",
    "            x=='Does not meet credit policy. Status Charged Off')):\n",
    "            return 1\n",
    "        else:\n",
    "            return 0\n",
    "    \n",
    "    fullacc['loan_status_encoded'] = fullacc['loan_status'].apply(lambda x:c_off(x))\n",
    "    return fullacc        "
   ]
  },
  {
   "cell_type": "markdown",
   "metadata": {},
   "source": [
    "#### Removal of Insignificant Columns\n",
    "\n",
    "Removing features which aren't loan amount, irrelevant features and post-loan application features.\n",
    "\n",
    "- Columns like 'funded_amnt_inv'(the total amount committed by investors for that loan at that point in time),'last_pymnt_amnt' (last total payment amount received), 'delinq_amnt'(the past-due amount owed for the accounts on which the borrower is now delinquent) are dropped as they've no bearing on PD, LGD or EAD predictions.\n",
    "- Insignificant features like grade, url, zip_code, and so on that are irrelevant for loan default prediction.\n",
    "- Certain features are unavailable at the time of loan application, hence such columns are dropped as well."
   ]
  },
  {
   "cell_type": "code",
   "execution_count": 25,
   "metadata": {},
   "outputs": [],
   "source": [
    "def remove_insignificant_columns(fullacc):\n",
    "    \n",
    "    ## here, we keep aside:\n",
    "    ## 'funded_amnt',\n",
    "    ## 'recoveries','total_rec_prncp',\n",
    "    \n",
    "    \n",
    "    # remove amount data that isnt loan amount\n",
    "    amt_data = ['funded_amnt_inv','last_pymnt_amnt','delinq_amnt']\n",
    "    \n",
    "    # remove unnecessary columns\n",
    "    insig_data = ['grade','sub_grade','int_rate','id','issue_d','emp_title','url','title','zip_code','earliest_cr_line',\n",
    "                 'pymnt_plan','fico_range_high','fico_range_low','last_fico_range_high','last_fico_range_low',\n",
    "                 'policy_code','collections_12_mths_ex_med','acc_open_past_24mths','avg_cur_bal','bc_open_to_buy',\n",
    "                 'bc_util','mo_sin_old_il_acct','mo_sin_old_rev_tl_op','mo_sin_rcnt_rev_tl_op','mo_sin_rcnt_tl',\n",
    "                 'mths_since_recent_bc','mths_since_recent_inq','num_accts_ever_120_pd','num_actv_bc_tl','num_actv_rev_tl',\n",
    "                 'num_bc_sats','num_bc_tl','num_il_tl','num_op_rev_tl','num_rev_accts','num_rev_tl_bal_gt_0','num_sats',\n",
    "                 'num_tl_120dpd_2m','num_tl_30dpd','num_tl_90g_dpd_24m','num_tl_op_past_12m', 'pct_tl_nvr_dlq',\n",
    "                 'percent_bc_gt_75','tot_hi_cred_lim','total_bal_ex_mort','total_bc_limit','total_il_high_credit_limit',\n",
    "                 'hardship_flag','debt_settlement_flag','tax_liens','delinq_2yrs','acc_now_delinq',\n",
    "                 'application_type','addr_state']  \n",
    "    \n",
    "    # remove features not known during loan application\n",
    "    postapp_data = ['out_prncp','out_prncp_inv','total_pymnt','total_pymnt_inv','total_rec_int',\n",
    "                    'total_rec_late_fee','collection_recovery_fee','last_pymnt_d',\n",
    "                    'last_credit_pull_d','inq_last_6mths','total_rev_hi_lim','chargeoff_within_12_mths',\n",
    "                    'last_fico_avg']\n",
    "    \n",
    "    # remove loan_status (already encoded)\n",
    "    dep_data = ['loan_status']\n",
    "    \n",
    "    to_drop = amt_data + insig_data + postapp_data + dep_data\n",
    "        \n",
    "    fullacc = fullacc.drop(to_drop, axis=1)\n",
    "    \n",
    "    return fullacc"
   ]
  },
  {
   "cell_type": "markdown",
   "metadata": {},
   "source": [
    "#### Applying The User Defined Functions\n",
    "\n",
    "Grouping all the above functions into a main function to create efficiency in the flow of code structure."
   ]
  },
  {
   "cell_type": "code",
   "execution_count": 26,
   "metadata": {},
   "outputs": [],
   "source": [
    "def prep_train_default_model(fullacc):\n",
    "    fullacc = standardize_loan_purpose(fullacc)\n",
    "    fullacc = credit_line_btwn_now_then(fullacc)\n",
    "    fullacc = remove_cols_missing_greater_than_thirty(fullacc)\n",
    "    fullacc = fico_mean(fullacc)\n",
    "    fullacc = impute_missing_values(fullacc)\n",
    "    fullacc = term_clean(fullacc)\n",
    "    fullacc = standardize_home_ownership(fullacc)\n",
    "    fullacc = create_region_for_addr_states(fullacc)\n",
    "    fullacc = impute_remaining_missing_values(fullacc)\n",
    "    fullacc = loan_status_encoding(fullacc)\n",
    "    fullacc = remove_insignificant_columns(fullacc)\n",
    "    \n",
    "    return fullacc"
   ]
  },
  {
   "cell_type": "markdown",
   "metadata": {},
   "source": [
    "#### Data Prep for Default model\n",
    "\n",
    "Input the raw dataset, call the main function that performs all the necessary prepping and save the final preprocessed data into a CSV file."
   ]
  },
  {
   "cell_type": "code",
   "execution_count": 27,
   "metadata": {},
   "outputs": [],
   "source": [
    "## call main function that performs all the necessary prep\n",
    "fullacc_clean = prep_train_default_model(fullacc)"
   ]
  },
  {
   "cell_type": "code",
   "execution_count": 28,
   "metadata": {},
   "outputs": [
    {
     "data": {
      "text/plain": [
       "12.830986239465503"
      ]
     },
     "execution_count": 28,
     "metadata": {},
     "output_type": "execute_result"
    }
   ],
   "source": [
    "# Percentage of defaulters\n",
    "len(fullacc_clean[fullacc_clean['loan_status_encoded']==1])/len(fullacc_clean)*100"
   ]
  },
  {
   "cell_type": "code",
   "execution_count": 29,
   "metadata": {},
   "outputs": [],
   "source": [
    "## we take only the accounts that were charged-off (written-off).\n",
    "## Default = 1\n",
    "df = fullacc_clean.loc[fullacc_clean['loan_status_encoded']==1]"
   ]
  },
  {
   "cell_type": "code",
   "execution_count": 30,
   "metadata": {},
   "outputs": [],
   "source": [
    "# We calculate the dependent variable for the LGD model: recovery rate.\n",
    "# It is the ratio of recoveries and funded amount.\n",
    "df['recovery_rate'] = df['recoveries'] / df['funded_amnt']"
   ]
  },
  {
   "cell_type": "code",
   "execution_count": 31,
   "metadata": {},
   "outputs": [],
   "source": [
    "# We set recovery rates that are greater than 1 to 1 and recovery rates that are less than 0 to 0.\n",
    "df['recovery_rate'] = np.where(df['recovery_rate'] > 1, 1, df['recovery_rate'])\n",
    "df['recovery_rate'] = np.where(df['recovery_rate'] < 0, 0, df['recovery_rate'])"
   ]
  },
  {
   "cell_type": "code",
   "execution_count": 32,
   "metadata": {},
   "outputs": [],
   "source": [
    "# We create a new variable which is 0 if recovery rate is 0 and 1 otherwise.\n",
    "df['recovery_rate_encoded'] = np.where(df['recovery_rate'] == 0, 0, 1)"
   ]
  },
  {
   "cell_type": "code",
   "execution_count": 33,
   "metadata": {},
   "outputs": [
    {
     "data": {
      "image/png": "[encoded data removed]",
      "text/plain": [
       "<Figure size 720x576 with 1 Axes>"
      ]
     },
     "metadata": {},
     "output_type": "display_data"
    }
   ],
   "source": [
    "#Analyzing recovery status\n",
    "sizes = [df.recovery_rate_encoded[df['recovery_rate_encoded']==1].count(), df.recovery_rate_encoded[df['recovery_rate_encoded']==0].count()]\n",
    "plt.subplots(figsize=(10, 8))\n",
    "plt.pie(sizes, explode=(0, 0.1), labels=['Recovery', 'No Recovery'], autopct='%1.1f%%', shadow=True, startangle=90)\n",
    "plt.axis('equal')\n",
    "plt.title(\"Proportion of recovery & non-recovery from charged-off accounts\", size = 20)\n",
    "plt.show()"
   ]
  },
  {
   "cell_type": "markdown",
   "metadata": {},
   "source": [
    "- Of all the charged-off accounts`(12.83% of all the borrower accounts)`, the bank was able to recover only 63.7%.\n",
    "- Unless remedial actions are taken, the bank will face serious losses on their end."
   ]
  },
  {
   "cell_type": "code",
   "execution_count": 34,
   "metadata": {},
   "outputs": [],
   "source": [
    "def barPerc(df,xVar,ax):\n",
    "    '''\n",
    "    barPerc(): Add percentage for hues to bar plots\n",
    "    args:\n",
    "        df: pandas dataframe\n",
    "        xVar: (string) X variable \n",
    "        ax: Axes object (for Seaborn Countplot/Bar plot or\n",
    "                         pandas bar plot)\n",
    "    '''\n",
    "    # 1. how many X categories\n",
    "    ##   check for NaN and remove\n",
    "    numX=len([x for x in df[xVar].unique() if x==x])\n",
    "\n",
    "    # 2. The bars are created in hue order, organize them\n",
    "    bars = ax.patches\n",
    "    ## 2a. For each X variable\n",
    "    for ind in range(numX):\n",
    "        ## 2b. Get every hue bar\n",
    "        ##     ex. 8 X categories, 4 hues =>\n",
    "        ##    [0, 8, 16, 24] are hue bars for 1st X category\n",
    "        hueBars=bars[ind:][::numX]\n",
    "        ## 2c. Get the total height (for percentages)\n",
    "        total = sum([x.get_height() for x in hueBars])\n",
    "\n",
    "        # 3. Print the percentage on the bars\n",
    "        for bar in hueBars:\n",
    "            ax.text(bar.get_x() + bar.get_width()/2.,\n",
    "                    bar.get_height(),\n",
    "                    f'{bar.get_height()/total:.1%}',\n",
    "                    ha=\"center\",va=\"bottom\")"
   ]
  },
  {
   "cell_type": "code",
   "execution_count": 35,
   "metadata": {},
   "outputs": [
    {
     "data": {
      "image/png": "[encoded data removed]",
      "text/plain": [
       "<Figure size 720x360 with 1 Axes>"
      ]
     },
     "metadata": {
      "needs_background": "light"
     },
     "output_type": "display_data"
    },
    {
     "data": {
      "image/png": "[encoded data removed]",
      "text/plain": [
       "<Figure size 720x360 with 1 Axes>"
      ]
     },
     "metadata": {
      "needs_background": "light"
     },
     "output_type": "display_data"
    },
    {
     "data": {
      "image/png": "[encoded data removed]",
      "text/plain": [
       "<Figure size 720x360 with 1 Axes>"
      ]
     },
     "metadata": {
      "needs_background": "light"
     },
     "output_type": "display_data"
    },
    {
     "data": {
      "image/png": "[encoded data removed]",
      "text/plain": [
       "<Figure size 1080x360 with 1 Axes>"
      ]
     },
     "metadata": {
      "needs_background": "light"
     },
     "output_type": "display_data"
    }
   ],
   "source": [
    "plt.figure(figsize = (10, 5))\n",
    "ax=sns.countplot(x='disbursement_method', hue='recovery_rate_encoded', data=df)\n",
    "(barPerc(df,'disbursement_method',ax))\n",
    "plt.figure(figsize = (10, 5))\n",
    "ax=sns.countplot(x='purpose', hue='recovery_rate_encoded', data=df)\n",
    "(barPerc(df,'purpose',ax))\n",
    "plt.figure(figsize = (10, 5))\n",
    "ax=sns.countplot(x='home_ownership', hue='recovery_rate_encoded', data=df)\n",
    "(barPerc(df,'home_ownership',ax))\n",
    "plt.figure(figsize = (15, 5))\n",
    "ax=sns.countplot(x='emp_length', hue='recovery_rate_encoded', data=df)\n",
    "(barPerc(df,'emp_length',ax))"
   ]
  },
  {
   "cell_type": "markdown",
   "metadata": {},
   "source": [
    "- Cash disbursement is the most resorted to method and hence, has the highest recovery and non-recovery rates.\n",
    "- The loan defaulters who have mortgaged or rented homes contribute significantly in increasing the non-recovered amount of loans, which isn't surprising since the obligation of mortgage or rent payment inadvertently affects their ability to repay loans that in turn amounts to the bank not being able to recover either the principal or accrued interest from them.\n",
    "- With regards to purpose of loan, 'debt' seems to stand high amongst defaulters as a crucial driver of non-recovery. This implies those who availed loans to pay off other liabilities and consumer debts has defaulted in payments, and thereby resulting in no recovery from the funded amount.\n",
    "- High recovery and non-recovery rates among people who have been employed for over 10 years is observed."
   ]
  },
  {
   "cell_type": "markdown",
   "metadata": {},
   "source": [
    "#### Encoding Categorical Features\n",
    "\n",
    "Create dummy variables of all the categorical features. This function removes one of the levels to avoid linear dependency using parameter 'drop_first'."
   ]
  },
  {
   "cell_type": "markdown",
   "metadata": {},
   "source": [
    "- \"emp_length\": Employment length in years. Possible values are between 0 and 10 where 0 means less than one year and 10 means ten or more years."
   ]
  },
  {
   "cell_type": "code",
   "execution_count": 36,
   "metadata": {},
   "outputs": [
    {
     "name": "stdout",
     "output_type": "stream",
     "text": [
      "['10+ years' '3 years' '4 years' '6 years' '1 year' '7 years' '8 years'\n",
      " '5 years' '2 years' '9 years' '< 1 year']\n"
     ]
    }
   ],
   "source": [
    "print(fullacc_clean['emp_length'].unique())"
   ]
  },
  {
   "cell_type": "markdown",
   "metadata": {},
   "source": [
    "- \"verification_status\": Indicates if income was verified by LC, not verified, or if the income source was verified"
   ]
  },
  {
   "cell_type": "code",
   "execution_count": 37,
   "metadata": {},
   "outputs": [
    {
     "name": "stdout",
     "output_type": "stream",
     "text": [
      "['Not Verified' 'Source Verified' 'Verified']\n"
     ]
    }
   ],
   "source": [
    "print(fullacc_clean['verification_status'].unique())"
   ]
  },
  {
   "cell_type": "markdown",
   "metadata": {},
   "source": [
    "- \"initial_list_status\": The initial listing status of the loan"
   ]
  },
  {
   "cell_type": "code",
   "execution_count": 38,
   "metadata": {},
   "outputs": [
    {
     "name": "stdout",
     "output_type": "stream",
     "text": [
      "['w' 'f']\n"
     ]
    }
   ],
   "source": [
    "print(fullacc_clean['initial_list_status'].unique())"
   ]
  },
  {
   "cell_type": "markdown",
   "metadata": {},
   "source": [
    "- \"disbursement_method\": The method by which the borrower receives their loan"
   ]
  },
  {
   "cell_type": "code",
   "execution_count": 39,
   "metadata": {},
   "outputs": [
    {
     "name": "stdout",
     "output_type": "stream",
     "text": [
      "['Cash' 'DirectPay']\n"
     ]
    }
   ],
   "source": [
    "print(fullacc_clean['disbursement_method'].unique())"
   ]
  },
  {
   "cell_type": "code",
   "execution_count": 40,
   "metadata": {},
   "outputs": [],
   "source": [
    "def create_dummies(fullacc):\n",
    "    \n",
    "    categ_feats = [\"emp_length\", \"home_ownership\", \"verification_status\", \"purpose\", \"initial_list_status\", \"region\",\n",
    "                 \"disbursement_method\"]\n",
    "    for i in fullacc.columns:\n",
    "        if i in categ_feats:\n",
    "            # this gets dummies but deletes the first one to avoid linear dependency\n",
    "            # if feature is needed dude to model importance, remove parameter = 'drop_first'\n",
    "            fullacc = fullacc.join(pd.get_dummies(fullacc[i], prefix=i, drop_first=True))\n",
    "        \n",
    "    # drop original columns        \n",
    "    fullacc = fullacc.drop(categ_feats, axis=1)\n",
    "                                   \n",
    "    return fullacc\n",
    "\n",
    "data = create_dummies(fullacc_clean)"
   ]
  },
  {
   "cell_type": "code",
   "execution_count": 41,
   "metadata": {},
   "outputs": [],
   "source": [
    "data.to_csv('fullacc_preprocessed_data_LGD_EAD.csv', index=False)"
   ]
  },
  {
   "cell_type": "code",
   "execution_count": 42,
   "metadata": {},
   "outputs": [],
   "source": [
    "## end of notebook"
   ]
  }
 ],
 "metadata": {
  "kernelspec": {
   "display_name": "Python 3",
   "language": "python",
   "name": "python3"
  },
  "language_info": {
   "codemirror_mode": {
    "name": "ipython",
    "version": 3
   },
   "file_extension": ".py",
   "mimetype": "text/x-python",
   "name": "python",
   "nbconvert_exporter": "python",
   "pygments_lexer": "ipython3",
   "version": "3.9.2"
  }
 },
 "nbformat": 4,
 "nbformat_minor": 2
}
