{
 "cells": [
  {
   "cell_type": "code",
   "execution_count": 1,
   "metadata": {},
   "outputs": [],
   "source": [
    "## This Notebook contains:\n",
    "\n",
    "## a step-by-step explanation of statsmodel GLM fit and evaluation --->\n",
    "\n",
    "## EDA for data understanding and Data prep\n",
    "## Class balance check and oversampling\n",
    "## Statsmodels GLM used to observe significant features and model metrics\n",
    "## Stepwise Backward Propagation done to drop insignificant features\n",
    "## Model predictions are updated with optimal threshold calculated from the ROC-curve\n",
    "## Final set of features used to train and save sklearn LogReg final model"
   ]
  },
  {
   "cell_type": "markdown",
   "metadata": {},
   "source": [
    "## Importing Libraries"
   ]
  },
  {
   "cell_type": "code",
   "execution_count": 2,
   "metadata": {},
   "outputs": [],
   "source": [
    "import pandas as pd\n",
    "import numpy as np\n",
    "import os\n",
    "import glob\n",
    "import sys\n",
    "import datetime \n",
    "import pickle\n",
    "\n",
    "#Importing Data visulaisation Libraries\n",
    "import matplotlib.pyplot as plt\n",
    "import seaborn as sns\n",
    "\n",
    "#Importing Necessary ML Libraries\n",
    "import statsmodels.api as sm\n",
    "import sklearn\n",
    "from sklearn.model_selection import train_test_split\n",
    "from sklearn.tree import DecisionTreeClassifier\n",
    "from sklearn.linear_model import LogisticRegression\n",
    "from sklearn.ensemble import RandomForestClassifier, AdaBoostClassifier, GradientBoostingClassifier\n",
    "from sklearn import metrics\n",
    "from sklearn.metrics import classification_report, confusion_matrix, accuracy_score, roc_auc_score, roc_curve\n",
    "from sklearn.model_selection import GridSearchCV \n",
    "\n",
    "#For Dealing with Imbalanced Datasets\n",
    "from imblearn.over_sampling import SMOTE\n",
    "from imblearn.under_sampling import NearMiss\n",
    "from collections import Counter\n",
    "\n",
    "# Other Libraries\n",
    "import time"
   ]
  },
  {
   "cell_type": "markdown",
   "metadata": {},
   "source": [
    "## Importing Data "
   ]
  },
  {
   "cell_type": "code",
   "execution_count": 3,
   "metadata": {},
   "outputs": [
    {
     "data": {
      "text/html": [
       "<div>\n",
       "<style scoped>\n",
       "    .dataframe tbody tr th:only-of-type {\n",
       "        vertical-align: middle;\n",
       "    }\n",
       "\n",
       "    .dataframe tbody tr th {\n",
       "        vertical-align: top;\n",
       "    }\n",
       "\n",
       "    .dataframe thead th {\n",
       "        text-align: right;\n",
       "    }\n",
       "</style>\n",
       "<table border=\"1\" class=\"dataframe\">\n",
       "  <thead>\n",
       "    <tr style=\"text-align: right;\">\n",
       "      <th></th>\n",
       "      <th>RowNumber</th>\n",
       "      <th>CustomerId</th>\n",
       "      <th>Surname</th>\n",
       "      <th>CreditScore</th>\n",
       "      <th>Geography</th>\n",
       "      <th>Gender</th>\n",
       "      <th>Age</th>\n",
       "      <th>Tenure</th>\n",
       "      <th>Balance</th>\n",
       "      <th>NumOfProducts</th>\n",
       "      <th>HasCrCard</th>\n",
       "      <th>IsActiveMember</th>\n",
       "      <th>EstimatedSalary</th>\n",
       "      <th>Exited</th>\n",
       "    </tr>\n",
       "  </thead>\n",
       "  <tbody>\n",
       "    <tr>\n",
       "      <th>0</th>\n",
       "      <td>1</td>\n",
       "      <td>15634602</td>\n",
       "      <td>Hargrave</td>\n",
       "      <td>619</td>\n",
       "      <td>France</td>\n",
       "      <td>Female</td>\n",
       "      <td>42</td>\n",
       "      <td>2</td>\n",
       "      <td>0.00</td>\n",
       "      <td>1</td>\n",
       "      <td>1</td>\n",
       "      <td>1</td>\n",
       "      <td>101348.88</td>\n",
       "      <td>1</td>\n",
       "    </tr>\n",
       "    <tr>\n",
       "      <th>1</th>\n",
       "      <td>2</td>\n",
       "      <td>15647311</td>\n",
       "      <td>Hill</td>\n",
       "      <td>608</td>\n",
       "      <td>Spain</td>\n",
       "      <td>Female</td>\n",
       "      <td>41</td>\n",
       "      <td>1</td>\n",
       "      <td>83807.86</td>\n",
       "      <td>1</td>\n",
       "      <td>0</td>\n",
       "      <td>1</td>\n",
       "      <td>112542.58</td>\n",
       "      <td>0</td>\n",
       "    </tr>\n",
       "    <tr>\n",
       "      <th>2</th>\n",
       "      <td>3</td>\n",
       "      <td>15619304</td>\n",
       "      <td>Onio</td>\n",
       "      <td>502</td>\n",
       "      <td>France</td>\n",
       "      <td>Female</td>\n",
       "      <td>42</td>\n",
       "      <td>8</td>\n",
       "      <td>159660.80</td>\n",
       "      <td>3</td>\n",
       "      <td>1</td>\n",
       "      <td>0</td>\n",
       "      <td>113931.57</td>\n",
       "      <td>1</td>\n",
       "    </tr>\n",
       "    <tr>\n",
       "      <th>3</th>\n",
       "      <td>4</td>\n",
       "      <td>15701354</td>\n",
       "      <td>Boni</td>\n",
       "      <td>699</td>\n",
       "      <td>France</td>\n",
       "      <td>Female</td>\n",
       "      <td>39</td>\n",
       "      <td>1</td>\n",
       "      <td>0.00</td>\n",
       "      <td>2</td>\n",
       "      <td>0</td>\n",
       "      <td>0</td>\n",
       "      <td>93826.63</td>\n",
       "      <td>0</td>\n",
       "    </tr>\n",
       "    <tr>\n",
       "      <th>4</th>\n",
       "      <td>5</td>\n",
       "      <td>15737888</td>\n",
       "      <td>Mitchell</td>\n",
       "      <td>850</td>\n",
       "      <td>Spain</td>\n",
       "      <td>Female</td>\n",
       "      <td>43</td>\n",
       "      <td>2</td>\n",
       "      <td>125510.82</td>\n",
       "      <td>1</td>\n",
       "      <td>1</td>\n",
       "      <td>1</td>\n",
       "      <td>79084.10</td>\n",
       "      <td>0</td>\n",
       "    </tr>\n",
       "  </tbody>\n",
       "</table>\n",
       "</div>"
      ],
      "text/plain": [
       "   RowNumber  CustomerId   Surname  CreditScore Geography  Gender  Age  \\\n",
       "0          1    15634602  Hargrave          619    France  Female   42   \n",
       "1          2    15647311      Hill          608     Spain  Female   41   \n",
       "2          3    15619304      Onio          502    France  Female   42   \n",
       "3          4    15701354      Boni          699    France  Female   39   \n",
       "4          5    15737888  Mitchell          850     Spain  Female   43   \n",
       "\n",
       "   Tenure    Balance  NumOfProducts  HasCrCard  IsActiveMember  \\\n",
       "0       2       0.00              1          1               1   \n",
       "1       1   83807.86              1          0               1   \n",
       "2       8  159660.80              3          1               0   \n",
       "3       1       0.00              2          0               0   \n",
       "4       2  125510.82              1          1               1   \n",
       "\n",
       "   EstimatedSalary  Exited  \n",
       "0        101348.88       1  \n",
       "1        112542.58       0  \n",
       "2        113931.57       1  \n",
       "3         93826.63       0  \n",
       "4         79084.10       0  "
      ]
     },
     "execution_count": 3,
     "metadata": {},
     "output_type": "execute_result"
    }
   ],
   "source": [
    "data = pd.read_csv(\"Customer_Churn.csv\")\n",
    "data.head()"
   ]
  },
  {
   "cell_type": "code",
   "execution_count": 4,
   "metadata": {},
   "outputs": [
    {
     "data": {
      "text/plain": [
       "(10000, 14)"
      ]
     },
     "execution_count": 4,
     "metadata": {},
     "output_type": "execute_result"
    }
   ],
   "source": [
    "#Displaying no. of records and columns\n",
    "data.shape"
   ]
  },
  {
   "cell_type": "code",
   "execution_count": 5,
   "metadata": {},
   "outputs": [
    {
     "name": "stdout",
     "output_type": "stream",
     "text": [
      "<class 'pandas.core.frame.DataFrame'>\n",
      "RangeIndex: 10000 entries, 0 to 9999\n",
      "Data columns (total 14 columns):\n",
      "RowNumber          10000 non-null int64\n",
      "CustomerId         10000 non-null int64\n",
      "Surname            10000 non-null object\n",
      "CreditScore        10000 non-null int64\n",
      "Geography          10000 non-null object\n",
      "Gender             10000 non-null object\n",
      "Age                10000 non-null int64\n",
      "Tenure             10000 non-null int64\n",
      "Balance            10000 non-null float64\n",
      "NumOfProducts      10000 non-null int64\n",
      "HasCrCard          10000 non-null int64\n",
      "IsActiveMember     10000 non-null int64\n",
      "EstimatedSalary    10000 non-null float64\n",
      "Exited             10000 non-null int64\n",
      "dtypes: float64(2), int64(9), object(3)\n",
      "memory usage: 1.1+ MB\n"
     ]
    }
   ],
   "source": [
    "#Details of dataset\n",
    "data.info()"
   ]
  },
  {
   "cell_type": "markdown",
   "metadata": {},
   "source": [
    "- There are 10000 records with 14 columns.\n",
    "- Apart from three columns which are categorical, rest are continuous (numerical).\n",
    "- As evident from the non-null count, no values are missing.\n",
    "- Target variable is \"Exited\" which we'll predict."
   ]
  },
  {
   "cell_type": "markdown",
   "metadata": {},
   "source": [
    "## Data Pre-Processing & EDA"
   ]
  },
  {
   "cell_type": "code",
   "execution_count": 6,
   "metadata": {},
   "outputs": [],
   "source": [
    "#Dropping insignificant columns\n",
    "drop_cols = [\"RowNumber\",\"CustomerId\",\"Surname\"]\n",
    "data.drop(drop_cols, axis=1, inplace=True)"
   ]
  },
  {
   "cell_type": "code",
   "execution_count": 7,
   "metadata": {},
   "outputs": [
    {
     "data": {
      "image/png": "[encoded data removed]",
      "text/plain": [
       "<Figure size 720x576 with 1 Axes>"
      ]
     },
     "metadata": {},
     "output_type": "display_data"
    }
   ],
   "source": [
    "#Status of customer churn\n",
    "sizes = [data.Exited[data['Exited']==1].count(), data.Exited[data['Exited']==0].count()]\n",
    "plt.subplots(figsize=(10, 8))\n",
    "plt.pie(sizes, explode=(0, 0.1), labels=['Exited', 'Retained'], autopct='%1.1f%%', shadow=True, startangle=90)\n",
    "plt.axis('equal')\n",
    "plt.title(\"Proportion of customers churned and retained\", size = 20)\n",
    "plt.show()"
   ]
  },
  {
   "cell_type": "markdown",
   "metadata": {},
   "source": [
    "- 20% customers have exited from the bank and ~80% retained.\n",
    "- The classes are highly imbalanced, which will be dealt with later."
   ]
  },
  {
   "cell_type": "code",
   "execution_count": 8,
   "metadata": {},
   "outputs": [
    {
     "data": {
      "text/plain": [
       "<matplotlib.axes._subplots.AxesSubplot at 0x185a3e0fb00>"
      ]
     },
     "execution_count": 8,
     "metadata": {},
     "output_type": "execute_result"
    },
    {
     "data": {
      "image/png": "[encoded data removed]",
      "text/plain": [
       "<Figure size 1440x864 with 4 Axes>"
      ]
     },
     "metadata": {},
     "output_type": "display_data"
    }
   ],
   "source": [
    "#Reviewing the relation of target variable with categorical variables\n",
    "fig, axarr = plt.subplots(2, 2, figsize=(20, 12))\n",
    "sns.countplot(x='Geography', hue='Exited', data=data, ax=axarr[0][0])\n",
    "sns.countplot(x='Gender', hue='Exited', data=data, ax=axarr[0][1])\n",
    "sns.countplot(x='HasCrCard', hue='Exited', data=data, ax=axarr[1][0])\n",
    "sns.countplot(x='IsActiveMember', hue='Exited', data=data, ax=axarr[1][1])"
   ]
  },
  {
   "cell_type": "markdown",
   "metadata": {},
   "source": [
    "- Majority of the data is from France. However, the proportion of churned customers is inversely related to the population of customers alluding to the bank possibly having a problem (maybe not enough customer service resources allocated) in the areas where it has fewer clients.\n",
    "\n",
    "- The proportion of female customers churning is also greater than that of male customers.\n",
    "\n",
    "- Interestingly, majority of the customers that churned are those with credit cards. Given that majority of the customers have credit cards could prove this to be just a coincidence.\n",
    "\n",
    "- Unsurprisingly, the inactive members have a greater churn. It's concerning that the overall proportion of inactive mebers is quite high, suggesting that the bank may need a program implemented to turn this group to active customers as this will definitely have a positive impact on the customer churn."
   ]
  },
  {
   "cell_type": "code",
   "execution_count": 9,
   "metadata": {},
   "outputs": [
    {
     "data": {
      "text/plain": [
       "<matplotlib.axes._subplots.AxesSubplot at 0x185a412f0b8>"
      ]
     },
     "execution_count": 9,
     "metadata": {},
     "output_type": "execute_result"
    },
    {
     "data": {
      "image/png": "[encoded data removed]",
      "text/plain": [
       "<Figure size 1440x864 with 6 Axes>"
      ]
     },
     "metadata": {},
     "output_type": "display_data"
    }
   ],
   "source": [
    "#Relations based on the continuous data attributes\n",
    "fig, axarr = plt.subplots(3, 2, figsize=(20, 12))\n",
    "sns.boxplot(y='CreditScore', x='Exited', hue='Exited', data=data, ax=axarr[0][0])\n",
    "sns.boxplot(y='Age', x='Exited', hue='Exited', data=data, ax=axarr[0][1])\n",
    "sns.boxplot(y='Tenure', x='Exited', hue='Exited', data=data, ax=axarr[1][0])\n",
    "sns.boxplot(y='Balance', x='Exited', hue='Exited', data=data, ax=axarr[1][1])\n",
    "sns.boxplot(y='NumOfProducts', x='Exited', hue='Exited', data=data, ax=axarr[2][0])\n",
    "sns.boxplot(y='EstimatedSalary', x='Exited', hue='Exited', data=data, ax=axarr[2][1])"
   ]
  },
  {
   "cell_type": "markdown",
   "metadata": {},
   "source": [
    "- There is no significant difference in the credit score distribution between retained and churned customers.\n",
    "\n",
    "- The older customers are churning more than the younger ones implying a difference in service preference among the age categories. The bank may need to review their target market or review the strategy for retention between the different age groups.\n",
    "\n",
    "- With regard to the tenure, the clients on either extreme end (spent little time with the bank or a lot of time with the bank) are more likely to churn compared to those that are of average tenure.\n",
    "\n",
    "- Worryingly, the bank is losing customers with significant bank balances which is likely to hit their available capital for lending.\n",
    "\n",
    "- Neither the product nor the salary has a significant effect on the likelihood to churn."
   ]
  },
  {
   "cell_type": "markdown",
   "metadata": {},
   "source": [
    "### Scaling of Features\n",
    "\n",
    "Feature scaling of numerical columns that have a large range."
   ]
  },
  {
   "cell_type": "code",
   "execution_count": 10,
   "metadata": {},
   "outputs": [],
   "source": [
    "#Log scaling \"Balance\" & \"EstimatedSalary\" features, and dropping the same\n",
    "data['Log_Balance'] = data['Balance'].apply(lambda x: np.log10(x+1))\n",
    "data['Log_Est_Salary'] = data['EstimatedSalary'].apply(lambda x: np.log10(x+1))"
   ]
  },
  {
   "cell_type": "code",
   "execution_count": 11,
   "metadata": {},
   "outputs": [],
   "source": [
    "data.drop(['Balance','EstimatedSalary'], axis=1, inplace=True)"
   ]
  },
  {
   "cell_type": "markdown",
   "metadata": {},
   "source": [
    "### Encoding Categorical Variables\n",
    "\n",
    "Creating dummy variables of all categorical features"
   ]
  },
  {
   "cell_type": "code",
   "execution_count": 12,
   "metadata": {},
   "outputs": [],
   "source": [
    "data_new = pd.get_dummies(data=data, prefix=['Geography','Gender'], columns=['Geography','Gender'])"
   ]
  },
  {
   "cell_type": "code",
   "execution_count": 13,
   "metadata": {},
   "outputs": [
    {
     "data": {
      "text/html": [
       "<div>\n",
       "<style scoped>\n",
       "    .dataframe tbody tr th:only-of-type {\n",
       "        vertical-align: middle;\n",
       "    }\n",
       "\n",
       "    .dataframe tbody tr th {\n",
       "        vertical-align: top;\n",
       "    }\n",
       "\n",
       "    .dataframe thead th {\n",
       "        text-align: right;\n",
       "    }\n",
       "</style>\n",
       "<table border=\"1\" class=\"dataframe\">\n",
       "  <thead>\n",
       "    <tr style=\"text-align: right;\">\n",
       "      <th></th>\n",
       "      <th>CreditScore</th>\n",
       "      <th>Age</th>\n",
       "      <th>Tenure</th>\n",
       "      <th>NumOfProducts</th>\n",
       "      <th>HasCrCard</th>\n",
       "      <th>IsActiveMember</th>\n",
       "      <th>Exited</th>\n",
       "      <th>Log_Balance</th>\n",
       "      <th>Log_Est_Salary</th>\n",
       "      <th>Geography_France</th>\n",
       "      <th>Geography_Germany</th>\n",
       "      <th>Geography_Spain</th>\n",
       "      <th>Gender_Female</th>\n",
       "      <th>Gender_Male</th>\n",
       "    </tr>\n",
       "  </thead>\n",
       "  <tbody>\n",
       "    <tr>\n",
       "      <th>0</th>\n",
       "      <td>619</td>\n",
       "      <td>42</td>\n",
       "      <td>2</td>\n",
       "      <td>1</td>\n",
       "      <td>1</td>\n",
       "      <td>1</td>\n",
       "      <td>1</td>\n",
       "      <td>0.000000</td>\n",
       "      <td>5.005823</td>\n",
       "      <td>1</td>\n",
       "      <td>0</td>\n",
       "      <td>0</td>\n",
       "      <td>1</td>\n",
       "      <td>0</td>\n",
       "    </tr>\n",
       "    <tr>\n",
       "      <th>1</th>\n",
       "      <td>608</td>\n",
       "      <td>41</td>\n",
       "      <td>1</td>\n",
       "      <td>1</td>\n",
       "      <td>0</td>\n",
       "      <td>1</td>\n",
       "      <td>0</td>\n",
       "      <td>4.923290</td>\n",
       "      <td>5.051321</td>\n",
       "      <td>0</td>\n",
       "      <td>0</td>\n",
       "      <td>1</td>\n",
       "      <td>1</td>\n",
       "      <td>0</td>\n",
       "    </tr>\n",
       "    <tr>\n",
       "      <th>2</th>\n",
       "      <td>502</td>\n",
       "      <td>42</td>\n",
       "      <td>8</td>\n",
       "      <td>3</td>\n",
       "      <td>1</td>\n",
       "      <td>0</td>\n",
       "      <td>1</td>\n",
       "      <td>5.203201</td>\n",
       "      <td>5.056648</td>\n",
       "      <td>1</td>\n",
       "      <td>0</td>\n",
       "      <td>0</td>\n",
       "      <td>1</td>\n",
       "      <td>0</td>\n",
       "    </tr>\n",
       "    <tr>\n",
       "      <th>3</th>\n",
       "      <td>699</td>\n",
       "      <td>39</td>\n",
       "      <td>1</td>\n",
       "      <td>2</td>\n",
       "      <td>0</td>\n",
       "      <td>0</td>\n",
       "      <td>0</td>\n",
       "      <td>0.000000</td>\n",
       "      <td>4.972331</td>\n",
       "      <td>1</td>\n",
       "      <td>0</td>\n",
       "      <td>0</td>\n",
       "      <td>1</td>\n",
       "      <td>0</td>\n",
       "    </tr>\n",
       "    <tr>\n",
       "      <th>4</th>\n",
       "      <td>850</td>\n",
       "      <td>43</td>\n",
       "      <td>2</td>\n",
       "      <td>1</td>\n",
       "      <td>1</td>\n",
       "      <td>1</td>\n",
       "      <td>0</td>\n",
       "      <td>5.098685</td>\n",
       "      <td>4.898095</td>\n",
       "      <td>0</td>\n",
       "      <td>0</td>\n",
       "      <td>1</td>\n",
       "      <td>1</td>\n",
       "      <td>0</td>\n",
       "    </tr>\n",
       "  </tbody>\n",
       "</table>\n",
       "</div>"
      ],
      "text/plain": [
       "   CreditScore  Age  Tenure  NumOfProducts  HasCrCard  IsActiveMember  Exited  \\\n",
       "0          619   42       2              1          1               1       1   \n",
       "1          608   41       1              1          0               1       0   \n",
       "2          502   42       8              3          1               0       1   \n",
       "3          699   39       1              2          0               0       0   \n",
       "4          850   43       2              1          1               1       0   \n",
       "\n",
       "   Log_Balance  Log_Est_Salary  Geography_France  Geography_Germany  \\\n",
       "0     0.000000        5.005823                 1                  0   \n",
       "1     4.923290        5.051321                 0                  0   \n",
       "2     5.203201        5.056648                 1                  0   \n",
       "3     0.000000        4.972331                 1                  0   \n",
       "4     5.098685        4.898095                 0                  0   \n",
       "\n",
       "   Geography_Spain  Gender_Female  Gender_Male  \n",
       "0                0              1            0  \n",
       "1                1              1            0  \n",
       "2                0              1            0  \n",
       "3                0              1            0  \n",
       "4                1              1            0  "
      ]
     },
     "execution_count": 13,
     "metadata": {},
     "output_type": "execute_result"
    }
   ],
   "source": [
    "data_new.head()"
   ]
  },
  {
   "cell_type": "code",
   "execution_count": 14,
   "metadata": {},
   "outputs": [],
   "source": [
    "#Separating the features and target variables\n",
    "x = data_new.drop('Exited',axis=1)\n",
    "y = data_new['Exited']"
   ]
  },
  {
   "cell_type": "code",
   "execution_count": 15,
   "metadata": {},
   "outputs": [],
   "source": [
    "#Splitting into train & test sets \n",
    "x_train,x_test,y_train,y_test = train_test_split(x, y, test_size=0.2, random_state=36)"
   ]
  },
  {
   "cell_type": "markdown",
   "metadata": {},
   "source": [
    "### Oversampling and Undersampling.\n",
    "\n",
    "_**Oversampling and undersampling** in data analysis are techniques used to adjust the class distribution of a data set (i.e. the ratio between the different classes/categories represented)._\n",
    "\n",
    "Why Sampling?\n",
    " - To Overcome the issue Class imbalance we do sampling either Under or Oversampling data. So that we can overcome the bias toward one class during the training of our MachineLearning Models.\n",
    "\n",
    "**Note - We already observed that class imbalance exists from our exploratory analysis.**"
   ]
  },
  {
   "cell_type": "markdown",
   "metadata": {},
   "source": [
    "**One approach to addressing imbalanced datasets is to oversample the minority class. The simplest approach involves duplicating examples in the minority class, although these examples don’t add any new information to the model. Instead, new examples can be synthesized from the existing examples. This is a type of data augmentation for the minority class and is referred to as the Synthetic Minority Oversampling Technique, or SMOTE for short.**"
   ]
  },
  {
   "cell_type": "code",
   "execution_count": 16,
   "metadata": {},
   "outputs": [],
   "source": [
    "def oversample_using_smote(xtrain, ytrain):\n",
    "    print(\"IN TRAINING SAMPLE:\")\n",
    "    print(\"Before OverSampling, counts of label '0': {}\".format(sum(ytrain == 0))) \n",
    "    print(\"Before OverSampling, counts of label '1': {} \\n\".format(sum(ytrain == 1))) \n",
    "    sm = SMOTE(random_state=2)\n",
    "    xtrain_sm, ytrain_sm = sm.fit_resample(xtrain, ytrain.ravel())\n",
    "    \n",
    "    print(\"After OverSampling, counts of label '0': {}\".format(sum(ytrain_sm == 0))) \n",
    "    print(\"After OverSampling, counts of label '1': {}\".format(sum(ytrain_sm == 1))) \n",
    "\n",
    "    return xtrain_sm, ytrain_sm"
   ]
  },
  {
   "cell_type": "code",
   "execution_count": 17,
   "metadata": {},
   "outputs": [
    {
     "name": "stdout",
     "output_type": "stream",
     "text": [
      "IN TRAINING SAMPLE:\n",
      "Before OverSampling, counts of label '0': 6404\n",
      "Before OverSampling, counts of label '1': 1596 \n",
      "\n",
      "After OverSampling, counts of label '0': 6404\n",
      "After OverSampling, counts of label '1': 6404\n"
     ]
    }
   ],
   "source": [
    "x_train_new, y_train_new = oversample_using_smote(x_train,y_train)"
   ]
  },
  {
   "cell_type": "code",
   "execution_count": 18,
   "metadata": {},
   "outputs": [],
   "source": [
    "## retain feature names to observe in the model summary\n",
    "x_train_new = pd.DataFrame(x_train_new, columns=x_train.columns)"
   ]
  },
  {
   "cell_type": "markdown",
   "metadata": {},
   "source": [
    "### GLM"
   ]
  },
  {
   "cell_type": "code",
   "execution_count": 19,
   "metadata": {},
   "outputs": [],
   "source": [
    "## we need to explicitly add the intercept as the statsmodels package doesn't include it\n",
    "x_train_new = sm.add_constant(x_train_new)\n",
    "x_test = sm.add_constant(x_test)"
   ]
  },
  {
   "cell_type": "code",
   "execution_count": 20,
   "metadata": {},
   "outputs": [],
   "source": [
    "log_reg = sm.GLM(y_train_new, x_train_new, family=sm.families.Binomial())"
   ]
  },
  {
   "cell_type": "code",
   "execution_count": 21,
   "metadata": {},
   "outputs": [
    {
     "name": "stdout",
     "output_type": "stream",
     "text": [
      "                Results: Generalized linear model\n",
      "==================================================================\n",
      "Model:               GLM              AIC:            14365.7274  \n",
      "Link Function:       logit            BIC:            -106680.6045\n",
      "Dependent Variable:  y                Log-Likelihood: -7170.9     \n",
      "Date:                2021-05-26 19:02 LL-Null:        -8877.8     \n",
      "No. Observations:    12808            Deviance:       14342.      \n",
      "Df Model:            11               Pearson chi2:   1.33e+04    \n",
      "Df Residuals:        12796            Scale:          1.0000      \n",
      "Method:              IRLS                                         \n",
      "------------------------------------------------------------------\n",
      "                   Coef.  Std.Err.    z     P>|z|   [0.025  0.975]\n",
      "------------------------------------------------------------------\n",
      "const             -1.7506   0.1673 -10.4626 0.0000 -2.0785 -1.4226\n",
      "CreditScore       -0.0005   0.0002  -2.6260 0.0086 -0.0010 -0.0001\n",
      "Age                0.0823   0.0022  37.8899 0.0000  0.0781  0.0866\n",
      "Tenure            -0.0228   0.0073  -3.1143 0.0018 -0.0371 -0.0084\n",
      "NumOfProducts     -0.1333   0.0341  -3.9124 0.0001 -0.2001 -0.0665\n",
      "HasCrCard         -0.0521   0.0475  -1.0953 0.2734 -0.1453  0.0411\n",
      "IsActiveMember    -1.0691   0.0440 -24.2984 0.0000 -1.1554 -0.9829\n",
      "Log_Balance        0.0850   0.0104   8.2079 0.0000  0.0647  0.1053\n",
      "Log_Est_Salary     0.1527   0.0504   3.0292 0.0025  0.0539  0.2516\n",
      "Geography_France  -0.9160   0.0621 -14.7482 0.0000 -1.0378 -0.7943\n",
      "Geography_Germany  0.0157   0.0676   0.2326 0.8161 -0.1168  0.1483\n",
      "Geography_Spain   -0.8503   0.0656 -12.9541 0.0000 -0.9789 -0.7216\n",
      "Gender_Female     -0.5631   0.0864  -6.5175 0.0000 -0.7324 -0.3937\n",
      "Gender_Male       -1.1875   0.0865 -13.7328 0.0000 -1.3570 -1.0180\n",
      "==================================================================\n",
      "\n"
     ]
    }
   ],
   "source": [
    "log_results = log_reg.fit()\n",
    "print(log_results.summary2())"
   ]
  },
  {
   "cell_type": "markdown",
   "metadata": {},
   "source": [
    "** the co-efficients can be interpreted as - for every unit change in 'x', the olog of the odds ratio of the success of 'y' (whether the customer will churn or not churn) changes 'beta' times. So - For every unit change in Age, the log of the odds ratio of Churn Likelihood increases by 0.0823 times. It is the opposite for, say, Tenure, which has a negative coefficient **"
   ]
  },
  {
   "cell_type": "markdown",
   "metadata": {},
   "source": [
    "** Taking a significance level of 5%, we remove features whose p-value>0.05 as they are not significant in contributing to the prediction model **"
   ]
  },
  {
   "cell_type": "markdown",
   "metadata": {},
   "source": [
    "** Performing Stepwise Backward Propagation to remove the insignificant features **"
   ]
  },
  {
   "cell_type": "code",
   "execution_count": 22,
   "metadata": {},
   "outputs": [],
   "source": [
    "x_train_new = x_train_new.drop('Geography_Germany', axis=1)\n",
    "x_test = x_test.drop('Geography_Germany', axis=1)"
   ]
  },
  {
   "cell_type": "code",
   "execution_count": 23,
   "metadata": {},
   "outputs": [
    {
     "name": "stdout",
     "output_type": "stream",
     "text": [
      "                Results: Generalized linear model\n",
      "=================================================================\n",
      "Model:              GLM              AIC:            14365.7274  \n",
      "Link Function:      logit            BIC:            -106680.6045\n",
      "Dependent Variable: y                Log-Likelihood: -7170.9     \n",
      "Date:               2021-05-26 19:03 LL-Null:        -8877.8     \n",
      "No. Observations:   12808            Deviance:       14342.      \n",
      "Df Model:           11               Pearson chi2:   1.33e+04    \n",
      "Df Residuals:       12796            Scale:          1.0000      \n",
      "Method:             IRLS                                         \n",
      "-----------------------------------------------------------------\n",
      "                  Coef.  Std.Err.    z     P>|z|   [0.025  0.975]\n",
      "-----------------------------------------------------------------\n",
      "const            -1.7401   0.2069  -8.4090 0.0000 -2.1457 -1.3345\n",
      "CreditScore      -0.0005   0.0002  -2.6260 0.0086 -0.0010 -0.0001\n",
      "Age               0.0823   0.0022  37.8899 0.0000  0.0781  0.0866\n",
      "Tenure           -0.0228   0.0073  -3.1143 0.0018 -0.0371 -0.0084\n",
      "NumOfProducts    -0.1333   0.0341  -3.9124 0.0001 -0.2001 -0.0665\n",
      "HasCrCard        -0.0521   0.0475  -1.0953 0.2734 -0.1453  0.0411\n",
      "IsActiveMember   -1.0691   0.0440 -24.2984 0.0000 -1.1554 -0.9829\n",
      "Log_Balance       0.0850   0.0104   8.2079 0.0000  0.0647  0.1053\n",
      "Log_Est_Salary    0.1527   0.0504   3.0292 0.0025  0.0539  0.2516\n",
      "Geography_France -0.9317   0.0560 -16.6276 0.0000 -1.0416 -0.8219\n",
      "Geography_Spain  -0.8660   0.0642 -13.4816 0.0000 -0.9919 -0.7401\n",
      "Gender_Female    -0.5578   0.1057  -5.2772 0.0000 -0.7650 -0.3506\n",
      "Gender_Male      -1.1823   0.1057 -11.1810 0.0000 -1.3895 -0.9750\n",
      "=================================================================\n",
      "\n"
     ]
    }
   ],
   "source": [
    "log_reg = sm.GLM(y_train_new, x_train_new, family=sm.families.Binomial())\n",
    "log_results = log_reg.fit()\n",
    "print(log_results.summary2())"
   ]
  },
  {
   "cell_type": "code",
   "execution_count": 24,
   "metadata": {},
   "outputs": [],
   "source": [
    "x_train_new = x_train_new.drop('HasCrCard', axis=1)\n",
    "x_test = x_test.drop('HasCrCard', axis=1)"
   ]
  },
  {
   "cell_type": "code",
   "execution_count": 25,
   "metadata": {},
   "outputs": [
    {
     "name": "stdout",
     "output_type": "stream",
     "text": [
      "                Results: Generalized linear model\n",
      "=================================================================\n",
      "Model:              GLM              AIC:            14364.9270  \n",
      "Link Function:      logit            BIC:            -106688.8628\n",
      "Dependent Variable: y                Log-Likelihood: -7171.5     \n",
      "Date:               2021-05-26 19:03 LL-Null:        -8877.8     \n",
      "No. Observations:   12808            Deviance:       14343.      \n",
      "Df Model:           10               Pearson chi2:   1.33e+04    \n",
      "Df Residuals:       12797            Scale:          1.0000      \n",
      "Method:             IRLS                                         \n",
      "-----------------------------------------------------------------\n",
      "                  Coef.  Std.Err.    z     P>|z|   [0.025  0.975]\n",
      "-----------------------------------------------------------------\n",
      "const            -1.7681   0.2053  -8.6113 0.0000 -2.1705 -1.3657\n",
      "CreditScore      -0.0005   0.0002  -2.6186 0.0088 -0.0010 -0.0001\n",
      "Age               0.0824   0.0022  37.8956 0.0000  0.0781  0.0866\n",
      "Tenure           -0.0229   0.0073  -3.1284 0.0018 -0.0372 -0.0085\n",
      "NumOfProducts    -0.1334   0.0341  -3.9151 0.0001 -0.2002 -0.0666\n",
      "IsActiveMember   -1.0680   0.0440 -24.2832 0.0000 -1.1543 -0.9818\n",
      "Log_Balance       0.0853   0.0104   8.2453 0.0000  0.0651  0.1056\n",
      "Log_Est_Salary    0.1531   0.0504   3.0373 0.0024  0.0543  0.2519\n",
      "Geography_France -0.9305   0.0560 -16.6105 0.0000 -1.0403 -0.8207\n",
      "Geography_Spain  -0.8635   0.0642 -13.4522 0.0000 -0.9893 -0.7377\n",
      "Gender_Female    -0.5724   0.1048  -5.4596 0.0000 -0.7779 -0.3669\n",
      "Gender_Male      -1.1957   0.1050 -11.3853 0.0000 -1.4015 -0.9898\n",
      "=================================================================\n",
      "\n"
     ]
    }
   ],
   "source": [
    "log_reg = sm.GLM(y_train_new, x_train_new, family=sm.families.Binomial())\n",
    "log_results = log_reg.fit()\n",
    "print(log_results.summary2())"
   ]
  },
  {
   "cell_type": "code",
   "execution_count": 26,
   "metadata": {},
   "outputs": [
    {
     "data": {
      "text/plain": [
       "5581    0.674021\n",
       "3466    0.191057\n",
       "4483    0.795386\n",
       "5366    0.583169\n",
       "dtype: float64"
      ]
     },
     "execution_count": 26,
     "metadata": {},
     "output_type": "execute_result"
    }
   ],
   "source": [
    "predictions = log_results.predict(x_test)\n",
    "predictions[1:5]"
   ]
  },
  {
   "cell_type": "markdown",
   "metadata": {},
   "source": [
    "** The predicted values gives you the likelihood of the event, in this case - the likelihood of whether the person will churn or not. The first observation indicates that person has a 67% churn rate while the second person has a 19% churn rate **"
   ]
  },
  {
   "cell_type": "code",
   "execution_count": 27,
   "metadata": {},
   "outputs": [],
   "source": [
    "threshold=0.5\n",
    "predicted_classes = np.where(predictions>threshold, 1, 0)"
   ]
  },
  {
   "cell_type": "markdown",
   "metadata": {},
   "source": [
    "** lets evaluate the model performance **"
   ]
  },
  {
   "cell_type": "markdown",
   "metadata": {},
   "source": [
    "Evaluation metrics:\n",
    "\n",
    "- **Accuracy score** - ratio of number of correct predictions to the total number of input samples\n",
    "\n",
    "- **ROC-AUC** - ROC is a probability curve and AUC represents the degree or measure of separability; tells how much the model is capable of distinguishing between classes\n",
    "\n",
    "- **Confusion matrix** - a kind of contingency table, with two dimensions (\"actual\" and \"predicted\"), and identical sets of \"classes\" in both dimensions (each combination of dimension and class is a variable in the contingency table)\n",
    "\n",
    "- **Precision** - quantifies the number of positive class predictions that actually belong to the positive class\n",
    "\n",
    "- **Recall** - quantifies the number of positive class predictions made out of all positive examples in the dataset\n",
    "\n",
    "- **F1-score** - harmonic mean of precision and recall and a better measure than accuracy score"
   ]
  },
  {
   "cell_type": "code",
   "execution_count": 28,
   "metadata": {},
   "outputs": [
    {
     "data": {
      "text/plain": [
       "0.708"
      ]
     },
     "execution_count": 28,
     "metadata": {},
     "output_type": "execute_result"
    }
   ],
   "source": [
    "accuracy_score(y_test, predicted_classes)"
   ]
  },
  {
   "cell_type": "code",
   "execution_count": 29,
   "metadata": {},
   "outputs": [
    {
     "data": {
      "text/html": [
       "<div>\n",
       "<style scoped>\n",
       "    .dataframe tbody tr th:only-of-type {\n",
       "        vertical-align: middle;\n",
       "    }\n",
       "\n",
       "    .dataframe tbody tr th {\n",
       "        vertical-align: top;\n",
       "    }\n",
       "\n",
       "    .dataframe thead th {\n",
       "        text-align: right;\n",
       "    }\n",
       "</style>\n",
       "<table border=\"1\" class=\"dataframe\">\n",
       "  <thead>\n",
       "    <tr style=\"text-align: right;\">\n",
       "      <th></th>\n",
       "      <th>Predicted 0</th>\n",
       "      <th>Predicted 1</th>\n",
       "    </tr>\n",
       "  </thead>\n",
       "  <tbody>\n",
       "    <tr>\n",
       "      <th>Actual 0</th>\n",
       "      <td>1124</td>\n",
       "      <td>435</td>\n",
       "    </tr>\n",
       "    <tr>\n",
       "      <th>Actual 1</th>\n",
       "      <td>149</td>\n",
       "      <td>292</td>\n",
       "    </tr>\n",
       "  </tbody>\n",
       "</table>\n",
       "</div>"
      ],
      "text/plain": [
       "          Predicted 0  Predicted 1\n",
       "Actual 0         1124          435\n",
       "Actual 1          149          292"
      ]
     },
     "execution_count": 29,
     "metadata": {},
     "output_type": "execute_result"
    }
   ],
   "source": [
    "confmat = confusion_matrix(y_test,predicted_classes)\n",
    "conf = pd.DataFrame(confmat, index=['Actual 0','Actual 1'],columns=['Predicted 0','Predicted 1'])\n",
    "conf"
   ]
  },
  {
   "cell_type": "code",
   "execution_count": 30,
   "metadata": {},
   "outputs": [
    {
     "name": "stdout",
     "output_type": "stream",
     "text": [
      "              precision    recall  f1-score   support\n",
      "\n",
      "           0       0.88      0.72      0.79      1559\n",
      "           1       0.40      0.66      0.50       441\n",
      "\n",
      "   micro avg       0.71      0.71      0.71      2000\n",
      "   macro avg       0.64      0.69      0.65      2000\n",
      "weighted avg       0.78      0.71      0.73      2000\n",
      "\n"
     ]
    }
   ],
   "source": [
    "print(classification_report(y_test,predicted_classes))"
   ]
  },
  {
   "cell_type": "code",
   "execution_count": 31,
   "metadata": {},
   "outputs": [
    {
     "name": "stdout",
     "output_type": "stream",
     "text": [
      "ROC Score is 0.7478716951822424\n"
     ]
    }
   ],
   "source": [
    "#Get roc auc score\n",
    "roc_score = roc_auc_score(y_test, predictions)\n",
    "print('ROC Score is '+str(roc_score))\n",
    "#Get false positive rate, true positive rate and threshold using roc curve\n",
    "falsePositiveRate, truePositiverate, threshold = roc_curve(y_test, predictions)"
   ]
  },
  {
   "cell_type": "code",
   "execution_count": 32,
   "metadata": {},
   "outputs": [
    {
     "data": {
      "image/png": "[encoded data removed]",
      "text/plain": [
       "<Figure size 432x288 with 1 Axes>"
      ]
     },
     "metadata": {},
     "output_type": "display_data"
    }
   ],
   "source": [
    "# Plotting ROC curve\n",
    "\n",
    "plt.title('Receiver Operating Characteristic(ROC)')\n",
    "plt.plot(falsePositiveRate, truePositiverate, 'b', label = 'AUC = %0.2f' % roc_score)\n",
    "plt.legend(loc = 'lower right')\n",
    "plt.plot([0, 1], [0, 1],'r--')\n",
    "plt.xlim([0, 1])\n",
    "plt.ylim([0, 1])\n",
    "plt.ylabel('True Positive Rate')\n",
    "plt.xlabel('False Positive Rate')\n",
    "plt.show()"
   ]
  },
  {
   "cell_type": "markdown",
   "metadata": {},
   "source": [
    "** The ROC curve is a nice way to observe how any predictive model can distinguish between true positives and negatives - it does it by plotting TPR with FPR. The ROC-curve gives you a set of thresholds out of which the optimum threshold can be chosen **"
   ]
  },
  {
   "cell_type": "code",
   "execution_count": 33,
   "metadata": {},
   "outputs": [
    {
     "name": "stdout",
     "output_type": "stream",
     "text": [
      "0.43203143178694625\n"
     ]
    }
   ],
   "source": [
    "optimal_idx = np.argmax(truePositiverate-falsePositiveRate)\n",
    "optimal_threshold = threshold[optimal_idx]\n",
    "print(optimal_threshold)"
   ]
  },
  {
   "cell_type": "code",
   "execution_count": 34,
   "metadata": {},
   "outputs": [],
   "source": [
    "## updating the classes with the optimal threhsold\n",
    "predicted_classes = np.where(predictions>optimal_threshold, 1, 0)"
   ]
  },
  {
   "cell_type": "code",
   "execution_count": 35,
   "metadata": {},
   "outputs": [
    {
     "data": {
      "text/plain": [
       "0.659"
      ]
     },
     "execution_count": 35,
     "metadata": {},
     "output_type": "execute_result"
    }
   ],
   "source": [
    "accuracy_score(y_test, predicted_classes)"
   ]
  },
  {
   "cell_type": "code",
   "execution_count": 36,
   "metadata": {},
   "outputs": [
    {
     "data": {
      "text/html": [
       "<div>\n",
       "<style scoped>\n",
       "    .dataframe tbody tr th:only-of-type {\n",
       "        vertical-align: middle;\n",
       "    }\n",
       "\n",
       "    .dataframe tbody tr th {\n",
       "        vertical-align: top;\n",
       "    }\n",
       "\n",
       "    .dataframe thead th {\n",
       "        text-align: right;\n",
       "    }\n",
       "</style>\n",
       "<table border=\"1\" class=\"dataframe\">\n",
       "  <thead>\n",
       "    <tr style=\"text-align: right;\">\n",
       "      <th></th>\n",
       "      <th>Predicted 0</th>\n",
       "      <th>Predicted 1</th>\n",
       "    </tr>\n",
       "  </thead>\n",
       "  <tbody>\n",
       "    <tr>\n",
       "      <th>Actual 0</th>\n",
       "      <td>984</td>\n",
       "      <td>575</td>\n",
       "    </tr>\n",
       "    <tr>\n",
       "      <th>Actual 1</th>\n",
       "      <td>107</td>\n",
       "      <td>334</td>\n",
       "    </tr>\n",
       "  </tbody>\n",
       "</table>\n",
       "</div>"
      ],
      "text/plain": [
       "          Predicted 0  Predicted 1\n",
       "Actual 0          984          575\n",
       "Actual 1          107          334"
      ]
     },
     "execution_count": 36,
     "metadata": {},
     "output_type": "execute_result"
    }
   ],
   "source": [
    "confusion_mat = confusion_matrix(y_test,predicted_classes)\n",
    "confusion_df  = pd.DataFrame(confusion_mat,index=['Actual 0', 'Actual 1'],columns=['Predicted 0','Predicted 1'])\n",
    "confusion_df"
   ]
  },
  {
   "cell_type": "markdown",
   "metadata": {},
   "source": [
    "** The number of actual '1's being classified as '1' has gone up from 292 to 334 **"
   ]
  },
  {
   "cell_type": "code",
   "execution_count": 37,
   "metadata": {},
   "outputs": [
    {
     "name": "stdout",
     "output_type": "stream",
     "text": [
      "              precision    recall  f1-score   support\n",
      "\n",
      "           0       0.90      0.63      0.74      1559\n",
      "           1       0.37      0.76      0.49       441\n",
      "\n",
      "   micro avg       0.66      0.66      0.66      2000\n",
      "   macro avg       0.63      0.69      0.62      2000\n",
      "weighted avg       0.78      0.66      0.69      2000\n",
      "\n"
     ]
    }
   ],
   "source": [
    "print(classification_report(y_test,predicted_classes))"
   ]
  },
  {
   "cell_type": "markdown",
   "metadata": {},
   "source": [
    "** Although Accuracy has dropped by a very small % (~ 0.001), it isn't the be-all, end-all of model metrics, especially with an imbalanced dataset - hence the importance of other metrics such as Recall, Precision and F1-score. Recall has improved from from 66% to 76% - with the price of Precision dropping. There will always be a trade-off between these two metrics and that depends on the business problem at hand **"
   ]
  },
  {
   "cell_type": "markdown",
   "metadata": {},
   "source": [
    "** we use the final set of features to run the model using sklearn's LogisticRegression model and save the model **"
   ]
  },
  {
   "cell_type": "markdown",
   "metadata": {},
   "source": [
    "### Logistic Regression"
   ]
  },
  {
   "cell_type": "code",
   "execution_count": 38,
   "metadata": {},
   "outputs": [
    {
     "name": "stderr",
     "output_type": "stream",
     "text": [
      "C:\\Users\\VK\\Anaconda3\\lib\\site-packages\\sklearn\\linear_model\\logistic.py:433: FutureWarning: Default solver will be changed to 'lbfgs' in 0.22. Specify a solver to silence this warning.\n",
      "  FutureWarning)\n"
     ]
    },
    {
     "data": {
      "text/plain": [
       "LogisticRegression(C=1.0, class_weight=None, dual=False, fit_intercept=True,\n",
       "          intercept_scaling=1, max_iter=2000, multi_class='warn',\n",
       "          n_jobs=None, penalty='l2', random_state=None, solver='warn',\n",
       "          tol=0.0001, verbose=0, warm_start=False)"
      ]
     },
     "execution_count": 38,
     "metadata": {},
     "output_type": "execute_result"
    }
   ],
   "source": [
    "#Instantiating model and fitting the train variables\n",
    "lrclassifier = LogisticRegression(max_iter=2000)\n",
    "lrclassifier.fit(x_train_new,y_train_new)"
   ]
  },
  {
   "cell_type": "markdown",
   "metadata": {},
   "source": [
    "**max_iter parameter refers to the maximum number of iterations taken for the solvers (algorithms) to converge**"
   ]
  },
  {
   "cell_type": "code",
   "execution_count": 39,
   "metadata": {},
   "outputs": [],
   "source": [
    "#Predicting target values for x_test\n",
    "lrpredict = lrclassifier.predict(x_test)"
   ]
  },
  {
   "cell_type": "code",
   "execution_count": 40,
   "metadata": {},
   "outputs": [
    {
     "data": {
      "text/plain": [
       "array([1, 0, 1, 1], dtype=int64)"
      ]
     },
     "execution_count": 40,
     "metadata": {},
     "output_type": "execute_result"
    }
   ],
   "source": [
    "lrpredict[1:5]"
   ]
  },
  {
   "cell_type": "code",
   "execution_count": 41,
   "metadata": {},
   "outputs": [],
   "source": [
    "#Saving the best model as pickle file\n",
    "filename = 'Final_Model.sav'\n",
    "pickle.dump(lrclassifier, open(filename, 'wb'))"
   ]
  },
  {
   "cell_type": "markdown",
   "metadata": {},
   "source": [
    "** end of notebook **"
   ]
  }
 ],
 "metadata": {
  "kernelspec": {
   "display_name": "Python 3",
   "language": "python",
   "name": "python3"
  },
  "language_info": {
   "codemirror_mode": {
    "name": "ipython",
    "version": 3
   },
   "file_extension": ".py",
   "mimetype": "text/x-python",
   "name": "python",
   "nbconvert_exporter": "python",
   "pygments_lexer": "ipython3",
   "version": "3.6.5"
  }
 },
 "nbformat": 4,
 "nbformat_minor": 5
}
